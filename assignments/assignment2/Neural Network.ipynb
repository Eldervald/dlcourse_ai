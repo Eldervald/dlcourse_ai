{
 "cells": [
  {
   "cell_type": "markdown",
   "metadata": {},
   "source": [
    "# Задание 2.1 - Нейронные сети\n",
    "\n",
    "В этом задании вы реализуете и натренируете настоящую нейроную сеть своими руками!\n",
    "\n",
    "В некотором смысле это будет расширением прошлого задания - нам нужно просто составить несколько линейных классификаторов вместе!\n",
    "\n",
    "<img src=\"https://i.redd.it/n9fgba8b0qr01.png\" alt=\"Stack_more_layers\" width=\"400px\"/>"
   ]
  },
  {
   "cell_type": "code",
   "execution_count": 1,
   "metadata": {},
   "outputs": [],
   "source": [
    "import numpy as np\n",
    "import matplotlib.pyplot as plt\n",
    "\n",
    "%matplotlib inline\n",
    "\n",
    "%load_ext autoreload\n",
    "%autoreload 2"
   ]
  },
  {
   "cell_type": "code",
   "execution_count": 2,
   "metadata": {},
   "outputs": [],
   "source": [
    "from dataset import load_svhn, random_split_train_val\n",
    "from gradient_check import check_layer_gradient, check_layer_param_gradient, check_model_gradient\n",
    "from layers import FullyConnectedLayer, ReLULayer\n",
    "from model import TwoLayerNet\n",
    "from trainer import Trainer, Dataset\n",
    "from optim import SGD, MomentumSGD\n",
    "from metrics import multiclass_accuracy"
   ]
  },
  {
   "cell_type": "markdown",
   "metadata": {},
   "source": [
    "# Загружаем данные\n",
    "\n",
    "И разделяем их на training и validation."
   ]
  },
  {
   "cell_type": "code",
   "execution_count": 3,
   "metadata": {},
   "outputs": [],
   "source": [
    "def prepare_for_neural_network(train_X, test_X):\n",
    "    train_flat = train_X.reshape(train_X.shape[0], -1).astype(np.float64) / 255.0\n",
    "    test_flat = test_X.reshape(test_X.shape[0], -1).astype(np.float64) / 255.0\n",
    "    \n",
    "    # Subtract mean\n",
    "    mean_image = np.mean(train_flat, axis = 0)\n",
    "    train_flat -= mean_image\n",
    "    test_flat -= mean_image\n",
    "    \n",
    "    return train_flat, test_flat\n",
    "    \n",
    "train_X, train_y, test_X, test_y = load_svhn(\"data\", max_train=10000, max_test=1000)    \n",
    "train_X, test_X = prepare_for_neural_network(train_X, test_X)\n",
    "# Split train into train and val\n",
    "train_X, train_y, val_X, val_y = random_split_train_val(train_X, train_y, num_val = 1000)"
   ]
  },
  {
   "cell_type": "markdown",
   "metadata": {},
   "source": [
    "# Как всегда, начинаем с кирпичиков\n",
    "\n",
    "Мы будем реализовывать необходимые нам слои по очереди. Каждый слой должен реализовать:\n",
    "- прямой проход (forward pass), который генерирует выход слоя по входу и запоминает необходимые данные\n",
    "- обратный проход (backward pass), который получает градиент по выходу слоя и вычисляет градиент по входу и по параметрам\n",
    "\n",
    "Начнем с ReLU, у которого параметров нет."
   ]
  },
  {
   "cell_type": "code",
   "execution_count": 52,
   "metadata": {
    "scrolled": false
   },
   "outputs": [
    {
     "name": "stdout",
     "output_type": "stream",
     "text": [
      "Gradient check passed!\n"
     ]
    }
   ],
   "source": [
    "# TODO: Implement ReLULayer layer in layers.py\n",
    "# Note: you'll need to copy implementation of the gradient_check function from the previous assignment\n",
    "\n",
    "X = np.array([[1, -2, 3],\n",
    "              [-1, 2, 0.1]\n",
    "              ])\n",
    "\n",
    "assert check_layer_gradient(ReLULayer(), X)"
   ]
  },
  {
   "cell_type": "markdown",
   "metadata": {},
   "source": [
    "А теперь реализуем полносвязный слой (fully connected layer), у которого будет два массива параметров: W (weights) и B (bias).\n",
    "\n",
    "Все параметры наши слои будут использовать для параметров специальный класс `Param`, в котором будут храниться значения параметров и градиенты этих параметров, вычисляемые во время обратного прохода.\n",
    "\n",
    "Это даст возможность аккумулировать (суммировать) градиенты из разных частей функции потерь, например, из cross-entropy loss и regularization loss."
   ]
  },
  {
   "cell_type": "code",
   "execution_count": 83,
   "metadata": {},
   "outputs": [
    {
     "name": "stdout",
     "output_type": "stream",
     "text": [
      "Gradient check passed!\n",
      "Gradient check passed!\n",
      "Gradient check passed!\n"
     ]
    }
   ],
   "source": [
    "# TODO: Implement FullyConnected layer forward and backward methods\n",
    "assert check_layer_gradient(FullyConnectedLayer(3, 4), X)\n",
    "# TODO: Implement storing gradients for W and B\n",
    "assert check_layer_param_gradient(FullyConnectedLayer(3, 4), X, 'W')\n",
    "assert check_layer_param_gradient(FullyConnectedLayer(3, 4), X, 'B')"
   ]
  },
  {
   "cell_type": "markdown",
   "metadata": {},
   "source": [
    "## Создаем нейронную сеть\n",
    "\n",
    "Теперь мы реализуем простейшую нейронную сеть с двумя полносвязным слоями и нелинейностью ReLU. Реализуйте функцию `compute_loss_and_gradients`, она должна запустить прямой и обратный проход через оба слоя для вычисления градиентов.\n",
    "\n",
    "Не забудьте реализовать очистку градиентов в начале функции."
   ]
  },
  {
   "cell_type": "code",
   "execution_count": 90,
   "metadata": {},
   "outputs": [
    {
     "name": "stdout",
     "output_type": "stream",
     "text": [
      "Checking gradient for 0_W\n",
      "Gradient check passed!\n",
      "Checking gradient for 0_B\n",
      "Gradient check passed!\n",
      "Checking gradient for 2_W\n",
      "Gradient check passed!\n",
      "Checking gradient for 2_B\n",
      "Gradient check passed!\n"
     ]
    },
    {
     "data": {
      "text/plain": [
       "True"
      ]
     },
     "execution_count": 90,
     "metadata": {},
     "output_type": "execute_result"
    }
   ],
   "source": [
    "# TODO: In model.py, implement compute_loss_and_gradients function\n",
    "model = TwoLayerNet(n_input = train_X.shape[1], n_output = 10, hidden_layer_size = 3, reg = 0)\n",
    "loss = model.compute_loss_and_gradients(train_X[:2], train_y[:2])\n",
    "\n",
    "# TODO Now implement backward pass and aggregate all of the params\n",
    "check_model_gradient(model, train_X[:2], train_y[:2])"
   ]
  },
  {
   "cell_type": "markdown",
   "metadata": {},
   "source": [
    "Теперь добавьте к модели регуляризацию - она должна прибавляться к loss и делать свой вклад в градиенты."
   ]
  },
  {
   "cell_type": "code",
   "execution_count": 91,
   "metadata": {},
   "outputs": [
    {
     "name": "stdout",
     "output_type": "stream",
     "text": [
      "Checking gradient for 0_W\n",
      "Gradient check passed!\n",
      "Checking gradient for 0_B\n",
      "Gradient check passed!\n",
      "Checking gradient for 2_W\n",
      "Gradient check passed!\n",
      "Checking gradient for 2_B\n",
      "Gradient check passed!\n"
     ]
    },
    {
     "data": {
      "text/plain": [
       "True"
      ]
     },
     "execution_count": 91,
     "metadata": {},
     "output_type": "execute_result"
    }
   ],
   "source": [
    "# TODO Now implement l2 regularization in the forward and backward pass\n",
    "model_with_reg = TwoLayerNet(n_input = train_X.shape[1], n_output = 10, hidden_layer_size = 3, reg = 1e1)\n",
    "loss_with_reg = model_with_reg.compute_loss_and_gradients(train_X[:2], train_y[:2])\n",
    "assert loss_with_reg > loss and not np.isclose(loss_with_reg, loss), \\\n",
    "    \"Loss with regularization (%2.4f) should be higher than without it (%2.4f)!\" % (loss, loss_with_reg)\n",
    "\n",
    "check_model_gradient(model_with_reg, train_X[:2], train_y[:2])"
   ]
  },
  {
   "cell_type": "markdown",
   "metadata": {},
   "source": [
    "Также реализуем функцию предсказания (вычисления значения) модели на новых данных.\n",
    "\n",
    "Какое значение точности мы ожидаем увидеть до начала тренировки?"
   ]
  },
  {
   "cell_type": "code",
   "execution_count": 93,
   "metadata": {},
   "outputs": [
    {
     "data": {
      "text/plain": [
       "0.16666666666666666"
      ]
     },
     "execution_count": 93,
     "metadata": {},
     "output_type": "execute_result"
    }
   ],
   "source": [
    "# Finally, implement predict function!\n",
    "\n",
    "# TODO: Implement predict function\n",
    "# What would be the value we expect?\n",
    "multiclass_accuracy(model_with_reg.predict(train_X[:30]), train_y[:30]) "
   ]
  },
  {
   "cell_type": "markdown",
   "metadata": {},
   "source": [
    "# Допишем код для процесса тренировки\n",
    "\n",
    "Если все реализовано корректно, значение функции ошибки должно уменьшаться с каждой эпохой, пусть и медленно. Не беспокойтесь пока про validation accuracy."
   ]
  },
  {
   "cell_type": "code",
   "execution_count": 182,
   "metadata": {},
   "outputs": [],
   "source": [
    "model = TwoLayerNet(n_input = train_X.shape[1], n_output = 10, hidden_layer_size = 100, reg = 1e-3)\n",
    "dataset = Dataset(train_X, train_y, val_X, val_y)\n",
    "trainer = Trainer(model, dataset, SGD(), learning_rate = 1e-2)\n",
    "\n",
    "# TODO Implement missing pieces in Trainer.fit function\n",
    "# You should expect loss to go down every epoch, even if it's slow\n",
    "loss_history, train_history, val_history = trainer.fit()"
   ]
  },
  {
   "cell_type": "code",
   "execution_count": 100,
   "metadata": {},
   "outputs": [
    {
     "data": {
      "text/plain": [
       "[<matplotlib.lines.Line2D at 0x7f03342b63d0>]"
      ]
     },
     "execution_count": 100,
     "metadata": {},
     "output_type": "execute_result"
    },
    {
     "data": {
      "image/png": "[encoded data removed]",
      "text/plain": [
       "<Figure size 432x288 with 1 Axes>"
      ]
     },
     "metadata": {
      "needs_background": "light"
     },
     "output_type": "display_data"
    }
   ],
   "source": [
    "plt.plot(train_history)\n",
    "plt.plot(val_history)"
   ]
  },
  {
   "cell_type": "markdown",
   "metadata": {},
   "source": [
    "# Улучшаем процесс тренировки\n",
    "\n",
    "Мы реализуем несколько ключевых оптимизаций, необходимых для тренировки современных нейросетей."
   ]
  },
  {
   "cell_type": "markdown",
   "metadata": {},
   "source": [
    "## Уменьшение скорости обучения (learning rate decay)\n",
    "\n",
    "Одна из необходимых оптимизаций во время тренировки нейронных сетей - постепенное уменьшение скорости обучения по мере тренировки.\n",
    "\n",
    "Один из стандартных методов - уменьшение скорости обучения (learning rate) каждые N эпох на коэффициент d (часто называемый decay). Значения N и d, как всегда, являются гиперпараметрами и должны подбираться на основе эффективности на проверочных данных (validation data). \n",
    "\n",
    "В нашем случае N будет равным 1."
   ]
  },
  {
   "cell_type": "code",
   "execution_count": 101,
   "metadata": {},
   "outputs": [
    {
     "name": "stdout",
     "output_type": "stream",
     "text": [
      "Loss: 2.284906, Train accuracy: 0.196667, val accuracy: 0.206000\n",
      "Loss: 2.242692, Train accuracy: 0.196667, val accuracy: 0.206000\n",
      "Loss: 2.279424, Train accuracy: 0.196667, val accuracy: 0.206000\n",
      "Loss: 2.315797, Train accuracy: 0.196667, val accuracy: 0.206000\n",
      "Loss: 2.291533, Train accuracy: 0.196667, val accuracy: 0.206000\n",
      "Loss: 2.242361, Train accuracy: 0.196667, val accuracy: 0.206000\n",
      "Loss: 2.259548, Train accuracy: 0.196667, val accuracy: 0.206000\n",
      "Loss: 2.306860, Train accuracy: 0.196667, val accuracy: 0.206000\n",
      "Loss: 2.263498, Train accuracy: 0.196667, val accuracy: 0.206000\n",
      "Loss: 2.320113, Train accuracy: 0.196667, val accuracy: 0.206000\n",
      "Loss: 2.310367, Train accuracy: 0.196667, val accuracy: 0.206000\n",
      "Loss: 2.314918, Train accuracy: 0.196667, val accuracy: 0.206000\n",
      "Loss: 2.289817, Train accuracy: 0.196667, val accuracy: 0.206000\n",
      "Loss: 2.256856, Train accuracy: 0.196667, val accuracy: 0.206000\n",
      "Loss: 2.247359, Train accuracy: 0.196667, val accuracy: 0.206000\n",
      "Loss: 2.369704, Train accuracy: 0.196667, val accuracy: 0.206000\n",
      "Loss: 2.179992, Train accuracy: 0.196667, val accuracy: 0.206000\n",
      "Loss: 2.359666, Train accuracy: 0.196667, val accuracy: 0.206000\n",
      "Loss: 2.236646, Train accuracy: 0.196667, val accuracy: 0.206000\n",
      "Loss: 2.251566, Train accuracy: 0.196667, val accuracy: 0.206000\n"
     ]
    }
   ],
   "source": [
    "# TODO Implement learning rate decay inside Trainer.fit method\n",
    "# Decay should happen once per epoch\n",
    "\n",
    "model = TwoLayerNet(n_input = train_X.shape[1], n_output = 10, hidden_layer_size = 100, reg = 1e-1)\n",
    "dataset = Dataset(train_X, train_y, val_X, val_y)\n",
    "trainer = Trainer(model, dataset, SGD(), learning_rate_decay=0.99)\n",
    "\n",
    "initial_learning_rate = trainer.learning_rate\n",
    "loss_history, train_history, val_history = trainer.fit()\n",
    "\n",
    "assert trainer.learning_rate < initial_learning_rate, \"Learning rate should've been reduced\"\n",
    "assert trainer.learning_rate > 0.5*initial_learning_rate, \"Learning rate shouldn'tve been reduced that much!\""
   ]
  },
  {
   "cell_type": "markdown",
   "metadata": {},
   "source": [
    "# Накопление импульса (Momentum SGD)\n",
    "\n",
    "Другой большой класс оптимизаций - использование более эффективных методов градиентного спуска. Мы реализуем один из них - накопление импульса (Momentum SGD).\n",
    "\n",
    "Этот метод хранит скорость движения, использует градиент для ее изменения на каждом шаге, и изменяет веса пропорционально значению скорости.\n",
    "(Физическая аналогия: Вместо скорости градиенты теперь будут задавать ускорение, но будет присутствовать сила трения.)\n",
    "\n",
    "```\n",
    "velocity = momentum * velocity - learning_rate * gradient \n",
    "w = w + velocity\n",
    "```\n",
    "\n",
    "`momentum` здесь коэффициент затухания, который тоже является гиперпараметром (к счастью, для него часто есть хорошее значение по умолчанию, типичный диапазон -- 0.8-0.99).\n",
    "\n",
    "Несколько полезных ссылок, где метод разбирается более подробно:  \n",
    "http://cs231n.github.io/neural-networks-3/#sgd  \n",
    "https://distill.pub/2017/momentum/"
   ]
  },
  {
   "cell_type": "code",
   "execution_count": 102,
   "metadata": {},
   "outputs": [
    {
     "name": "stdout",
     "output_type": "stream",
     "text": [
      "Loss: 2.327203, Train accuracy: 0.196667, val accuracy: 0.206000\n",
      "Loss: 2.312869, Train accuracy: 0.196667, val accuracy: 0.206000\n",
      "Loss: 2.280946, Train accuracy: 0.196667, val accuracy: 0.206000\n",
      "Loss: 2.312399, Train accuracy: 0.196667, val accuracy: 0.206000\n",
      "Loss: 2.297599, Train accuracy: 0.196667, val accuracy: 0.206000\n",
      "Loss: 2.293954, Train accuracy: 0.196667, val accuracy: 0.206000\n",
      "Loss: 2.300021, Train accuracy: 0.196667, val accuracy: 0.206000\n",
      "Loss: 2.323295, Train accuracy: 0.196667, val accuracy: 0.206000\n",
      "Loss: 2.317361, Train accuracy: 0.196667, val accuracy: 0.206000\n",
      "Loss: 2.274973, Train accuracy: 0.196667, val accuracy: 0.206000\n",
      "Loss: 2.243125, Train accuracy: 0.196667, val accuracy: 0.206000\n",
      "Loss: 2.304328, Train accuracy: 0.196667, val accuracy: 0.206000\n",
      "Loss: 2.254193, Train accuracy: 0.196667, val accuracy: 0.206000\n",
      "Loss: 2.311597, Train accuracy: 0.196667, val accuracy: 0.206000\n",
      "Loss: 2.282063, Train accuracy: 0.196667, val accuracy: 0.206000\n",
      "Loss: 2.277536, Train accuracy: 0.196667, val accuracy: 0.206000\n",
      "Loss: 2.273149, Train accuracy: 0.196667, val accuracy: 0.206000\n",
      "Loss: 2.259854, Train accuracy: 0.196667, val accuracy: 0.206000\n",
      "Loss: 2.333531, Train accuracy: 0.196667, val accuracy: 0.206000\n",
      "Loss: 2.243650, Train accuracy: 0.196667, val accuracy: 0.206000\n"
     ]
    }
   ],
   "source": [
    "# TODO: Implement MomentumSGD.update function in optim.py\n",
    "\n",
    "model = TwoLayerNet(n_input = train_X.shape[1], n_output = 10, hidden_layer_size = 100, reg = 1e-1)\n",
    "dataset = Dataset(train_X, train_y, val_X, val_y)\n",
    "trainer = Trainer(model, dataset, MomentumSGD(), learning_rate=1e-4, learning_rate_decay=0.99)\n",
    "\n",
    "# You should see even better results than before!\n",
    "loss_history, train_history, val_history = trainer.fit()"
   ]
  },
  {
   "cell_type": "markdown",
   "metadata": {},
   "source": [
    "# Ну что, давайте уже тренировать сеть!"
   ]
  },
  {
   "cell_type": "markdown",
   "metadata": {},
   "source": [
    "## Последний тест - переобучимся (overfit) на маленьком наборе данных\n",
    "\n",
    "Хороший способ проверить, все ли реализовано корректно - переобучить сеть на маленьком наборе данных.  \n",
    "Наша модель обладает достаточной мощностью, чтобы приблизить маленький набор данных идеально, поэтому мы ожидаем, что на нем мы быстро дойдем до 100% точности на тренировочном наборе. \n",
    "\n",
    "Если этого не происходит, то где-то была допущена ошибка!"
   ]
  },
  {
   "cell_type": "code",
   "execution_count": 103,
   "metadata": {},
   "outputs": [
    {
     "name": "stdout",
     "output_type": "stream",
     "text": [
      "Loss: 2.335830, Train accuracy: 0.200000, val accuracy: 0.133333\n",
      "Loss: 2.320055, Train accuracy: 0.200000, val accuracy: 0.133333\n",
      "Loss: 2.313986, Train accuracy: 0.200000, val accuracy: 0.133333\n",
      "Loss: 2.294069, Train accuracy: 0.200000, val accuracy: 0.133333\n",
      "Loss: 2.284094, Train accuracy: 0.200000, val accuracy: 0.133333\n",
      "Loss: 2.277865, Train accuracy: 0.200000, val accuracy: 0.133333\n",
      "Loss: 2.214129, Train accuracy: 0.200000, val accuracy: 0.066667\n",
      "Loss: 2.237839, Train accuracy: 0.200000, val accuracy: 0.066667\n",
      "Loss: 2.316008, Train accuracy: 0.266667, val accuracy: 0.000000\n",
      "Loss: 2.167856, Train accuracy: 0.400000, val accuracy: 0.000000\n",
      "Loss: 1.731875, Train accuracy: 0.400000, val accuracy: 0.000000\n",
      "Loss: 2.114886, Train accuracy: 0.400000, val accuracy: 0.000000\n",
      "Loss: 1.982821, Train accuracy: 0.400000, val accuracy: 0.000000\n",
      "Loss: 2.123514, Train accuracy: 0.333333, val accuracy: 0.000000\n",
      "Loss: 1.708389, Train accuracy: 0.333333, val accuracy: 0.000000\n",
      "Loss: 1.374617, Train accuracy: 0.333333, val accuracy: 0.000000\n",
      "Loss: 1.575493, Train accuracy: 0.333333, val accuracy: 0.000000\n",
      "Loss: 1.851444, Train accuracy: 0.333333, val accuracy: 0.000000\n",
      "Loss: 2.066460, Train accuracy: 0.400000, val accuracy: 0.000000\n",
      "Loss: 1.598900, Train accuracy: 0.400000, val accuracy: 0.000000\n",
      "Loss: 2.333053, Train accuracy: 0.400000, val accuracy: 0.000000\n",
      "Loss: 1.804008, Train accuracy: 0.466667, val accuracy: 0.066667\n",
      "Loss: 1.816695, Train accuracy: 0.466667, val accuracy: 0.000000\n",
      "Loss: 2.277450, Train accuracy: 0.466667, val accuracy: 0.066667\n",
      "Loss: 1.928175, Train accuracy: 0.466667, val accuracy: 0.000000\n",
      "Loss: 1.667880, Train accuracy: 0.466667, val accuracy: 0.000000\n",
      "Loss: 1.420126, Train accuracy: 0.466667, val accuracy: 0.000000\n",
      "Loss: 1.404702, Train accuracy: 0.466667, val accuracy: 0.000000\n",
      "Loss: 1.450082, Train accuracy: 0.466667, val accuracy: 0.000000\n",
      "Loss: 1.706158, Train accuracy: 0.466667, val accuracy: 0.066667\n",
      "Loss: 1.913306, Train accuracy: 0.600000, val accuracy: 0.000000\n",
      "Loss: 1.405494, Train accuracy: 0.466667, val accuracy: 0.000000\n",
      "Loss: 1.956782, Train accuracy: 0.600000, val accuracy: 0.066667\n",
      "Loss: 1.354699, Train accuracy: 0.533333, val accuracy: 0.000000\n",
      "Loss: 1.750478, Train accuracy: 0.600000, val accuracy: 0.066667\n",
      "Loss: 1.666822, Train accuracy: 0.600000, val accuracy: 0.066667\n",
      "Loss: 1.324699, Train accuracy: 0.600000, val accuracy: 0.066667\n",
      "Loss: 1.448076, Train accuracy: 0.666667, val accuracy: 0.066667\n",
      "Loss: 1.620860, Train accuracy: 0.666667, val accuracy: 0.066667\n",
      "Loss: 1.615819, Train accuracy: 0.666667, val accuracy: 0.066667\n",
      "Loss: 2.037262, Train accuracy: 0.666667, val accuracy: 0.066667\n",
      "Loss: 1.780885, Train accuracy: 0.733333, val accuracy: 0.066667\n",
      "Loss: 1.552399, Train accuracy: 0.733333, val accuracy: 0.066667\n",
      "Loss: 1.499252, Train accuracy: 0.733333, val accuracy: 0.066667\n",
      "Loss: 1.925927, Train accuracy: 0.733333, val accuracy: 0.066667\n",
      "Loss: 1.690709, Train accuracy: 0.733333, val accuracy: 0.066667\n",
      "Loss: 1.439548, Train accuracy: 0.733333, val accuracy: 0.133333\n",
      "Loss: 1.200840, Train accuracy: 0.733333, val accuracy: 0.066667\n",
      "Loss: 1.120434, Train accuracy: 0.733333, val accuracy: 0.066667\n",
      "Loss: 1.799219, Train accuracy: 0.733333, val accuracy: 0.133333\n",
      "Loss: 1.819070, Train accuracy: 0.733333, val accuracy: 0.066667\n",
      "Loss: 1.596394, Train accuracy: 0.733333, val accuracy: 0.133333\n",
      "Loss: 1.274243, Train accuracy: 0.666667, val accuracy: 0.000000\n",
      "Loss: 1.727602, Train accuracy: 0.733333, val accuracy: 0.066667\n",
      "Loss: 1.423375, Train accuracy: 0.733333, val accuracy: 0.066667\n",
      "Loss: 0.857000, Train accuracy: 0.733333, val accuracy: 0.066667\n",
      "Loss: 1.372114, Train accuracy: 0.733333, val accuracy: 0.000000\n",
      "Loss: 2.132652, Train accuracy: 0.733333, val accuracy: 0.066667\n",
      "Loss: 1.126755, Train accuracy: 0.733333, val accuracy: 0.000000\n",
      "Loss: 1.046239, Train accuracy: 0.733333, val accuracy: 0.066667\n",
      "Loss: 1.344809, Train accuracy: 0.733333, val accuracy: 0.066667\n",
      "Loss: 1.600889, Train accuracy: 0.733333, val accuracy: 0.066667\n",
      "Loss: 1.385271, Train accuracy: 0.733333, val accuracy: 0.066667\n",
      "Loss: 1.687498, Train accuracy: 0.733333, val accuracy: 0.066667\n",
      "Loss: 1.056517, Train accuracy: 0.733333, val accuracy: 0.066667\n",
      "Loss: 1.168146, Train accuracy: 0.733333, val accuracy: 0.066667\n",
      "Loss: 1.953813, Train accuracy: 0.733333, val accuracy: 0.066667\n",
      "Loss: 1.035292, Train accuracy: 0.733333, val accuracy: 0.066667\n",
      "Loss: 1.017961, Train accuracy: 0.733333, val accuracy: 0.066667\n",
      "Loss: 0.912246, Train accuracy: 0.733333, val accuracy: 0.066667\n",
      "Loss: 1.218221, Train accuracy: 0.733333, val accuracy: 0.066667\n",
      "Loss: 1.284205, Train accuracy: 0.733333, val accuracy: 0.066667\n",
      "Loss: 2.093385, Train accuracy: 0.800000, val accuracy: 0.066667\n",
      "Loss: 1.256134, Train accuracy: 0.800000, val accuracy: 0.066667\n",
      "Loss: 1.420246, Train accuracy: 0.733333, val accuracy: 0.066667\n",
      "Loss: 1.346262, Train accuracy: 0.800000, val accuracy: 0.066667\n",
      "Loss: 1.423637, Train accuracy: 0.733333, val accuracy: 0.066667\n",
      "Loss: 0.965198, Train accuracy: 0.800000, val accuracy: 0.066667\n",
      "Loss: 2.248756, Train accuracy: 0.866667, val accuracy: 0.066667\n",
      "Loss: 1.327375, Train accuracy: 0.866667, val accuracy: 0.066667\n",
      "Loss: 1.647581, Train accuracy: 0.866667, val accuracy: 0.066667\n",
      "Loss: 1.656482, Train accuracy: 0.866667, val accuracy: 0.066667\n",
      "Loss: 1.162388, Train accuracy: 0.866667, val accuracy: 0.066667\n",
      "Loss: 1.557914, Train accuracy: 0.866667, val accuracy: 0.066667\n",
      "Loss: 1.536330, Train accuracy: 0.866667, val accuracy: 0.066667\n",
      "Loss: 1.342079, Train accuracy: 0.933333, val accuracy: 0.066667\n",
      "Loss: 1.704549, Train accuracy: 0.933333, val accuracy: 0.066667\n",
      "Loss: 1.275606, Train accuracy: 0.933333, val accuracy: 0.066667\n",
      "Loss: 0.999604, Train accuracy: 0.933333, val accuracy: 0.066667\n",
      "Loss: 1.049859, Train accuracy: 0.933333, val accuracy: 0.066667\n",
      "Loss: 1.945996, Train accuracy: 0.933333, val accuracy: 0.066667\n",
      "Loss: 1.222846, Train accuracy: 0.933333, val accuracy: 0.066667\n",
      "Loss: 1.668301, Train accuracy: 0.933333, val accuracy: 0.066667\n",
      "Loss: 1.309421, Train accuracy: 0.933333, val accuracy: 0.066667\n",
      "Loss: 1.313249, Train accuracy: 0.933333, val accuracy: 0.066667\n",
      "Loss: 1.429223, Train accuracy: 0.933333, val accuracy: 0.066667\n",
      "Loss: 1.878146, Train accuracy: 0.933333, val accuracy: 0.066667\n",
      "Loss: 1.643033, Train accuracy: 0.933333, val accuracy: 0.066667\n",
      "Loss: 1.520639, Train accuracy: 0.933333, val accuracy: 0.066667\n",
      "Loss: 1.109628, Train accuracy: 0.933333, val accuracy: 0.066667\n",
      "Loss: 1.708835, Train accuracy: 0.933333, val accuracy: 0.000000\n",
      "Loss: 1.322088, Train accuracy: 0.933333, val accuracy: 0.066667\n",
      "Loss: 1.357729, Train accuracy: 0.933333, val accuracy: 0.000000\n",
      "Loss: 1.534886, Train accuracy: 1.000000, val accuracy: 0.000000\n",
      "Loss: 1.326171, Train accuracy: 0.933333, val accuracy: 0.000000\n",
      "Loss: 1.236459, Train accuracy: 0.933333, val accuracy: 0.000000\n",
      "Loss: 1.433890, Train accuracy: 0.933333, val accuracy: 0.000000\n",
      "Loss: 1.735226, Train accuracy: 0.933333, val accuracy: 0.000000\n",
      "Loss: 1.553873, Train accuracy: 0.933333, val accuracy: 0.000000\n",
      "Loss: 1.405389, Train accuracy: 1.000000, val accuracy: 0.000000\n",
      "Loss: 1.340745, Train accuracy: 0.933333, val accuracy: 0.000000\n",
      "Loss: 1.219969, Train accuracy: 0.933333, val accuracy: 0.000000\n",
      "Loss: 1.192039, Train accuracy: 0.933333, val accuracy: 0.000000\n",
      "Loss: 1.333067, Train accuracy: 0.933333, val accuracy: 0.000000\n",
      "Loss: 1.422823, Train accuracy: 1.000000, val accuracy: 0.000000\n",
      "Loss: 1.441931, Train accuracy: 1.000000, val accuracy: 0.000000\n",
      "Loss: 1.320401, Train accuracy: 1.000000, val accuracy: 0.000000\n",
      "Loss: 1.484318, Train accuracy: 1.000000, val accuracy: 0.000000\n",
      "Loss: 1.229580, Train accuracy: 1.000000, val accuracy: 0.000000\n",
      "Loss: 1.290343, Train accuracy: 1.000000, val accuracy: 0.000000\n",
      "Loss: 1.243568, Train accuracy: 1.000000, val accuracy: 0.000000\n",
      "Loss: 1.336177, Train accuracy: 1.000000, val accuracy: 0.000000\n",
      "Loss: 1.117419, Train accuracy: 1.000000, val accuracy: 0.000000\n",
      "Loss: 1.274132, Train accuracy: 1.000000, val accuracy: 0.000000\n",
      "Loss: 1.249899, Train accuracy: 1.000000, val accuracy: 0.000000\n",
      "Loss: 1.211722, Train accuracy: 1.000000, val accuracy: 0.000000\n",
      "Loss: 1.481234, Train accuracy: 1.000000, val accuracy: 0.000000\n",
      "Loss: 1.230791, Train accuracy: 0.933333, val accuracy: 0.000000\n",
      "Loss: 1.192249, Train accuracy: 1.000000, val accuracy: 0.000000\n",
      "Loss: 1.418718, Train accuracy: 1.000000, val accuracy: 0.000000\n"
     ]
    },
    {
     "name": "stdout",
     "output_type": "stream",
     "text": [
      "Loss: 1.188546, Train accuracy: 1.000000, val accuracy: 0.000000\n",
      "Loss: 1.580501, Train accuracy: 1.000000, val accuracy: 0.000000\n",
      "Loss: 1.298824, Train accuracy: 1.000000, val accuracy: 0.000000\n",
      "Loss: 1.334062, Train accuracy: 0.933333, val accuracy: 0.000000\n",
      "Loss: 1.151346, Train accuracy: 1.000000, val accuracy: 0.000000\n",
      "Loss: 1.603832, Train accuracy: 1.000000, val accuracy: 0.000000\n",
      "Loss: 1.262320, Train accuracy: 1.000000, val accuracy: 0.000000\n",
      "Loss: 1.159190, Train accuracy: 1.000000, val accuracy: 0.000000\n",
      "Loss: 1.328048, Train accuracy: 1.000000, val accuracy: 0.000000\n",
      "Loss: 1.267489, Train accuracy: 1.000000, val accuracy: 0.000000\n",
      "Loss: 1.186284, Train accuracy: 1.000000, val accuracy: 0.000000\n",
      "Loss: 1.423161, Train accuracy: 1.000000, val accuracy: 0.000000\n",
      "Loss: 1.482741, Train accuracy: 0.933333, val accuracy: 0.000000\n",
      "Loss: 1.525613, Train accuracy: 1.000000, val accuracy: 0.000000\n",
      "Loss: 1.377793, Train accuracy: 1.000000, val accuracy: 0.000000\n",
      "Loss: 1.440700, Train accuracy: 1.000000, val accuracy: 0.000000\n",
      "Loss: 1.150671, Train accuracy: 1.000000, val accuracy: 0.000000\n",
      "Loss: 1.217820, Train accuracy: 1.000000, val accuracy: 0.000000\n",
      "Loss: 1.294053, Train accuracy: 1.000000, val accuracy: 0.000000\n",
      "Loss: 1.150083, Train accuracy: 1.000000, val accuracy: 0.000000\n"
     ]
    }
   ],
   "source": [
    "data_size = 15\n",
    "model = TwoLayerNet(n_input = train_X.shape[1], n_output = 10, hidden_layer_size = 100, reg = 1e-1)\n",
    "dataset = Dataset(train_X[:data_size], train_y[:data_size], val_X[:data_size], val_y[:data_size])\n",
    "trainer = Trainer(model, dataset, SGD(), learning_rate=1e-1, num_epochs=150, batch_size=5)\n",
    "\n",
    "# You should expect this to reach 1.0 training accuracy \n",
    "loss_history, train_history, val_history = trainer.fit()"
   ]
  },
  {
   "cell_type": "markdown",
   "metadata": {},
   "source": [
    "Теперь найдем гипепараметры, для которых этот процесс сходится быстрее.\n",
    "Если все реализовано корректно, то существуют параметры, при которых процесс сходится в **20** эпох или еще быстрее.\n",
    "Найдите их!"
   ]
  },
  {
   "cell_type": "code",
   "execution_count": 146,
   "metadata": {},
   "outputs": [
    {
     "name": "stdout",
     "output_type": "stream",
     "text": [
      "Loss: 2.315950, Train accuracy: 0.200000, val accuracy: 0.066667\n",
      "Loss: 2.260734, Train accuracy: 0.200000, val accuracy: 0.133333\n",
      "Loss: 2.115864, Train accuracy: 0.200000, val accuracy: 0.066667\n",
      "Loss: 1.908583, Train accuracy: 0.400000, val accuracy: 0.000000\n",
      "Loss: 1.919218, Train accuracy: 0.400000, val accuracy: 0.000000\n",
      "Loss: 1.781843, Train accuracy: 0.400000, val accuracy: 0.000000\n",
      "Loss: 2.240342, Train accuracy: 0.466667, val accuracy: 0.133333\n",
      "Loss: 2.030809, Train accuracy: 0.466667, val accuracy: 0.000000\n",
      "Loss: 0.724831, Train accuracy: 0.466667, val accuracy: 0.000000\n",
      "Loss: 1.467886, Train accuracy: 0.600000, val accuracy: 0.000000\n",
      "Loss: 0.867009, Train accuracy: 0.733333, val accuracy: 0.000000\n",
      "Loss: 0.029513, Train accuracy: 0.866667, val accuracy: 0.000000\n",
      "Loss: 0.046875, Train accuracy: 1.000000, val accuracy: 0.000000\n",
      "Loss: 0.047815, Train accuracy: 1.000000, val accuracy: 0.000000\n",
      "Loss: 0.022468, Train accuracy: 1.000000, val accuracy: 0.000000\n",
      "Loss: 0.008150, Train accuracy: 1.000000, val accuracy: 0.000000\n",
      "Loss: 0.002424, Train accuracy: 1.000000, val accuracy: 0.000000\n",
      "Loss: 0.007047, Train accuracy: 1.000000, val accuracy: 0.000000\n",
      "Loss: 0.001174, Train accuracy: 1.000000, val accuracy: 0.000000\n",
      "Loss: 0.001042, Train accuracy: 1.000000, val accuracy: 0.000000\n"
     ]
    }
   ],
   "source": [
    "# Now, tweak some hyper parameters and make it train to 1.0 accuracy in 20 epochs or less\n",
    "\n",
    "model = TwoLayerNet(n_input = train_X.shape[1], n_output = 10, hidden_layer_size = 100, reg = 0)\n",
    "dataset = Dataset(train_X[:data_size], train_y[:data_size], val_X[:data_size], val_y[:data_size])\n",
    "# TODO: Change any hyperparamers or optimizators to reach training accuracy in 20 epochs\n",
    "trainer = Trainer(model, dataset, MomentumSGD(), learning_rate=1e-1, num_epochs=20, batch_size=5)\n",
    "\n",
    "loss_history, train_history, val_history = trainer.fit()"
   ]
  },
  {
   "cell_type": "markdown",
   "metadata": {},
   "source": [
    "# Итак, основное мероприятие!\n",
    "\n",
    "Натренируйте лучшую нейросеть! Можно добавлять и изменять параметры, менять количество нейронов в слоях сети и как угодно экспериментировать. \n",
    "\n",
    "Добейтесь точности лучше **60%** на validation set."
   ]
  },
  {
   "cell_type": "code",
   "execution_count": 153,
   "metadata": {
    "scrolled": true
   },
   "outputs": [
    {
     "name": "stdout",
     "output_type": "stream",
     "text": [
      "Current parameters are (64, 20, 128, 0.99, 0.8, 0.01, 0.1)\n",
      "val_accuracy = 0.456\n",
      "Current parameters are (64, 20, 128, 0.99, 0.8, 0.01, 0.01)\n",
      "val_accuracy = 0.608\n",
      "Current parameters are (64, 20, 128, 0.99, 0.8, 0.01, 0.001)\n",
      "val_accuracy = 0.206\n",
      "Current parameters are (64, 20, 128, 0.99, 0.8, 0.005, 0.1)\n",
      "val_accuracy = 0.546\n",
      "Current parameters are (64, 20, 128, 0.99, 0.8, 0.005, 0.01)\n",
      "val_accuracy = 0.673\n",
      "Current parameters are (64, 20, 128, 0.99, 0.8, 0.005, 0.001)\n",
      "val_accuracy = 0.206\n",
      "Current parameters are (64, 20, 128, 0.99, 0.8, 0.001, 0.1)\n",
      "val_accuracy = 0.624\n",
      "Current parameters are (64, 20, 128, 0.99, 0.8, 0.001, 0.01)\n",
      "val_accuracy = 0.7\n",
      "Current parameters are (64, 20, 128, 0.99, 0.8, 0.001, 0.001)\n",
      "val_accuracy = 0.206\n",
      "Current parameters are (64, 20, 128, 0.99, 0.9, 0.01, 0.1)\n",
      "val_accuracy = 0.407\n",
      "Current parameters are (64, 20, 128, 0.99, 0.9, 0.01, 0.01)\n",
      "val_accuracy = 0.616\n",
      "Current parameters are (64, 20, 128, 0.99, 0.9, 0.01, 0.001)\n",
      "val_accuracy = 0.206\n",
      "Current parameters are (64, 20, 128, 0.99, 0.9, 0.005, 0.1)\n",
      "val_accuracy = 0.587\n",
      "Current parameters are (64, 20, 128, 0.99, 0.9, 0.005, 0.01)\n",
      "val_accuracy = 0.677\n",
      "Current parameters are (64, 20, 128, 0.99, 0.9, 0.005, 0.001)\n",
      "val_accuracy = 0.206\n",
      "Current parameters are (64, 20, 128, 0.99, 0.9, 0.001, 0.1)\n",
      "val_accuracy = 0.656\n",
      "Current parameters are (64, 20, 128, 0.99, 0.9, 0.001, 0.01)\n",
      "val_accuracy = 0.699\n",
      "Current parameters are (64, 20, 128, 0.99, 0.9, 0.001, 0.001)\n",
      "val_accuracy = 0.206\n",
      "Current parameters are (64, 20, 128, 0.99, 0.85, 0.01, 0.1)\n",
      "val_accuracy = 0.445\n",
      "Current parameters are (64, 20, 128, 0.99, 0.85, 0.01, 0.01)\n",
      "val_accuracy = 0.611\n",
      "Current parameters are (64, 20, 128, 0.99, 0.85, 0.01, 0.001)\n",
      "val_accuracy = 0.206\n",
      "Current parameters are (64, 20, 128, 0.99, 0.85, 0.005, 0.1)\n",
      "val_accuracy = 0.51\n",
      "Current parameters are (64, 20, 128, 0.99, 0.85, 0.005, 0.01)\n",
      "val_accuracy = 0.677\n",
      "Current parameters are (64, 20, 128, 0.99, 0.85, 0.005, 0.001)\n",
      "val_accuracy = 0.206\n",
      "Current parameters are (64, 20, 128, 0.99, 0.85, 0.001, 0.1)\n",
      "val_accuracy = 0.642\n",
      "Current parameters are (64, 20, 128, 0.99, 0.85, 0.001, 0.01)\n",
      "val_accuracy = 0.71\n",
      "Current parameters are (64, 20, 128, 0.99, 0.85, 0.001, 0.001)\n",
      "val_accuracy = 0.206\n",
      "Current parameters are (64, 20, 128, 0.9, 0.8, 0.01, 0.1)\n",
      "val_accuracy = 0.645\n",
      "Current parameters are (64, 20, 128, 0.9, 0.8, 0.01, 0.01)\n",
      "val_accuracy = 0.465\n",
      "Current parameters are (64, 20, 128, 0.9, 0.8, 0.01, 0.001)\n",
      "val_accuracy = 0.206\n",
      "Current parameters are (64, 20, 128, 0.9, 0.8, 0.005, 0.1)\n",
      "val_accuracy = 0.732\n",
      "Current parameters are (64, 20, 128, 0.9, 0.8, 0.005, 0.01)\n",
      "val_accuracy = 0.533\n",
      "Current parameters are (64, 20, 128, 0.9, 0.8, 0.005, 0.001)\n",
      "val_accuracy = 0.206\n",
      "Current parameters are (64, 20, 128, 0.9, 0.8, 0.001, 0.1)\n",
      "val_accuracy = 0.766\n",
      "Current parameters are (64, 20, 128, 0.9, 0.8, 0.001, 0.01)\n",
      "val_accuracy = 0.59\n",
      "Current parameters are (64, 20, 128, 0.9, 0.8, 0.001, 0.001)\n",
      "val_accuracy = 0.206\n",
      "Current parameters are (64, 20, 128, 0.9, 0.9, 0.01, 0.1)\n",
      "val_accuracy = 0.645\n",
      "Current parameters are (64, 20, 128, 0.9, 0.9, 0.01, 0.01)\n",
      "val_accuracy = 0.441\n",
      "Current parameters are (64, 20, 128, 0.9, 0.9, 0.01, 0.001)\n",
      "val_accuracy = 0.206\n",
      "Current parameters are (64, 20, 128, 0.9, 0.9, 0.005, 0.1)\n",
      "val_accuracy = 0.714\n",
      "Current parameters are (64, 20, 128, 0.9, 0.9, 0.005, 0.01)\n",
      "val_accuracy = 0.529\n",
      "Current parameters are (64, 20, 128, 0.9, 0.9, 0.005, 0.001)\n",
      "val_accuracy = 0.206\n",
      "Current parameters are (64, 20, 128, 0.9, 0.9, 0.001, 0.1)\n",
      "val_accuracy = 0.775\n",
      "Current parameters are (64, 20, 128, 0.9, 0.9, 0.001, 0.01)\n",
      "val_accuracy = 0.576\n",
      "Current parameters are (64, 20, 128, 0.9, 0.9, 0.001, 0.001)\n",
      "val_accuracy = 0.206\n",
      "Current parameters are (64, 20, 128, 0.9, 0.85, 0.01, 0.1)\n",
      "val_accuracy = 0.628\n",
      "Current parameters are (64, 20, 128, 0.9, 0.85, 0.01, 0.01)\n",
      "val_accuracy = 0.424\n",
      "Current parameters are (64, 20, 128, 0.9, 0.85, 0.01, 0.001)\n",
      "val_accuracy = 0.206\n",
      "Current parameters are (64, 20, 128, 0.9, 0.85, 0.005, 0.1)\n",
      "val_accuracy = 0.687\n",
      "Current parameters are (64, 20, 128, 0.9, 0.85, 0.005, 0.01)\n",
      "val_accuracy = 0.52\n",
      "Current parameters are (64, 20, 128, 0.9, 0.85, 0.005, 0.001)\n",
      "val_accuracy = 0.206\n",
      "Current parameters are (64, 20, 128, 0.9, 0.85, 0.001, 0.1)\n",
      "val_accuracy = 0.755\n",
      "Current parameters are (64, 20, 128, 0.9, 0.85, 0.001, 0.01)\n",
      "val_accuracy = 0.586\n",
      "Current parameters are (64, 20, 128, 0.9, 0.85, 0.001, 0.001)\n",
      "val_accuracy = 0.206\n",
      "Current parameters are (64, 20, 128, 0.85, 0.8, 0.01, 0.1)\n",
      "val_accuracy = 0.659\n",
      "Current parameters are (64, 20, 128, 0.85, 0.8, 0.01, 0.01)\n",
      "val_accuracy = 0.361\n",
      "Current parameters are (64, 20, 128, 0.85, 0.8, 0.01, 0.001)\n",
      "val_accuracy = 0.206\n",
      "Current parameters are (64, 20, 128, 0.85, 0.8, 0.005, 0.1)\n",
      "val_accuracy = 0.714\n",
      "Current parameters are (64, 20, 128, 0.85, 0.8, 0.005, 0.01)\n",
      "val_accuracy = 0.38\n",
      "Current parameters are (64, 20, 128, 0.85, 0.8, 0.005, 0.001)\n",
      "val_accuracy = 0.206\n",
      "Current parameters are (64, 20, 128, 0.85, 0.8, 0.001, 0.1)\n",
      "val_accuracy = 0.764\n",
      "Current parameters are (64, 20, 128, 0.85, 0.8, 0.001, 0.01)\n",
      "val_accuracy = 0.44\n",
      "Current parameters are (64, 20, 128, 0.85, 0.8, 0.001, 0.001)\n",
      "val_accuracy = 0.206\n",
      "Current parameters are (64, 20, 128, 0.85, 0.9, 0.01, 0.1)\n",
      "val_accuracy = 0.675\n",
      "Current parameters are (64, 20, 128, 0.85, 0.9, 0.01, 0.01)\n",
      "val_accuracy = 0.348\n",
      "Current parameters are (64, 20, 128, 0.85, 0.9, 0.01, 0.001)\n",
      "val_accuracy = 0.206\n",
      "Current parameters are (64, 20, 128, 0.85, 0.9, 0.005, 0.1)\n",
      "val_accuracy = 0.726\n",
      "Current parameters are (64, 20, 128, 0.85, 0.9, 0.005, 0.01)\n",
      "val_accuracy = 0.385\n",
      "Current parameters are (64, 20, 128, 0.85, 0.9, 0.005, 0.001)\n",
      "val_accuracy = 0.206\n",
      "Current parameters are (64, 20, 128, 0.85, 0.9, 0.001, 0.1)\n",
      "val_accuracy = 0.767\n",
      "Current parameters are (64, 20, 128, 0.85, 0.9, 0.001, 0.01)\n",
      "val_accuracy = 0.446\n",
      "Current parameters are (64, 20, 128, 0.85, 0.9, 0.001, 0.001)\n",
      "val_accuracy = 0.206\n",
      "Current parameters are (64, 20, 128, 0.85, 0.85, 0.01, 0.1)\n",
      "val_accuracy = 0.667\n",
      "Current parameters are (64, 20, 128, 0.85, 0.85, 0.01, 0.01)\n",
      "val_accuracy = 0.332\n",
      "Current parameters are (64, 20, 128, 0.85, 0.85, 0.01, 0.001)\n",
      "val_accuracy = 0.206\n",
      "Current parameters are (64, 20, 128, 0.85, 0.85, 0.005, 0.1)\n",
      "val_accuracy = 0.722\n",
      "Current parameters are (64, 20, 128, 0.85, 0.85, 0.005, 0.01)\n",
      "val_accuracy = 0.392\n",
      "Current parameters are (64, 20, 128, 0.85, 0.85, 0.005, 0.001)\n",
      "val_accuracy = 0.206\n",
      "Current parameters are (64, 20, 128, 0.85, 0.85, 0.001, 0.1)\n",
      "val_accuracy = 0.763\n",
      "Current parameters are (64, 20, 128, 0.85, 0.85, 0.001, 0.01)\n",
      "val_accuracy = 0.461\n",
      "Current parameters are (64, 20, 128, 0.85, 0.85, 0.001, 0.001)\n",
      "val_accuracy = 0.206\n",
      "Best parameters for now are (0.775, 64, 20, 128, 0.9, 0.9, 0.001, 0.1)\n",
      "Current parameters are (64, 20, 256, 0.99, 0.8, 0.01, 0.1)\n",
      "val_accuracy = 0.399\n",
      "Current parameters are (64, 20, 256, 0.99, 0.8, 0.01, 0.01)\n",
      "val_accuracy = 0.615\n",
      "Current parameters are (64, 20, 256, 0.99, 0.8, 0.01, 0.001)\n",
      "val_accuracy = 0.206\n",
      "Current parameters are (64, 20, 256, 0.99, 0.8, 0.005, 0.1)\n",
      "val_accuracy = 0.503\n",
      "Current parameters are (64, 20, 256, 0.99, 0.8, 0.005, 0.01)\n",
      "val_accuracy = 0.684\n",
      "Current parameters are (64, 20, 256, 0.99, 0.8, 0.005, 0.001)\n",
      "val_accuracy = 0.206\n",
      "Current parameters are (64, 20, 256, 0.99, 0.8, 0.001, 0.1)\n",
      "val_accuracy = 0.629\n",
      "Current parameters are (64, 20, 256, 0.99, 0.8, 0.001, 0.01)\n",
      "val_accuracy = 0.721\n",
      "Current parameters are (64, 20, 256, 0.99, 0.8, 0.001, 0.001)\n",
      "val_accuracy = 0.206\n",
      "Current parameters are (64, 20, 256, 0.99, 0.9, 0.01, 0.1)\n",
      "val_accuracy = 0.444\n",
      "Current parameters are (64, 20, 256, 0.99, 0.9, 0.01, 0.01)\n",
      "val_accuracy = 0.611\n",
      "Current parameters are (64, 20, 256, 0.99, 0.9, 0.01, 0.001)\n",
      "val_accuracy = 0.206\n",
      "Current parameters are (64, 20, 256, 0.99, 0.9, 0.005, 0.1)\n",
      "val_accuracy = 0.544\n",
      "Current parameters are (64, 20, 256, 0.99, 0.9, 0.005, 0.01)\n",
      "val_accuracy = 0.694\n",
      "Current parameters are (64, 20, 256, 0.99, 0.9, 0.005, 0.001)\n",
      "val_accuracy = 0.206\n",
      "Current parameters are (64, 20, 256, 0.99, 0.9, 0.001, 0.1)\n",
      "val_accuracy = 0.665\n",
      "Current parameters are (64, 20, 256, 0.99, 0.9, 0.001, 0.01)\n",
      "val_accuracy = 0.717\n",
      "Current parameters are (64, 20, 256, 0.99, 0.9, 0.001, 0.001)\n",
      "val_accuracy = 0.206\n",
      "Current parameters are (64, 20, 256, 0.99, 0.85, 0.01, 0.1)\n"
     ]
    },
    {
     "name": "stdout",
     "output_type": "stream",
     "text": [
      "val_accuracy = 0.489\n",
      "Current parameters are (64, 20, 256, 0.99, 0.85, 0.01, 0.01)\n",
      "val_accuracy = 0.626\n",
      "Current parameters are (64, 20, 256, 0.99, 0.85, 0.01, 0.001)\n",
      "val_accuracy = 0.206\n",
      "Current parameters are (64, 20, 256, 0.99, 0.85, 0.005, 0.1)\n",
      "val_accuracy = 0.539\n",
      "Current parameters are (64, 20, 256, 0.99, 0.85, 0.005, 0.01)\n",
      "val_accuracy = 0.685\n",
      "Current parameters are (64, 20, 256, 0.99, 0.85, 0.005, 0.001)\n",
      "val_accuracy = 0.206\n",
      "Current parameters are (64, 20, 256, 0.99, 0.85, 0.001, 0.1)\n",
      "val_accuracy = 0.649\n",
      "Current parameters are (64, 20, 256, 0.99, 0.85, 0.001, 0.01)\n",
      "val_accuracy = 0.713\n",
      "Current parameters are (64, 20, 256, 0.99, 0.85, 0.001, 0.001)\n",
      "val_accuracy = 0.206\n",
      "Current parameters are (64, 20, 256, 0.9, 0.8, 0.01, 0.1)\n",
      "val_accuracy = 0.64\n",
      "Current parameters are (64, 20, 256, 0.9, 0.8, 0.01, 0.01)\n",
      "val_accuracy = 0.483\n",
      "Current parameters are (64, 20, 256, 0.9, 0.8, 0.01, 0.001)\n",
      "val_accuracy = 0.206\n",
      "Current parameters are (64, 20, 256, 0.9, 0.8, 0.005, 0.1)\n",
      "val_accuracy = 0.696\n",
      "Current parameters are (64, 20, 256, 0.9, 0.8, 0.005, 0.01)\n",
      "val_accuracy = 0.556\n",
      "Current parameters are (64, 20, 256, 0.9, 0.8, 0.005, 0.001)\n",
      "val_accuracy = 0.206\n",
      "Current parameters are (64, 20, 256, 0.9, 0.8, 0.001, 0.1)\n",
      "val_accuracy = 0.776\n",
      "Current parameters are (64, 20, 256, 0.9, 0.8, 0.001, 0.01)\n",
      "val_accuracy = 0.597\n",
      "Current parameters are (64, 20, 256, 0.9, 0.8, 0.001, 0.001)\n",
      "val_accuracy = 0.206\n",
      "Current parameters are (64, 20, 256, 0.9, 0.9, 0.01, 0.1)\n",
      "val_accuracy = 0.656\n",
      "Current parameters are (64, 20, 256, 0.9, 0.9, 0.01, 0.01)\n",
      "val_accuracy = 0.459\n",
      "Current parameters are (64, 20, 256, 0.9, 0.9, 0.01, 0.001)\n",
      "val_accuracy = 0.206\n",
      "Current parameters are (64, 20, 256, 0.9, 0.9, 0.005, 0.1)\n",
      "val_accuracy = 0.718\n",
      "Current parameters are (64, 20, 256, 0.9, 0.9, 0.005, 0.01)\n",
      "val_accuracy = 0.548\n",
      "Current parameters are (64, 20, 256, 0.9, 0.9, 0.005, 0.001)\n",
      "val_accuracy = 0.206\n",
      "Current parameters are (64, 20, 256, 0.9, 0.9, 0.001, 0.1)\n",
      "val_accuracy = 0.772\n",
      "Current parameters are (64, 20, 256, 0.9, 0.9, 0.001, 0.01)\n",
      "val_accuracy = 0.603\n",
      "Current parameters are (64, 20, 256, 0.9, 0.9, 0.001, 0.001)\n",
      "val_accuracy = 0.206\n",
      "Current parameters are (64, 20, 256, 0.9, 0.85, 0.01, 0.1)\n",
      "val_accuracy = 0.653\n",
      "Current parameters are (64, 20, 256, 0.9, 0.85, 0.01, 0.01)\n",
      "val_accuracy = 0.475\n",
      "Current parameters are (64, 20, 256, 0.9, 0.85, 0.01, 0.001)\n",
      "val_accuracy = 0.206\n",
      "Current parameters are (64, 20, 256, 0.9, 0.85, 0.005, 0.1)\n",
      "val_accuracy = 0.684\n",
      "Current parameters are (64, 20, 256, 0.9, 0.85, 0.005, 0.01)\n",
      "val_accuracy = 0.553\n",
      "Current parameters are (64, 20, 256, 0.9, 0.85, 0.005, 0.001)\n",
      "val_accuracy = 0.206\n",
      "Current parameters are (64, 20, 256, 0.9, 0.85, 0.001, 0.1)\n",
      "val_accuracy = 0.776\n",
      "Current parameters are (64, 20, 256, 0.9, 0.85, 0.001, 0.01)\n",
      "val_accuracy = 0.606\n",
      "Current parameters are (64, 20, 256, 0.9, 0.85, 0.001, 0.001)\n",
      "val_accuracy = 0.206\n",
      "Current parameters are (64, 20, 256, 0.85, 0.8, 0.01, 0.1)\n",
      "val_accuracy = 0.651\n",
      "Current parameters are (64, 20, 256, 0.85, 0.8, 0.01, 0.01)\n",
      "val_accuracy = 0.375\n",
      "Current parameters are (64, 20, 256, 0.85, 0.8, 0.01, 0.001)\n",
      "val_accuracy = 0.206\n",
      "Current parameters are (64, 20, 256, 0.85, 0.8, 0.005, 0.1)\n",
      "val_accuracy = 0.727\n",
      "Current parameters are (64, 20, 256, 0.85, 0.8, 0.005, 0.01)\n",
      "val_accuracy = 0.419\n",
      "Current parameters are (64, 20, 256, 0.85, 0.8, 0.005, 0.001)\n",
      "val_accuracy = 0.206\n",
      "Current parameters are (64, 20, 256, 0.85, 0.8, 0.001, 0.1)\n",
      "val_accuracy = 0.776\n",
      "Current parameters are (64, 20, 256, 0.85, 0.8, 0.001, 0.01)\n",
      "val_accuracy = 0.487\n",
      "Current parameters are (64, 20, 256, 0.85, 0.8, 0.001, 0.001)\n",
      "val_accuracy = 0.206\n",
      "Current parameters are (64, 20, 256, 0.85, 0.9, 0.01, 0.1)\n",
      "val_accuracy = 0.665\n",
      "Current parameters are (64, 20, 256, 0.85, 0.9, 0.01, 0.01)\n",
      "val_accuracy = 0.359\n",
      "Current parameters are (64, 20, 256, 0.85, 0.9, 0.01, 0.001)\n",
      "val_accuracy = 0.206\n",
      "Current parameters are (64, 20, 256, 0.85, 0.9, 0.005, 0.1)\n",
      "val_accuracy = 0.735\n",
      "Current parameters are (64, 20, 256, 0.85, 0.9, 0.005, 0.01)\n",
      "val_accuracy = 0.424\n",
      "Current parameters are (64, 20, 256, 0.85, 0.9, 0.005, 0.001)\n",
      "val_accuracy = 0.206\n",
      "Current parameters are (64, 20, 256, 0.85, 0.9, 0.001, 0.1)\n",
      "val_accuracy = 0.775\n",
      "Current parameters are (64, 20, 256, 0.85, 0.9, 0.001, 0.01)\n",
      "val_accuracy = 0.49\n",
      "Current parameters are (64, 20, 256, 0.85, 0.9, 0.001, 0.001)\n",
      "val_accuracy = 0.206\n",
      "Current parameters are (64, 20, 256, 0.85, 0.85, 0.01, 0.1)\n",
      "val_accuracy = 0.663\n",
      "Current parameters are (64, 20, 256, 0.85, 0.85, 0.01, 0.01)\n",
      "val_accuracy = 0.377\n",
      "Current parameters are (64, 20, 256, 0.85, 0.85, 0.01, 0.001)\n",
      "val_accuracy = 0.206\n",
      "Current parameters are (64, 20, 256, 0.85, 0.85, 0.005, 0.1)\n",
      "val_accuracy = 0.72\n",
      "Current parameters are (64, 20, 256, 0.85, 0.85, 0.005, 0.01)\n",
      "val_accuracy = 0.424\n",
      "Current parameters are (64, 20, 256, 0.85, 0.85, 0.005, 0.001)\n",
      "val_accuracy = 0.206\n",
      "Current parameters are (64, 20, 256, 0.85, 0.85, 0.001, 0.1)\n",
      "val_accuracy = 0.765\n",
      "Current parameters are (64, 20, 256, 0.85, 0.85, 0.001, 0.01)\n",
      "val_accuracy = 0.498\n",
      "Current parameters are (64, 20, 256, 0.85, 0.85, 0.001, 0.001)\n",
      "val_accuracy = 0.206\n",
      "Best parameters for now are (0.776, 64, 20, 256, 0.9, 0.8, 0.001, 0.1)\n"
     ]
    },
    {
     "ename": "TypeError",
     "evalue": "must be real number, not NoneType",
     "output_type": "error",
     "traceback": [
      "\u001b[0;31m---------------------------------------------------------------------------\u001b[0m",
      "\u001b[0;31mTypeError\u001b[0m                                 Traceback (most recent call last)",
      "\u001b[0;32m<ipython-input-153-36765dc5ac49>\u001b[0m in \u001b[0;36m<module>\u001b[0;34m\u001b[0m\n\u001b[1;32m     42\u001b[0m     \u001b[0mprint\u001b[0m\u001b[0;34m(\u001b[0m\u001b[0;34mf'Best parameters for now are {best_parameters}'\u001b[0m\u001b[0;34m)\u001b[0m\u001b[0;34m\u001b[0m\u001b[0;34m\u001b[0m\u001b[0m\n\u001b[1;32m     43\u001b[0m \u001b[0;34m\u001b[0m\u001b[0m\n\u001b[0;32m---> 44\u001b[0;31m \u001b[0mprint\u001b[0m\u001b[0;34m(\u001b[0m\u001b[0;34m'best validation accuracy achieved: %f'\u001b[0m \u001b[0;34m%\u001b[0m \u001b[0mbest_val_accuracy\u001b[0m\u001b[0;34m)\u001b[0m\u001b[0;34m\u001b[0m\u001b[0;34m\u001b[0m\u001b[0m\n\u001b[0m",
      "\u001b[0;31mTypeError\u001b[0m: must be real number, not NoneType"
     ]
    }
   ],
   "source": [
    "# Let's train the best one-hidden-layer network we can\n",
    "\n",
    "learning_rates = [1e-1, 1e-2, 1e-3]\n",
    "reg_strength = [1e-2, 5e-3, 1e-3] \n",
    "learning_rate_decay = [0.99, 0.9, 0.85]\n",
    "hidden_layer_size = [128, 256]\n",
    "momentum = [0.8, 0.9, 0.85]\n",
    "num_epochs = 20\n",
    "batch_size = 64\n",
    "\n",
    "best_classifier = None\n",
    "best_val_accuracy = None\n",
    "\n",
    "loss_history = []\n",
    "train_history = []\n",
    "val_history = []\n",
    "\n",
    "# TODO find the best hyperparameters to train the network\n",
    "# Don't hesitate to add new values to the arrays above, perform experiments, use any tricks you want\n",
    "# You should expect to get to at least 40% of valudation accuracy\n",
    "# Save loss/train/history of the best classifier to the variables above\n",
    "\n",
    "from tqdm import tqdm\n",
    "\n",
    "best_parameters = (-1, 0, 0, 0, 0, 0 ,0)\n",
    "for laysize in hidden_layer_size:\n",
    "    for decay in learning_rate_decay:\n",
    "        for moment in momentum:\n",
    "            for reg in reg_strength:\n",
    "                for rate in learning_rates:\n",
    "                    print(f'Current parameters are {(batch_size, num_epochs, laysize, decay, moment, reg, rate)}')\n",
    "                    model = TwoLayerNet(n_input = train_X.shape[1], n_output = 10, hidden_layer_size = laysize, reg = reg)\n",
    "                    dataset = Dataset(train_X, train_y, val_X, val_y)\n",
    "                    trainer = Trainer(model, dataset, MomentumSGD(moment), \n",
    "                                      learning_rate=rate, num_epochs=num_epochs, \n",
    "                                      batch_size=batch_size, learning_rate_decay=decay)\n",
    "                    \n",
    "                    loss_history, train_history, val_history = trainer.fit()\n",
    "                    print(f'val_accuracy = {val_history[len(val_history)-1]}')\n",
    "                    if best_parameters[0] < val_history[len(val_history)-1]:\n",
    "                        best_parameters = (val_history[len(val_history)-1], batch_size, num_epochs, laysize, decay, moment, reg, rate)\n",
    "    print(f'Best parameters for now are {best_parameters}')\n",
    "\n",
    "print('best validation accuracy achieved: %f' % best_parameters[0])"
   ]
  },
  {
   "cell_type": "code",
   "execution_count": 179,
   "metadata": {},
   "outputs": [
    {
     "name": "stdout",
     "output_type": "stream",
     "text": [
      "best_parameters: (0.776, 64, 20, 256, 0.9, 0.8, 0.001, 0.1)\n",
      "best validation accuracy achieved: 0.774000\n"
     ]
    }
   ],
   "source": [
    "print(f\"best_parameters: {best_parameters}\")\n",
    "best_classifier = TwoLayerNet(n_input = train_X.shape[1],n_output = 10, hidden_layer_size = best_parameters[3], reg = best_parameters[6])\n",
    "dataset = Dataset(train_X, train_y, val_X, val_y)\n",
    "best_classifier_trainer = Trainer(best_classifier, dataset, MomentumSGD(best_parameters[5]), learning_rate=best_parameters[7], num_epochs=best_parameters[2], batch_size=best_parameters[1], learning_rate_decay = best_parameters[4])\n",
    "loss_history, train_history, val_history = best_classifier_trainer.fit()\n",
    "\n",
    "print('best validation accuracy achieved: %f' % max(val_history))"
   ]
  },
  {
   "cell_type": "code",
   "execution_count": 180,
   "metadata": {},
   "outputs": [
    {
     "name": "stdout",
     "output_type": "stream",
     "text": [
      "Train is red\n",
      "Validation is blue\n"
     ]
    },
    {
     "data": {
      "image/png": "[encoded data removed]",
      "text/plain": [
       "<Figure size 1080x504 with 2 Axes>"
      ]
     },
     "metadata": {
      "needs_background": "light"
     },
     "output_type": "display_data"
    }
   ],
   "source": [
    "plt.figure(figsize=(15, 7))\n",
    "plt.subplot(211)\n",
    "plt.title(\"Loss\")\n",
    "plt.plot(loss_history)\n",
    "plt.subplot(212)\n",
    "plt.title(\"Train/validation accuracy\")\n",
    "plt.plot(train_history, color='red')\n",
    "plt.plot(val_history, color='blue')\n",
    "\n",
    "print('Train is red')\n",
    "print('Validation is blue')"
   ]
  },
  {
   "cell_type": "markdown",
   "metadata": {},
   "source": [
    "# Как обычно, посмотрим, как наша лучшая модель работает на тестовых данных"
   ]
  },
  {
   "cell_type": "code",
   "execution_count": 181,
   "metadata": {},
   "outputs": [
    {
     "name": "stdout",
     "output_type": "stream",
     "text": [
      "Neural net test set accuracy: 0.742000\n"
     ]
    }
   ],
   "source": [
    "test_pred = best_classifier.predict(test_X)\n",
    "test_accuracy = multiclass_accuracy(test_pred, test_y)\n",
    "print('Neural net test set accuracy: %f' % (test_accuracy, ))"
   ]
  }
 ],
 "metadata": {
  "kernelspec": {
   "display_name": "Python 3 (ipykernel)",
   "language": "python",
   "name": "python3"
  },
  "language_info": {
   "codemirror_mode": {
    "name": "ipython",
    "version": 3
   },
   "file_extension": ".py",
   "mimetype": "text/x-python",
   "name": "python",
   "nbconvert_exporter": "python",
   "pygments_lexer": "ipython3",
   "version": "3.8.5"
  }
 },
 "nbformat": 4,
 "nbformat_minor": 2
}
