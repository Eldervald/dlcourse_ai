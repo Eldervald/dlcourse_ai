{
  "nbformat": 4,
  "nbformat_minor": 0,
  "metadata": {
    "accelerator": "GPU",
    "colab": {
      "name": "REINFORCE.ipynb",
      "provenance": [],
      "collapsed_sections": []
    },
    "kernelspec": {
      "display_name": "Python 3",
      "language": "python",
      "name": "python3"
    },
    "language_info": {
      "codemirror_mode": {
        "name": "ipython",
        "version": 3
      },
      "file_extension": ".py",
      "mimetype": "text/x-python",
      "name": "python",
      "nbconvert_exporter": "python",
      "pygments_lexer": "ipython3",
      "version": "3.8.5"
    }
  },
  "cells": [
    {
      "cell_type": "markdown",
      "metadata": {
        "id": "AbwmoJusmueU"
      },
      "source": [
        "# Reinforcement Learning"
      ]
    },
    {
      "cell_type": "markdown",
      "metadata": {
        "id": "7xcuGNp-mueX"
      },
      "source": [
        "В этом задании постараемся разобраться в проблеме обучения с подкреплением, реализуем алгоритм REINFORCE и научим агента с помощью этого алгоритма играть в игру Cartpole."
      ]
    },
    {
      "cell_type": "markdown",
      "metadata": {
        "id": "4HoHMD_GmueZ"
      },
      "source": [
        "Установим и импортируем необходимые библиотеки, а также вспомогательные функции для визуализации игры агента."
      ]
    },
    {
      "cell_type": "code",
      "metadata": {
        "id": "kHKfskxa7kaI"
      },
      "source": [
        "!pip install gym pandas torch matplotlib pyvirtualdisplay > /dev/null 2>&1\n",
        "!apt-get install -y xvfb python-opengl ffmpeg x11-utils > /dev/null 2>&1"
      ],
      "execution_count": 39,
      "outputs": []
    },
    {
      "cell_type": "code",
      "metadata": {
        "id": "WiX0JVM3z0Ru"
      },
      "source": [
        "from IPython.display import clear_output, HTML\n",
        "from IPython import display as ipythondisplay\n",
        "import matplotlib.pyplot as plt\n",
        "%matplotlib inline"
      ],
      "execution_count": 40,
      "outputs": []
    },
    {
      "cell_type": "code",
      "metadata": {
        "id": "IsjSHknYl1rj"
      },
      "source": [
        "import numpy as np\n",
        "import glob\n",
        "import time\n",
        "import io\n",
        "import base64\n",
        "import gym\n",
        "from gym.wrappers import Monitor\n",
        "import torch\n",
        "import collections\n",
        "import pandas as pd\n",
        "from torch import nn\n",
        "from torch.optim import Adam\n",
        "from torch.distributions import Categorical"
      ],
      "execution_count": 41,
      "outputs": []
    },
    {
      "cell_type": "code",
      "metadata": {
        "colab": {
          "base_uri": "https://localhost:8080/"
        },
        "id": "b5KfVGq1n_8s",
        "outputId": "adf8dd42-42cc-4921-d4af-d480a9f0a10e"
      },
      "source": [
        "from pyvirtualdisplay import Display\n",
        "display = Display(visible=0, size=(1400, 900))\n",
        "display.start()"
      ],
      "execution_count": 42,
      "outputs": [
        {
          "output_type": "execute_result",
          "data": {
            "text/plain": [
              "<pyvirtualdisplay.display.Display at 0x7fbcf249fc50>"
            ]
          },
          "metadata": {},
          "execution_count": 42
        }
      ]
    },
    {
      "cell_type": "code",
      "metadata": {
        "id": "4xGh4QxDnlFw"
      },
      "source": [
        "\"\"\"\n",
        "Utility functions to enable video recording of gym environment and displaying it\n",
        "To enable video, just do \"env = wrap_env(env)\"\"\n",
        "\"\"\"\n",
        "\n",
        "def show_video():\n",
        "    mp4list = glob.glob('video/*.mp4')\n",
        "    if len(mp4list) > 0:\n",
        "        mp4 = mp4list[0]\n",
        "        video = io.open(mp4, 'r+b').read()\n",
        "        encoded = base64.b64encode(video)\n",
        "        ipythondisplay.display(HTML(data='''<video alt=\"test\" autoplay \n",
        "                loop controls style=\"height: 400px;\">\n",
        "                <source src=\"data:video/mp4;base64,{0}\" type=\"video/mp4\" />\n",
        "             </video>'''.format(encoded.decode('ascii'))))\n",
        "    else: \n",
        "        print(\"Could not find video\")\n",
        "    \n",
        "\n",
        "def wrap_env(env):\n",
        "    env = Monitor(env, './video', force=True)\n",
        "    return env"
      ],
      "execution_count": 43,
      "outputs": []
    },
    {
      "cell_type": "code",
      "metadata": {
        "id": "Dfi89tXjmuet"
      },
      "source": [
        "device = torch.device('cuda:0' if torch.cuda.is_available() else 'cpu') #позволяет перенести тензор на GPU, если он доступен в системе"
      ],
      "execution_count": 44,
      "outputs": []
    },
    {
      "cell_type": "markdown",
      "metadata": {
        "id": "AhDVTPxymuez"
      },
      "source": [
        "## OpenAI Gym"
      ]
    },
    {
      "cell_type": "markdown",
      "metadata": {
        "id": "VZb-IIq4muez"
      },
      "source": [
        "[OpenAI Gym](https://gym.openai.com) это набор сред для разработки и сравнения алгоритмов обучения с подкреплением."
      ]
    },
    {
      "cell_type": "markdown",
      "metadata": {
        "id": "fFkuRjxNmue2"
      },
      "source": [
        "OpenAI Gym предоставляет простой и универсальный API ко многим средам с разными свойствами, как простым так и сложным:\n",
        "* Классические задачи управления и игрушечные примеры, которые можно найти в учебниках и на которых демонстрируется работа алгоритмов обучения с подкреплением (одна из этих сред используется в этом задании)\n",
        "* Игры Atari (оказали огромное влияние на достижения в обучении с подкреплением в последние годы)\n",
        "* 2D и 3D среды для контроля роботов в симуляции (используют проприетарный движок [Mojuco](http://www.mujoco.org))"
      ]
    },
    {
      "cell_type": "markdown",
      "metadata": {
        "id": "NIu0Uhj7mue5"
      },
      "source": [
        "Рассмотрим, как устроена среда [CartPole-v0](https://gym.openai.com/envs/CartPole-v0), с которой мы будем работать."
      ]
    },
    {
      "cell_type": "markdown",
      "metadata": {
        "id": "KYHUeiMXmue6"
      },
      "source": [
        "Для этого создадим среду и выведем ее описание."
      ]
    },
    {
      "cell_type": "code",
      "metadata": {
        "colab": {
          "base_uri": "https://localhost:8080/"
        },
        "id": "b9BRqxoDmue7",
        "outputId": "e4cff7ad-7fda-48c1-cf3c-f00e51704ef9"
      },
      "source": [
        "env = gym.make(\"CartPole-v0\")\n",
        "print(env.env.__doc__)"
      ],
      "execution_count": 45,
      "outputs": [
        {
          "output_type": "stream",
          "name": "stdout",
          "text": [
            "\n",
            "    Description:\n",
            "        A pole is attached by an un-actuated joint to a cart, which moves along\n",
            "        a frictionless track. The pendulum starts upright, and the goal is to\n",
            "        prevent it from falling over by increasing and reducing the cart's\n",
            "        velocity.\n",
            "\n",
            "    Source:\n",
            "        This environment corresponds to the version of the cart-pole problem\n",
            "        described by Barto, Sutton, and Anderson\n",
            "\n",
            "    Observation:\n",
            "        Type: Box(4)\n",
            "        Num     Observation               Min                     Max\n",
            "        0       Cart Position             -4.8                    4.8\n",
            "        1       Cart Velocity             -Inf                    Inf\n",
            "        2       Pole Angle                -0.418 rad (-24 deg)    0.418 rad (24 deg)\n",
            "        3       Pole Angular Velocity     -Inf                    Inf\n",
            "\n",
            "    Actions:\n",
            "        Type: Discrete(2)\n",
            "        Num   Action\n",
            "        0     Push cart to the left\n",
            "        1     Push cart to the right\n",
            "\n",
            "        Note: The amount the velocity that is reduced or increased is not\n",
            "        fixed; it depends on the angle the pole is pointing. This is because\n",
            "        the center of gravity of the pole increases the amount of energy needed\n",
            "        to move the cart underneath it\n",
            "\n",
            "    Reward:\n",
            "        Reward is 1 for every step taken, including the termination step\n",
            "\n",
            "    Starting State:\n",
            "        All observations are assigned a uniform random value in [-0.05..0.05]\n",
            "\n",
            "    Episode Termination:\n",
            "        Pole Angle is more than 12 degrees.\n",
            "        Cart Position is more than 2.4 (center of the cart reaches the edge of\n",
            "        the display).\n",
            "        Episode length is greater than 200.\n",
            "        Solved Requirements:\n",
            "        Considered solved when the average return is greater than or equal to\n",
            "        195.0 over 100 consecutive trials.\n",
            "    \n"
          ]
        }
      ]
    },
    {
      "cell_type": "markdown",
      "metadata": {
        "id": "tovAoT5dmufD"
      },
      "source": [
        "Из этого описания мы можем узнать, как устроены пространства состояний и действий в этой среды, какие награды получаются на каждом шаге, а также, что нам необходимо сделать, чтобы научиться \"решать\" эту среду, а именно достич средней награды больше 195.0 или больше за 100 последовательных запусков агента в этой среде. Именно такого агента мы и попробуем создать и обучить."
      ]
    },
    {
      "cell_type": "markdown",
      "metadata": {
        "id": "hZ98fYaxmufF"
      },
      "source": [
        "Но для начала напишем вспомогательную функцию, которая будет принимать на вход среду, агента и число эпизодов, и возвращать среднюю награду за 100 эпизодов. С помощью этой функции мы сможем протестировать, насколько хорошо обучился наш агент, а также визуализировать его поведение в среде."
      ]
    },
    {
      "cell_type": "code",
      "metadata": {
        "id": "0jXEOwd7njUm"
      },
      "source": [
        "def test_agent(env, agent=None, n_episodes=100):\n",
        "    \"\"\"Runs agent for n_episodes in environment and calclates mean reward.\n",
        "    \n",
        "    Args:\n",
        "        env: The environment for agent to play in\n",
        "        agent: The agent to play with. Defaults to None - \n",
        "            in this case random agent is used.\n",
        "        n_episodes: Number of episodes to play. Defaults to 100.\n",
        "\n",
        "    Returns:\n",
        "        Mean reward for 100 episodes.\n",
        "    \"\"\"\n",
        "    total_reward = []\n",
        "    for episode in range(n_episodes):\n",
        "        episode_reward = 0\n",
        "        observation = env.reset()\n",
        "        t = 0\n",
        "        while True:\n",
        "            if agent:\n",
        "                with torch.no_grad():\n",
        "                    probs = agent(torch.FloatTensor(observation).to(device))\n",
        "                    dist = Categorical(probs)\n",
        "                    action = dist.sample().item()\n",
        "            else:\n",
        "                action = env.action_space.sample()\n",
        "            observation, reward, done, info = env.step(action)\n",
        "            episode_reward += reward\n",
        "            t += 1\n",
        "            if done:\n",
        "                print(\"Episode {} finished after {} timesteps\".format(episode+1, t+1))\n",
        "                break\n",
        "        total_reward.append(episode_reward)\n",
        "        env.close()\n",
        "                   \n",
        "    return np.mean(total_reward)"
      ],
      "execution_count": 46,
      "outputs": []
    },
    {
      "cell_type": "markdown",
      "metadata": {
        "id": "TqnYqFVSmufL"
      },
      "source": [
        "Протестируем и визуализируем случайного агента (параметр ```agent=False```)."
      ]
    },
    {
      "cell_type": "code",
      "metadata": {
        "colab": {
          "base_uri": "https://localhost:8080/"
        },
        "id": "yqVokBDFmufM",
        "scrolled": true,
        "outputId": "d30ece1d-2270-4cb3-f8ce-9e0b287d0c45"
      },
      "source": [
        "test_agent(env, agent=False, n_episodes=100)"
      ],
      "execution_count": 47,
      "outputs": [
        {
          "output_type": "stream",
          "name": "stdout",
          "text": [
            "Episode 1 finished after 33 timesteps\n",
            "Episode 2 finished after 14 timesteps\n",
            "Episode 3 finished after 14 timesteps\n",
            "Episode 4 finished after 17 timesteps\n",
            "Episode 5 finished after 22 timesteps\n",
            "Episode 6 finished after 21 timesteps\n",
            "Episode 7 finished after 23 timesteps\n",
            "Episode 8 finished after 23 timesteps\n",
            "Episode 9 finished after 20 timesteps\n",
            "Episode 10 finished after 17 timesteps\n",
            "Episode 11 finished after 12 timesteps\n",
            "Episode 12 finished after 12 timesteps\n",
            "Episode 13 finished after 15 timesteps\n",
            "Episode 14 finished after 18 timesteps\n",
            "Episode 15 finished after 17 timesteps\n",
            "Episode 16 finished after 26 timesteps\n",
            "Episode 17 finished after 26 timesteps\n",
            "Episode 18 finished after 49 timesteps\n",
            "Episode 19 finished after 18 timesteps\n",
            "Episode 20 finished after 28 timesteps\n",
            "Episode 21 finished after 13 timesteps\n",
            "Episode 22 finished after 20 timesteps\n",
            "Episode 23 finished after 15 timesteps\n",
            "Episode 24 finished after 36 timesteps\n",
            "Episode 25 finished after 20 timesteps\n",
            "Episode 26 finished after 13 timesteps\n",
            "Episode 27 finished after 43 timesteps\n",
            "Episode 28 finished after 14 timesteps\n",
            "Episode 29 finished after 54 timesteps\n",
            "Episode 30 finished after 18 timesteps\n",
            "Episode 31 finished after 22 timesteps\n",
            "Episode 32 finished after 22 timesteps\n",
            "Episode 33 finished after 14 timesteps\n",
            "Episode 34 finished after 50 timesteps\n",
            "Episode 35 finished after 57 timesteps\n",
            "Episode 36 finished after 33 timesteps\n",
            "Episode 37 finished after 14 timesteps\n",
            "Episode 38 finished after 21 timesteps\n",
            "Episode 39 finished after 17 timesteps\n",
            "Episode 40 finished after 13 timesteps\n",
            "Episode 41 finished after 14 timesteps\n",
            "Episode 42 finished after 22 timesteps\n",
            "Episode 43 finished after 38 timesteps\n",
            "Episode 44 finished after 12 timesteps\n",
            "Episode 45 finished after 19 timesteps\n",
            "Episode 46 finished after 41 timesteps\n",
            "Episode 47 finished after 58 timesteps\n",
            "Episode 48 finished after 15 timesteps\n",
            "Episode 49 finished after 44 timesteps\n",
            "Episode 50 finished after 48 timesteps\n",
            "Episode 51 finished after 17 timesteps\n",
            "Episode 52 finished after 29 timesteps\n",
            "Episode 53 finished after 14 timesteps\n",
            "Episode 54 finished after 28 timesteps\n",
            "Episode 55 finished after 11 timesteps\n",
            "Episode 56 finished after 46 timesteps\n",
            "Episode 57 finished after 29 timesteps\n",
            "Episode 58 finished after 17 timesteps\n",
            "Episode 59 finished after 13 timesteps\n",
            "Episode 60 finished after 24 timesteps\n",
            "Episode 61 finished after 15 timesteps\n",
            "Episode 62 finished after 22 timesteps\n",
            "Episode 63 finished after 24 timesteps\n",
            "Episode 64 finished after 22 timesteps\n",
            "Episode 65 finished after 17 timesteps\n",
            "Episode 66 finished after 13 timesteps\n",
            "Episode 67 finished after 20 timesteps\n",
            "Episode 68 finished after 39 timesteps\n",
            "Episode 69 finished after 19 timesteps\n",
            "Episode 70 finished after 11 timesteps\n",
            "Episode 71 finished after 33 timesteps\n",
            "Episode 72 finished after 20 timesteps\n",
            "Episode 73 finished after 46 timesteps\n",
            "Episode 74 finished after 18 timesteps\n",
            "Episode 75 finished after 12 timesteps\n",
            "Episode 76 finished after 20 timesteps\n",
            "Episode 77 finished after 18 timesteps\n",
            "Episode 78 finished after 18 timesteps\n",
            "Episode 79 finished after 33 timesteps\n",
            "Episode 80 finished after 13 timesteps\n",
            "Episode 81 finished after 20 timesteps\n",
            "Episode 82 finished after 37 timesteps\n",
            "Episode 83 finished after 66 timesteps\n",
            "Episode 84 finished after 15 timesteps\n",
            "Episode 85 finished after 16 timesteps\n",
            "Episode 86 finished after 30 timesteps\n",
            "Episode 87 finished after 27 timesteps\n",
            "Episode 88 finished after 12 timesteps\n",
            "Episode 89 finished after 19 timesteps\n",
            "Episode 90 finished after 37 timesteps\n",
            "Episode 91 finished after 17 timesteps\n",
            "Episode 92 finished after 57 timesteps\n",
            "Episode 93 finished after 12 timesteps\n",
            "Episode 94 finished after 26 timesteps\n",
            "Episode 95 finished after 35 timesteps\n",
            "Episode 96 finished after 24 timesteps\n",
            "Episode 97 finished after 18 timesteps\n",
            "Episode 98 finished after 11 timesteps\n",
            "Episode 99 finished after 39 timesteps\n",
            "Episode 100 finished after 38 timesteps\n"
          ]
        },
        {
          "output_type": "execute_result",
          "data": {
            "text/plain": [
              "23.62"
            ]
          },
          "metadata": {},
          "execution_count": 47
        }
      ]
    },
    {
      "cell_type": "markdown",
      "metadata": {
        "id": "8bzNtyllmufS"
      },
      "source": [
        "Как видно, наш случайный агент выступает не очень хорошо и в среднем может удержать шест всего около 20 шагов."
      ]
    },
    {
      "cell_type": "markdown",
      "metadata": {
        "id": "BNcZLQpzmufU"
      },
      "source": [
        "Напишем функцию для визуализации агента и посмотрим на случайного агента."
      ]
    },
    {
      "cell_type": "code",
      "metadata": {
        "id": "GgThoRPgoMcs"
      },
      "source": [
        "def agent_viz(env=\"CartPole-v0\", agent=None):\n",
        "    \"\"\"Visualizes agent play in the given environment.\n",
        "    \n",
        "    Args:\n",
        "        env: The environment for agent to play in. Defaults to CartPole-v0.\n",
        "        agent: The agent to play with. Defaults to None - \n",
        "            in this case random agent is used.\n",
        "\n",
        "    Returns:\n",
        "        Nothing is returned. Visualization is created and can be showed\n",
        "            with show_video() function.\n",
        "    \"\"\"\n",
        "    env = wrap_env(gym.make(env))\n",
        "    observation = env.reset()\n",
        "    while True:\n",
        "        env.render() \n",
        "        if agent:\n",
        "            with torch.no_grad():\n",
        "                probs = agent(torch.FloatTensor(observation).to(device))\n",
        "                dist = Categorical(probs)\n",
        "                action = dist.sample().item()\n",
        "        else:\n",
        "            action = env.action_space.sample()\n",
        "        observation, reward, done, info = env.step(action)\n",
        "        if done:\n",
        "            break\n",
        "            \n",
        "    env.close()"
      ],
      "execution_count": 48,
      "outputs": []
    },
    {
      "cell_type": "code",
      "metadata": {
        "colab": {
          "base_uri": "https://localhost:8080/",
          "height": 421
        },
        "id": "b5FLllE_pHSf",
        "outputId": "8596da02-3929-44b6-c07c-f362e8c377cc"
      },
      "source": [
        "agent_viz()\n",
        "show_video()"
      ],
      "execution_count": 49,
      "outputs": [
        {
          "output_type": "display_data",
          "data": {
            "text/html": [
              "<video alt=\"test\" autoplay \n",
              "                loop controls style=\"height: 400px;\">\n",
              "                <source src=\"data:video/mp4;base64,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\" type=\"video/mp4\" />\n",
              "             </video>"
            ],
            "text/plain": [
              "<IPython.core.display.HTML object>"
            ]
          },
          "metadata": {}
        }
      ]
    },
    {
      "cell_type": "markdown",
      "metadata": {
        "id": "hpQF0xgJmufW"
      },
      "source": [
        "Попробуем применить обучение с подкреплением и алгоритм REINFORCE для того, чтобы в среднем за 100 эпиздов мы держали шест не менее 195 шагов."
      ]
    },
    {
      "cell_type": "markdown",
      "metadata": {
        "id": "M2SkO__WmufX"
      },
      "source": [
        "## REINFORCE"
      ]
    },
    {
      "cell_type": "markdown",
      "metadata": {
        "id": "QW95huRpmufY"
      },
      "source": [
        "Вспомним, что из себя представляет алгоритм REINFORCE (Sutton & Barto) <img src=\"//i.imgur.com/bnASTrY.png\" width=\"700\">"
      ]
    },
    {
      "cell_type": "markdown",
      "metadata": {
        "id": "CFD7oH9mmufZ"
      },
      "source": [
        "1. Инициализуем политику (в качестве политики мы будем использовать глубокую нейронную сеть).\n",
        "2. \"Играем\" в среде эпизод, используя нашу политику, или несколько (мы будем использовать последний вариант) и собираем данные о состояниях, действиях и полученных наградах. \n",
        "3. Для каждого состояния в собранных эпизодах вычисляем сумму дисконтированных наград, полученных из этого состояния, а также логорифм правдоподобия предпринятого действия в этом состоянии для нашей политики.\n",
        "4. Обновляем параметры нашей политики по формуле на схеме."
      ]
    },
    {
      "cell_type": "markdown",
      "metadata": {
        "id": "Zjhox1Rdmufa"
      },
      "source": [
        "### Политика"
      ]
    },
    {
      "cell_type": "markdown",
      "metadata": {
        "id": "v5KOdiJrmufb"
      },
      "source": [
        "Наша политика должна принимать на вход состояние среды, а на выходе выдавать распределение по действиям, которые мы можем осуществлять в среде.\n",
        "\n",
        "**Задание:** Создать класс нейронной сети со следующей архитектурой ```Linear -> ReLU -> Linear -> Softmax```. Параметрами инициализации должны служить размерности пространства состояний, пространства действий и размер скрытого слоя."
      ]
    },
    {
      "cell_type": "code",
      "metadata": {
        "id": "BSbzinGQidFm"
      },
      "source": [
        "class Policy(nn.Module):\n",
        "    \"\"\"Policy to be used by agent.\n",
        "\n",
        "    Attributes:\n",
        "        state_size: Dimention of the state space of the environment.\n",
        "        act_size: Dimention of the action space of the environment.\n",
        "        hidden_size: Dimention of the hidden state of the agent's policy.\n",
        "    \"\"\"\n",
        "    \n",
        "    def __init__(self, state_size, act_size, hidden_size):\n",
        "        super().__init__()\n",
        "        self.state_size = state_size\n",
        "        self.act_size = act_size\n",
        "\n",
        "        self.model = nn.Sequential(\n",
        "            nn.Linear(self.state_size, hidden_size),\n",
        "            nn.ReLU(),\n",
        "            nn.Linear(hidden_size, self.act_size),\n",
        "            nn.Softmax(dim=-1)\n",
        "        )\n",
        "    \n",
        "    def forward(self, x):\n",
        "        return self.model(x)"
      ],
      "execution_count": 50,
      "outputs": []
    },
    {
      "cell_type": "markdown",
      "metadata": {
        "id": "E0bYNhJ_mufh"
      },
      "source": [
        "### Оценка правдоподобия и расчет суммы дисконтированных наград"
      ]
    },
    {
      "cell_type": "markdown",
      "metadata": {
        "id": "QMZIoW8pmufi"
      },
      "source": [
        "**Задание:** Напишем вспомогательная функцию, которая принимает на вход политику, батч траекторий и фактор дисконтирования, и должна вернуть следующие величины: \n",
        "* правдоподобие действия на каждом шаге на траектории посчитанные для всего батча;\n",
        "* дисконтированные суммы наград (reward-to-go) из каждого состояния среды на траектории посчитанные для всего батча;"
      ]
    },
    {
      "cell_type": "markdown",
      "metadata": {
        "id": "rcs_Xi-jmufl"
      },
      "source": [
        "**Hint**: Представим батч траекторий как ```list```, в котром также хранится ```list``` для каждой траектории, в котором каждый шаг хранится, как ```namedtuple```:\n",
        "```transition = collections.namedtuple(\"transition\", [\"state\", \"action\", \"reward\"])```"
      ]
    },
    {
      "cell_type": "code",
      "metadata": {
        "id": "eGHfushNmufl"
      },
      "source": [
        "def process_traj_batch(policy, batch, discount):\n",
        "    \"\"\"Computes log probabilities for each action \n",
        "        and rewards-to-go for each state in the batch of trajectories.\n",
        "    \n",
        "    Args:\n",
        "        policy: Policy of the agent.\n",
        "        batch (list of list of collections.namedtuple): Batch of trajectories.\n",
        "        discount (float): Discount factor for rewards-to-go calculation.\n",
        "\n",
        "    Returns:\n",
        "        log_probs (list of torch.FloatTensor): List of log probabilities for\n",
        "            each action in the batch of trajectories.\n",
        "        returns (list of rewards-to-go): List of rewards-to-go for \n",
        "            each state in the batch of trajectories.\n",
        "    \"\"\"\n",
        "\n",
        "    log_probs = []\n",
        "    returns = []\n",
        "\n",
        "    for x in batch:\n",
        "        input = torch.stack([t.state for t in x]).view(len(x), -1)\n",
        "        acts = torch.stack([t.action for t in x]).view(len(x), -1)\n",
        "        rewards = [t.reward for t in x]\n",
        "\n",
        "        probs = policy(input)\n",
        "        # print(probs)\n",
        "        log_probs.extend(torch.log(probs).gather(1, acts).view(-1))\n",
        "        rewards_disc = rewards.copy()\n",
        "\n",
        "        # dp\n",
        "        for i in range(len(rewards) - 2, -1, -1):\n",
        "            rewards_disc[i] += rewards_disc[i + 1] * discount\n",
        "\n",
        "        returns.extend(rewards_disc)\n",
        "\n",
        "    # print(log_probs)\n",
        "    # print(returns)\n",
        "\n",
        "    return log_probs, returns"
      ],
      "execution_count": 51,
      "outputs": []
    },
    {
      "cell_type": "markdown",
      "metadata": {
        "id": "mp6xKRWXmufp"
      },
      "source": [
        "Ваша реализация функции должна проходить следующий тест."
      ]
    },
    {
      "cell_type": "code",
      "metadata": {
        "id": "qVJnolh-mufq"
      },
      "source": [
        "def test_process_traj_batch(process_traj_batch):\n",
        "    \n",
        "    transition = collections.namedtuple(\"transition\", [\"state\", \"action\", \"reward\"])\n",
        "    \n",
        "    class HelperPolicy(nn.Module):\n",
        "        def __init__(self):\n",
        "            super(HelperPolicy, self).__init__()\n",
        "        \n",
        "            self.act = nn.Sequential(\n",
        "                nn.Linear(4, 2),\n",
        "                nn.Softmax(dim=1),\n",
        "            )\n",
        "        \n",
        "        def forward(self, x):\n",
        "            return self.act(x)\n",
        "        \n",
        "    policy = HelperPolicy()\n",
        "    \n",
        "    for name, param in policy.named_parameters():\n",
        "        if name == \"act.0.weight\":\n",
        "            param.data = torch.tensor([[1.7492, -0.2471, 0.3310, 1.1494],\n",
        "                                       [0.6171, -0.6026, 0.5025, -0.3196]])\n",
        "        else:\n",
        "            param.data = torch.tensor([0.0262, 0.1882])\n",
        "            \n",
        "    batch = [\n",
        "        [\n",
        "            transition(state=torch.tensor([ 0.0462, -0.0018,  0.0372,  0.0063]), action=torch.tensor(0), reward=1.0), \n",
        "            transition(state=torch.tensor([ 0.0462, -0.1975,  0.0373,  0.3105]), action=torch.tensor(1), reward=1.0), \n",
        "            transition(state=torch.tensor([ 0.0422, -0.0029,  0.0435,  0.0298]), action=torch.tensor(0), reward=1.0), \n",
        "            transition(state=torch.tensor([ 0.0422, -0.1986,  0.0441,  0.3359]), action=torch.tensor(0), reward=1.0), \n",
        "        ],\n",
        "        [\n",
        "            transition(state=torch.tensor([ 0.0382, -0.3943,  0.0508,  0.6421]), action=torch.tensor(1), reward=1.0), \n",
        "            transition(state=torch.tensor([ 0.0303, -0.2000,  0.0637,  0.3659]), action=torch.tensor(1), reward=1.0), \n",
        "            transition(state=torch.tensor([ 0.0263, -0.0058,  0.0710,  0.0939]), action=torch.tensor(1), reward=1.0), \n",
        "            transition(state=torch.tensor([ 0.0262,  0.1882,  0.0729, -0.1755]), action=torch.tensor(0), reward=1.0)\n",
        "        ]\n",
        "    ]\n",
        "    \n",
        "    log_probs, returns = process_traj_batch(policy, batch, 0.9)\n",
        "    assert sum(log_probs).item() == -6.3940582275390625, \"Log probabilities calculation is incorrect!!!\"\n",
        "    assert sum(returns) == 18.098, \"Log probabilities calculation is incorrect!!!\"\n",
        "    print(\"Correct!\")"
      ],
      "execution_count": 52,
      "outputs": []
    },
    {
      "cell_type": "code",
      "metadata": {
        "colab": {
          "base_uri": "https://localhost:8080/"
        },
        "id": "_qKrJpyBmufu",
        "outputId": "287ecaa6-4cb4-43f3-e988-6bbb0f34f629"
      },
      "source": [
        "test_process_traj_batch(process_traj_batch)"
      ],
      "execution_count": 53,
      "outputs": [
        {
          "output_type": "stream",
          "name": "stdout",
          "text": [
            "Correct!\n"
          ]
        }
      ]
    },
    {
      "cell_type": "markdown",
      "metadata": {
        "id": "7_y4MJPxmufz"
      },
      "source": [
        "### Вспомогательные функции и гиперпараметры"
      ]
    },
    {
      "cell_type": "markdown",
      "metadata": {
        "id": "PKF5itlpmuf0"
      },
      "source": [
        "Функция для расчета скользящего среднего - ее мы будем использовать для визуализации наград по эпизодам."
      ]
    },
    {
      "cell_type": "code",
      "metadata": {
        "id": "tHgXs9aPmuf2"
      },
      "source": [
        "moving_average = lambda x, **kw: pd.DataFrame({'x':np.asarray(x)}).x.ewm(**kw).mean().values"
      ],
      "execution_count": 54,
      "outputs": []
    },
    {
      "cell_type": "markdown",
      "metadata": {
        "id": "P3oqmQmxmuf6"
      },
      "source": [
        "Определим также гиперпараметры."
      ]
    },
    {
      "cell_type": "code",
      "metadata": {
        "id": "cFSLjGjOms0m"
      },
      "source": [
        "STATE_SIZE  = env.observation_space.shape[0] # размерность пространства состояний среды\n",
        "ACT_SIZE = env.action_space.n # размерность пространства действий среды\n",
        "HIDDEN_SIZE = 256 # размер скрытого слоя для политики\n",
        "NUM_EPISODES = 1000 # количество эпиздов, которые будут сыграны для обучения\n",
        "DISCOUNT = 0.99 # фактор дисконтирования\n",
        "TRAIN_EVERY = 20"
      ],
      "execution_count": 55,
      "outputs": []
    },
    {
      "cell_type": "markdown",
      "metadata": {
        "id": "d1RZfo_1muf-"
      },
      "source": [
        "Инициализуем политику и алгоритм оптимизации - мы будем использовать Adam c праметрами по умолчанию."
      ]
    },
    {
      "cell_type": "code",
      "metadata": {
        "id": "zEKqg4Ykmuf_"
      },
      "source": [
        "policy = Policy(STATE_SIZE, ACT_SIZE, HIDDEN_SIZE).to(device)\n",
        "optimizer = Adam(policy.parameters())"
      ],
      "execution_count": 56,
      "outputs": []
    },
    {
      "cell_type": "code",
      "metadata": {
        "id": "EIbRMh3MmugC"
      },
      "source": [
        "transition = collections.namedtuple(\"transition\", [\"state\", \"action\", \"reward\"])"
      ],
      "execution_count": 57,
      "outputs": []
    },
    {
      "cell_type": "markdown",
      "metadata": {
        "id": "jRRCJTnimugE"
      },
      "source": [
        "### Основной цикл обучения"
      ]
    },
    {
      "cell_type": "markdown",
      "metadata": {
        "id": "FcQ4-JMymugE"
      },
      "source": [
        "Теперь, когда мы опредлели вспомогательные функции, то нам следует написать основной цикл обучения агент.\n",
        "В цикле должно происходить следующее:"
      ]
    },
    {
      "cell_type": "markdown",
      "metadata": {
        "id": "1wih2vIYmugG"
      },
      "source": [
        "1. Играем количество эпизодов, определенное в гиперпараметре ```NUM_EPISODES```.\n",
        "2. В каждом эпизоде сохраняем информацию о шагах на траектории - состояние, действие и награду.\n",
        "3. В конце каждого эпизода сохраняем вышеуказанную информацию о траектории. \n",
        "4. Периодически обучаемся на собранных эпизодах каждые ```TRAIN_EVERY``` эпизодов:  \n",
        "    4.1. Считаем для собранного батча для каждого шага на трактории правдоподобие и сумму дисконтированных наград.  \n",
        "    4.2. Обновляем параметры политики агента по формуле, приведенной на схеме."
      ]
    },
    {
      "cell_type": "markdown",
      "metadata": {
        "id": "gb1eIuJqmugI"
      },
      "source": [
        "**Задание:** Реализовать алгоритм обучения, описанный на схеме и в тексте выше. Шаблон кода алгоритма представлен ниже. При этом следует сохранять сумму ревордов для каждого эпизода в переменную ```returns_history```. Алгоритму потребуется около 1000 эпизодов игры, для того чтобы научиться играть в игру (если после 1000 эпизодов агент играет немного хуже, чем для победы в игре, попробуйте обучать его немного дольше или установите критерий останова - когда средняя награда за 100 последних эпизодов превышает значение в ```env.spec.reward_threshold``` )"
      ]
    },
    {
      "cell_type": "code",
      "metadata": {
        "colab": {
          "base_uri": "https://localhost:8080/",
          "height": 390
        },
        "id": "cvEwjezan5tl",
        "outputId": "d958c5d2-47a9-4776-baec-dcbf1bbac5df"
      },
      "source": [
        "returns_history = []\n",
        "traj_batch = []\n",
        "\n",
        "for i in range(NUM_EPISODES):\n",
        "        \n",
        "    state = torch.FloatTensor(env.reset()).to(device)\n",
        "    traj = []\n",
        "    rewards = 0\n",
        "\n",
        "    while True:\n",
        "        probs = policy(state)\n",
        "        dist = Categorical(probs)\n",
        "        action = dist.sample().item()\n",
        "\n",
        "        next_state, reward, done, _ = env.step(action)\n",
        "        traj.append(transition(state, torch.tensor(action).to(device), reward))\n",
        "        rewards += reward\n",
        "\n",
        "        if not done:\n",
        "            state = torch.FloatTensor(next_state).to(device)\n",
        "        else:\n",
        "            break\n",
        "\n",
        "    returns_history.append(rewards)\n",
        "            \n",
        "    traj_batch.append(traj)\n",
        "\n",
        "    if i % TRAIN_EVERY:\n",
        "        log_probs, returns = process_traj_batch(policy, traj_batch, DISCOUNT)\n",
        "        loss = -(torch.stack(log_probs) * torch.FloatTensor(returns).to(device)).sum()\n",
        "        optimizer.zero_grad()\n",
        "        loss.backward()\n",
        "        optimizer.step()\n",
        "        \n",
        "        traj_batch = []\n",
        "\n",
        "    if i % 10:\n",
        "        clear_output(True)\n",
        "        plt.figure(figsize=[12, 6])\n",
        "        plt.title('Returns'); plt.grid()\n",
        "        plt.scatter(np.arange(len(returns_history)), returns_history, alpha=0.1)\n",
        "        plt.plot(moving_average(returns_history, span=10, min_periods=10))\n",
        "        plt.show()"
      ],
      "execution_count": 58,
      "outputs": [
        {
          "output_type": "display_data",
          "data": {
            "image/png": "[encoded data removed]",
            "text/plain": [
              "<Figure size 864x432 with 1 Axes>"
            ]
          },
          "metadata": {
            "needs_background": "light"
          }
        }
      ]
    },
    {
      "cell_type": "markdown",
      "metadata": {
        "id": "Be9Zh-MamugN"
      },
      "source": [
        "Протестируем обученного агента."
      ]
    },
    {
      "cell_type": "code",
      "metadata": {
        "colab": {
          "base_uri": "https://localhost:8080/"
        },
        "id": "-ry9g_aBmugO",
        "outputId": "ec7d2d23-0fd9-48fb-f05c-d65f27f7b054"
      },
      "source": [
        "test_agent(env, agent=policy, n_episodes=100)"
      ],
      "execution_count": 59,
      "outputs": [
        {
          "output_type": "stream",
          "name": "stdout",
          "text": [
            "Episode 1 finished after 201 timesteps\n",
            "Episode 2 finished after 147 timesteps\n",
            "Episode 3 finished after 201 timesteps\n",
            "Episode 4 finished after 201 timesteps\n",
            "Episode 5 finished after 180 timesteps\n",
            "Episode 6 finished after 173 timesteps\n",
            "Episode 7 finished after 164 timesteps\n",
            "Episode 8 finished after 177 timesteps\n",
            "Episode 9 finished after 198 timesteps\n",
            "Episode 10 finished after 201 timesteps\n",
            "Episode 11 finished after 201 timesteps\n",
            "Episode 12 finished after 193 timesteps\n",
            "Episode 13 finished after 183 timesteps\n",
            "Episode 14 finished after 180 timesteps\n",
            "Episode 15 finished after 153 timesteps\n",
            "Episode 16 finished after 179 timesteps\n",
            "Episode 17 finished after 160 timesteps\n",
            "Episode 18 finished after 157 timesteps\n",
            "Episode 19 finished after 174 timesteps\n",
            "Episode 20 finished after 140 timesteps\n",
            "Episode 21 finished after 201 timesteps\n",
            "Episode 22 finished after 192 timesteps\n",
            "Episode 23 finished after 172 timesteps\n",
            "Episode 24 finished after 137 timesteps\n",
            "Episode 25 finished after 149 timesteps\n",
            "Episode 26 finished after 162 timesteps\n",
            "Episode 27 finished after 187 timesteps\n",
            "Episode 28 finished after 194 timesteps\n",
            "Episode 29 finished after 201 timesteps\n",
            "Episode 30 finished after 188 timesteps\n",
            "Episode 31 finished after 201 timesteps\n",
            "Episode 32 finished after 151 timesteps\n",
            "Episode 33 finished after 166 timesteps\n",
            "Episode 34 finished after 148 timesteps\n",
            "Episode 35 finished after 190 timesteps\n",
            "Episode 36 finished after 181 timesteps\n",
            "Episode 37 finished after 162 timesteps\n",
            "Episode 38 finished after 183 timesteps\n",
            "Episode 39 finished after 201 timesteps\n",
            "Episode 40 finished after 124 timesteps\n",
            "Episode 41 finished after 160 timesteps\n",
            "Episode 42 finished after 174 timesteps\n",
            "Episode 43 finished after 179 timesteps\n",
            "Episode 44 finished after 195 timesteps\n",
            "Episode 45 finished after 175 timesteps\n",
            "Episode 46 finished after 167 timesteps\n",
            "Episode 47 finished after 201 timesteps\n",
            "Episode 48 finished after 145 timesteps\n",
            "Episode 49 finished after 190 timesteps\n",
            "Episode 50 finished after 147 timesteps\n",
            "Episode 51 finished after 176 timesteps\n",
            "Episode 52 finished after 200 timesteps\n",
            "Episode 53 finished after 201 timesteps\n",
            "Episode 54 finished after 183 timesteps\n",
            "Episode 55 finished after 170 timesteps\n",
            "Episode 56 finished after 201 timesteps\n",
            "Episode 57 finished after 142 timesteps\n",
            "Episode 58 finished after 184 timesteps\n",
            "Episode 59 finished after 201 timesteps\n",
            "Episode 60 finished after 157 timesteps\n",
            "Episode 61 finished after 155 timesteps\n",
            "Episode 62 finished after 38 timesteps\n",
            "Episode 63 finished after 148 timesteps\n",
            "Episode 64 finished after 194 timesteps\n",
            "Episode 65 finished after 193 timesteps\n",
            "Episode 66 finished after 187 timesteps\n",
            "Episode 67 finished after 176 timesteps\n",
            "Episode 68 finished after 201 timesteps\n",
            "Episode 69 finished after 175 timesteps\n",
            "Episode 70 finished after 201 timesteps\n",
            "Episode 71 finished after 197 timesteps\n",
            "Episode 72 finished after 201 timesteps\n",
            "Episode 73 finished after 142 timesteps\n",
            "Episode 74 finished after 191 timesteps\n",
            "Episode 75 finished after 189 timesteps\n",
            "Episode 76 finished after 141 timesteps\n",
            "Episode 77 finished after 201 timesteps\n",
            "Episode 78 finished after 183 timesteps\n",
            "Episode 79 finished after 201 timesteps\n",
            "Episode 80 finished after 201 timesteps\n",
            "Episode 81 finished after 162 timesteps\n",
            "Episode 82 finished after 173 timesteps\n",
            "Episode 83 finished after 201 timesteps\n",
            "Episode 84 finished after 157 timesteps\n",
            "Episode 85 finished after 167 timesteps\n",
            "Episode 86 finished after 177 timesteps\n",
            "Episode 87 finished after 162 timesteps\n",
            "Episode 88 finished after 180 timesteps\n",
            "Episode 89 finished after 166 timesteps\n",
            "Episode 90 finished after 186 timesteps\n",
            "Episode 91 finished after 152 timesteps\n",
            "Episode 92 finished after 141 timesteps\n",
            "Episode 93 finished after 201 timesteps\n",
            "Episode 94 finished after 201 timesteps\n",
            "Episode 95 finished after 201 timesteps\n",
            "Episode 96 finished after 171 timesteps\n",
            "Episode 97 finished after 201 timesteps\n",
            "Episode 98 finished after 201 timesteps\n",
            "Episode 99 finished after 201 timesteps\n",
            "Episode 100 finished after 138 timesteps\n"
          ]
        },
        {
          "output_type": "execute_result",
          "data": {
            "text/plain": [
              "175.55"
            ]
          },
          "metadata": {},
          "execution_count": 59
        }
      ]
    },
    {
      "cell_type": "markdown",
      "metadata": {
        "id": "rf18pOwCmugS"
      },
      "source": [
        "Обученный агент должен приближаться к искомому значению средней награды за 100 эпизодов 195."
      ]
    },
    {
      "cell_type": "markdown",
      "metadata": {
        "id": "Gk3bQdF_mugT"
      },
      "source": [
        "Визуализируем обученного агента."
      ]
    },
    {
      "cell_type": "code",
      "metadata": {
        "colab": {
          "base_uri": "https://localhost:8080/",
          "height": 421
        },
        "id": "c6QvXvwUsct6",
        "outputId": "c41e7164-af9c-4018-9d2a-9a8d96e4312e"
      },
      "source": [
        "agent_viz(agent=policy)\n",
        "show_video()"
      ],
      "execution_count": 60,
      "outputs": [
        {
          "output_type": "display_data",
          "data": {
            "text/html": [
              "<video alt=\"test\" autoplay \n",
              "                loop controls style=\"height: 400px;\">\n",
              "                <source src=\"data:video/mp4;base64,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\" type=\"video/mp4\" />\n",
              "             </video>"
            ],
            "text/plain": [
              "<IPython.core.display.HTML object>"
            ]
          },
          "metadata": {}
        }
      ]
    },
    {
      "cell_type": "markdown",
      "metadata": {
        "id": "YKkrymnnmugU"
      },
      "source": [
        "Как видно, агент выучил довольно хорошую стратегию для игры и способен долго удерживать шест."
      ]
    },
    {
      "cell_type": "markdown",
      "metadata": {
        "id": "NHxdzJsQmugV"
      },
      "source": [
        "### REINFORCE with baselines (Опционально)"
      ]
    },
    {
      "cell_type": "markdown",
      "metadata": {
        "id": "QM0DmpwlmugX"
      },
      "source": [
        "В лекциях вы слышали, что при расчете градиентов для обновления параметров политики агента мы можем вычесть из суммы дисконтированных наград ```baseline``` для уменьшения дисперсии градиентов и ускорения сходимости обучения - такой алгоритм называется REINFORCE with baselines. В качестве ```baseline``` мы можем использовать другую нейронную сеть, которая будет оценивать сумму дисконтированных наград из данного состояния *V(s)*. "
      ]
    },
    {
      "cell_type": "markdown",
      "metadata": {
        "id": "jImFlpefmugX"
      },
      "source": [
        "Схема алгоритма REINFORCE with baselines (Sutton & Barto) <img src=\"//i.imgur.com/j3BcbHP.png\" width=\"700\">"
      ]
    },
    {
      "cell_type": "markdown",
      "metadata": {
        "id": "ofDdKiKJmugY"
      },
      "source": [
        "**Задание**: Включите в уже разработанный алгоритм вторую нейронную сеть для оценки суммы дисконтированных наград *V(s)*. Используйте разницу между фактической суммой дисконтированных наград и оценкой в формуле функции потерь политики. В качестве функции потерь для *V(s)* используйте ```MSELoss```. Оцените скорость сходимости нового алгоритма."
      ]
    },
    {
      "cell_type": "code",
      "metadata": {
        "id": "JJf46pJsSI2I"
      },
      "source": [
        "class Critic(nn.Module):\n",
        "    \"\"\"\n",
        "    Attributes:\n",
        "        state_size: Dimention of the state space of the environment.\n",
        "        act_size: Dimention of the action space of the environment.\n",
        "        hidden_size: Dimention of the hidden state of the agent's policy.\n",
        "    \"\"\"\n",
        "    \n",
        "    def __init__(self, state_size, hidden_size):\n",
        "        super().__init__()\n",
        "        self.state_size = state_size\n",
        "\n",
        "        self.model = nn.Sequential(\n",
        "            nn.Linear(self.state_size, hidden_size),\n",
        "            nn.ReLU(),\n",
        "            nn.Linear(hidden_size, 1),\n",
        "        )\n",
        "    \n",
        "    def forward(self, x):\n",
        "        return self.model(x)"
      ],
      "execution_count": 91,
      "outputs": []
    },
    {
      "cell_type": "code",
      "metadata": {
        "id": "T5dNEumTTe_W"
      },
      "source": [
        "def process_traj_batch_with_critic(policy, critic, batch, discount):\n",
        "    log_probs = []\n",
        "    returns = []\n",
        "    baselines = []\n",
        "\n",
        "    for x in batch:\n",
        "        states = torch.stack([t.state for t in x]).view(len(x), -1)\n",
        "        acts = torch.stack([t.action for t in x]).view(len(x), -1)\n",
        "        rewards = [t.reward for t in x]\n",
        "\n",
        "        probs = policy(states)\n",
        "        baselines.extend(critic(states).view(-1))\n",
        "        # print(probs)\n",
        "        log_probs.extend(torch.log(probs).gather(1, acts).view(-1))\n",
        "        rewards_disc = rewards.copy()\n",
        "\n",
        "        # dp\n",
        "        for i in range(len(rewards) - 2, -1, -1):\n",
        "            rewards_disc[i] += rewards_disc[i + 1] * discount\n",
        "\n",
        "        returns.extend(rewards_disc)\n",
        "\n",
        "    # print(log_probs)\n",
        "    # print(returns)\n",
        "\n",
        "    return log_probs, returns, baselines"
      ],
      "execution_count": 101,
      "outputs": []
    },
    {
      "cell_type": "code",
      "metadata": {
        "id": "NO1eM9JyUaSW"
      },
      "source": [
        "def test_process_traj_batch_with_critic(process_traj_batch):\n",
        "    \n",
        "    transition = collections.namedtuple(\"transition\", [\"state\", \"action\", \"reward\"])\n",
        "    \n",
        "    class HelperPolicy(nn.Module):\n",
        "        def __init__(self):\n",
        "            super(HelperPolicy, self).__init__()\n",
        "        \n",
        "            self.act = nn.Sequential(\n",
        "                nn.Linear(4, 2),\n",
        "                nn.Softmax(dim=1),\n",
        "            )\n",
        "        \n",
        "        def forward(self, x):\n",
        "            return self.act(x)\n",
        "        \n",
        "    policy = HelperPolicy()\n",
        "    critic = Critic(4, 10)\n",
        "    \n",
        "    for name, param in policy.named_parameters():\n",
        "        if name == \"act.0.weight\":\n",
        "            param.data = torch.tensor([[1.7492, -0.2471, 0.3310, 1.1494],\n",
        "                                       [0.6171, -0.6026, 0.5025, -0.3196]])\n",
        "        else:\n",
        "            param.data = torch.tensor([0.0262, 0.1882])\n",
        "            \n",
        "    batch = [\n",
        "        [\n",
        "            transition(state=torch.tensor([ 0.0462, -0.0018,  0.0372,  0.0063]), action=torch.tensor(0), reward=1.0), \n",
        "            transition(state=torch.tensor([ 0.0462, -0.1975,  0.0373,  0.3105]), action=torch.tensor(1), reward=1.0), \n",
        "            transition(state=torch.tensor([ 0.0422, -0.0029,  0.0435,  0.0298]), action=torch.tensor(0), reward=1.0), \n",
        "            transition(state=torch.tensor([ 0.0422, -0.1986,  0.0441,  0.3359]), action=torch.tensor(0), reward=1.0), \n",
        "        ],\n",
        "        [\n",
        "            transition(state=torch.tensor([ 0.0382, -0.3943,  0.0508,  0.6421]), action=torch.tensor(1), reward=1.0), \n",
        "            transition(state=torch.tensor([ 0.0303, -0.2000,  0.0637,  0.3659]), action=torch.tensor(1), reward=1.0), \n",
        "            transition(state=torch.tensor([ 0.0263, -0.0058,  0.0710,  0.0939]), action=torch.tensor(1), reward=1.0), \n",
        "            transition(state=torch.tensor([ 0.0262,  0.1882,  0.0729, -0.1755]), action=torch.tensor(0), reward=1.0)\n",
        "        ]\n",
        "    ]\n",
        "    \n",
        "    log_probs, returns, _ = process_traj_batch_with_critic(policy, critic, batch, 0.9)\n",
        "    assert sum(log_probs).item() == -6.3940582275390625, \"Log probabilities calculation is incorrect!!!\"\n",
        "    assert sum(returns) == 18.098, \"Log probabilities calculation is incorrect!!!\"\n",
        "    print(\"Correct!\")"
      ],
      "execution_count": 102,
      "outputs": []
    },
    {
      "cell_type": "code",
      "metadata": {
        "colab": {
          "base_uri": "https://localhost:8080/"
        },
        "id": "_w_RB9uIUrIm",
        "outputId": "bc8ddad0-97fc-41d4-b8e9-38bbbbaf08af"
      },
      "source": [
        "test_process_traj_batch_with_critic(process_traj_batch_with_critic)"
      ],
      "execution_count": 103,
      "outputs": [
        {
          "output_type": "stream",
          "name": "stdout",
          "text": [
            "Correct!\n"
          ]
        }
      ]
    },
    {
      "cell_type": "code",
      "metadata": {
        "id": "_xe_TZlkVY8y"
      },
      "source": [
        "policy = Policy(STATE_SIZE, ACT_SIZE, HIDDEN_SIZE).to(device)\n",
        "critic = Critic(STATE_SIZE, HIDDEN_SIZE).to(device)\n",
        "optimizer = Adam(policy.parameters())\n",
        "critic_optimizer = Adam(critic.parameters(), lr=1e-1)"
      ],
      "execution_count": 123,
      "outputs": []
    },
    {
      "cell_type": "code",
      "metadata": {
        "colab": {
          "base_uri": "https://localhost:8080/",
          "height": 390
        },
        "id": "0FV3uZO-Vxfl",
        "outputId": "7d0a086a-2442-4f83-ead3-fe5e9909e3f4"
      },
      "source": [
        "rewards_history = []\n",
        "returns_history = []\n",
        "critic_returns_history = []\n",
        "traj_batch = []\n",
        "critic_loss_history = []\n",
        "loss_history = []\n",
        "\n",
        "for i in range(NUM_EPISODES):\n",
        "        \n",
        "    state = torch.FloatTensor(env.reset()).to(device)\n",
        "    traj = []\n",
        "    rewards = 0\n",
        "\n",
        "    while True:\n",
        "        probs = policy(state)\n",
        "        dist = Categorical(probs)\n",
        "        action = dist.sample().item()\n",
        "\n",
        "        next_state, reward, done, _ = env.step(action)\n",
        "        traj.append(transition(state, torch.tensor(action).to(device), reward))\n",
        "        rewards += reward\n",
        "\n",
        "        if not done:\n",
        "            state = torch.FloatTensor(next_state).to(device)\n",
        "        else:\n",
        "            break\n",
        "\n",
        "    rewards_history.append(rewards)\n",
        "    traj_batch.append(traj)\n",
        "\n",
        "    if i % TRAIN_EVERY:\n",
        "        log_probs, returns, baselines = process_traj_batch_with_critic(policy, critic, traj_batch, DISCOUNT)\n",
        "        returns_history.append(sum(returns) / len(traj_batch))\n",
        "        critic_returns_history.append(sum(baselines) / len(traj_batch))\n",
        "\n",
        "        returns = torch.FloatTensor(returns).to(device)\n",
        "        baselines = torch.stack(baselines)\n",
        "\n",
        "        loss_critic = nn.MSELoss()(baselines, returns)\n",
        "        critic_optimizer.zero_grad()\n",
        "        loss_critic.backward()\n",
        "        critic_optimizer.step()\n",
        "\n",
        "        critic_loss_history.append(loss_critic.item())\n",
        "\n",
        "        returns = returns - baselines.detach()\n",
        "\n",
        "        loss = -(torch.stack(log_probs) * returns).sum()\n",
        "        optimizer.zero_grad()\n",
        "        loss.backward()\n",
        "        optimizer.step()\n",
        "        \n",
        "        loss_history.append(loss.item())\n",
        "        \n",
        "        traj_batch = []\n",
        "\n",
        "    if i % 10:\n",
        "        clear_output(True)\n",
        "        fig = plt.figure(figsize=[12, 6])\n",
        "        ax1 = fig.add_subplot(2, 1, 2)\n",
        "        ax2 = fig.add_subplot(2, 2, 2)\n",
        "        ax3 = fig.add_subplot(2, 2, 1)\n",
        "\n",
        "        ax1.set(title='Rewards'); ax1.grid()\n",
        "        ax1.scatter(np.arange(len(rewards_history)), rewards_history, alpha=0.1)\n",
        "        ax1.plot(moving_average(rewards_history, span=10, min_periods=10))\n",
        "\n",
        "        ax2.set(title = 'Loss'); ax2.grid()\n",
        "        ax2.plot(moving_average(loss_history, span=10, min_periods=10))\n",
        "        ax2.plot(moving_average(critic_loss_history, span=10, min_periods=10), color = 'r')\n",
        "\n",
        "        ax3.set(title = 'Returns'); ax3.grid()\n",
        "        ax3.plot(moving_average(returns_history, span=10, min_periods=10))\n",
        "        ax3.plot(moving_average(critic_returns_history, span=10, min_periods=10), color = 'r')\n",
        "\n",
        "        plt.show()"
      ],
      "execution_count": 124,
      "outputs": [
        {
          "output_type": "display_data",
          "data": {
            "image/png": "[encoded data removed]",
            "text/plain": [
              "<Figure size 864x432 with 3 Axes>"
            ]
          },
          "metadata": {
            "needs_background": "light"
          }
        }
      ]
    },
    {
      "cell_type": "code",
      "metadata": {
        "colab": {
          "base_uri": "https://localhost:8080/"
        },
        "id": "X9b7hlb-fWy3",
        "outputId": "ade93ef0-ef33-43a5-e17a-389d43d229ad"
      },
      "source": [
        "test_agent(env, agent=policy, n_episodes=100)"
      ],
      "execution_count": 125,
      "outputs": [
        {
          "output_type": "stream",
          "name": "stdout",
          "text": [
            "Episode 1 finished after 201 timesteps\n",
            "Episode 2 finished after 201 timesteps\n",
            "Episode 3 finished after 201 timesteps\n",
            "Episode 4 finished after 201 timesteps\n",
            "Episode 5 finished after 201 timesteps\n",
            "Episode 6 finished after 201 timesteps\n",
            "Episode 7 finished after 201 timesteps\n",
            "Episode 8 finished after 201 timesteps\n",
            "Episode 9 finished after 201 timesteps\n",
            "Episode 10 finished after 103 timesteps\n",
            "Episode 11 finished after 201 timesteps\n",
            "Episode 12 finished after 119 timesteps\n",
            "Episode 13 finished after 201 timesteps\n",
            "Episode 14 finished after 201 timesteps\n",
            "Episode 15 finished after 201 timesteps\n",
            "Episode 16 finished after 201 timesteps\n",
            "Episode 17 finished after 201 timesteps\n",
            "Episode 18 finished after 201 timesteps\n",
            "Episode 19 finished after 201 timesteps\n",
            "Episode 20 finished after 201 timesteps\n",
            "Episode 21 finished after 201 timesteps\n",
            "Episode 22 finished after 201 timesteps\n",
            "Episode 23 finished after 201 timesteps\n",
            "Episode 24 finished after 201 timesteps\n",
            "Episode 25 finished after 201 timesteps\n",
            "Episode 26 finished after 201 timesteps\n",
            "Episode 27 finished after 201 timesteps\n",
            "Episode 28 finished after 201 timesteps\n",
            "Episode 29 finished after 201 timesteps\n",
            "Episode 30 finished after 201 timesteps\n",
            "Episode 31 finished after 201 timesteps\n",
            "Episode 32 finished after 201 timesteps\n",
            "Episode 33 finished after 201 timesteps\n",
            "Episode 34 finished after 201 timesteps\n",
            "Episode 35 finished after 201 timesteps\n",
            "Episode 36 finished after 201 timesteps\n",
            "Episode 37 finished after 201 timesteps\n",
            "Episode 38 finished after 201 timesteps\n",
            "Episode 39 finished after 201 timesteps\n",
            "Episode 40 finished after 201 timesteps\n",
            "Episode 41 finished after 201 timesteps\n",
            "Episode 42 finished after 201 timesteps\n",
            "Episode 43 finished after 201 timesteps\n",
            "Episode 44 finished after 201 timesteps\n",
            "Episode 45 finished after 201 timesteps\n",
            "Episode 46 finished after 183 timesteps\n",
            "Episode 47 finished after 201 timesteps\n",
            "Episode 48 finished after 201 timesteps\n",
            "Episode 49 finished after 201 timesteps\n",
            "Episode 50 finished after 201 timesteps\n",
            "Episode 51 finished after 201 timesteps\n",
            "Episode 52 finished after 201 timesteps\n",
            "Episode 53 finished after 201 timesteps\n",
            "Episode 54 finished after 201 timesteps\n",
            "Episode 55 finished after 201 timesteps\n",
            "Episode 56 finished after 201 timesteps\n",
            "Episode 57 finished after 201 timesteps\n",
            "Episode 58 finished after 201 timesteps\n",
            "Episode 59 finished after 201 timesteps\n",
            "Episode 60 finished after 201 timesteps\n",
            "Episode 61 finished after 201 timesteps\n",
            "Episode 62 finished after 201 timesteps\n",
            "Episode 63 finished after 201 timesteps\n",
            "Episode 64 finished after 201 timesteps\n",
            "Episode 65 finished after 201 timesteps\n",
            "Episode 66 finished after 201 timesteps\n",
            "Episode 67 finished after 201 timesteps\n",
            "Episode 68 finished after 201 timesteps\n",
            "Episode 69 finished after 159 timesteps\n",
            "Episode 70 finished after 201 timesteps\n",
            "Episode 71 finished after 201 timesteps\n",
            "Episode 72 finished after 201 timesteps\n",
            "Episode 73 finished after 201 timesteps\n",
            "Episode 74 finished after 201 timesteps\n",
            "Episode 75 finished after 201 timesteps\n",
            "Episode 76 finished after 201 timesteps\n",
            "Episode 77 finished after 201 timesteps\n",
            "Episode 78 finished after 201 timesteps\n",
            "Episode 79 finished after 201 timesteps\n",
            "Episode 80 finished after 201 timesteps\n",
            "Episode 81 finished after 201 timesteps\n",
            "Episode 82 finished after 201 timesteps\n",
            "Episode 83 finished after 201 timesteps\n",
            "Episode 84 finished after 201 timesteps\n",
            "Episode 85 finished after 171 timesteps\n",
            "Episode 86 finished after 201 timesteps\n",
            "Episode 87 finished after 201 timesteps\n",
            "Episode 88 finished after 201 timesteps\n",
            "Episode 89 finished after 201 timesteps\n",
            "Episode 90 finished after 201 timesteps\n",
            "Episode 91 finished after 201 timesteps\n",
            "Episode 92 finished after 111 timesteps\n",
            "Episode 93 finished after 201 timesteps\n",
            "Episode 94 finished after 201 timesteps\n",
            "Episode 95 finished after 201 timesteps\n",
            "Episode 96 finished after 201 timesteps\n",
            "Episode 97 finished after 201 timesteps\n",
            "Episode 98 finished after 201 timesteps\n",
            "Episode 99 finished after 201 timesteps\n",
            "Episode 100 finished after 201 timesteps\n"
          ]
        },
        {
          "output_type": "execute_result",
          "data": {
            "text/plain": [
              "196.4"
            ]
          },
          "metadata": {},
          "execution_count": 125
        }
      ]
    },
    {
      "cell_type": "code",
      "metadata": {
        "id": "mlT6eC6VqN7C"
      },
      "source": [
        "agent_viz(agent=policy)\n",
        "show_video()"
      ],
      "execution_count": null,
      "outputs": []
    },
    {
      "cell_type": "code",
      "metadata": {
        "id": "yRpXNVR9qWA8"
      },
      "source": [
        ""
      ],
      "execution_count": null,
      "outputs": []
    }
  ]
}