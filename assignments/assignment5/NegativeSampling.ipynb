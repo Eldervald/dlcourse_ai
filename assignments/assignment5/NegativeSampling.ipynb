{
  "nbformat": 4,
  "nbformat_minor": 0,
  "metadata": {
    "kernelspec": {
      "display_name": "Python 3",
      "language": "python",
      "name": "python3"
    },
    "language_info": {
      "codemirror_mode": {
        "name": "ipython",
        "version": 3
      },
      "file_extension": ".py",
      "mimetype": "text/x-python",
      "name": "python",
      "nbconvert_exporter": "python",
      "pygments_lexer": "ipython3",
      "version": "3.7.0"
    },
    "colab": {
      "name": "NegativeSampling.ipynb",
      "provenance": [],
      "collapsed_sections": []
    },
    "accelerator": "GPU"
  },
  "cells": [
    {
      "cell_type": "code",
      "metadata": {
        "colab": {
          "base_uri": "https://localhost:8080/"
        },
        "id": "g-O2VJAJ_cjT",
        "outputId": "9394a05a-8a16-4d5a-c321-091fb54ae937"
      },
      "source": [
        "!bash ./download_data.sh"
      ],
      "execution_count": 23,
      "outputs": [
        {
          "output_type": "stream",
          "name": "stdout",
          "text": [
            "--2021-09-05 12:37:20--  http://nlp.stanford.edu/~socherr/stanfordSentimentTreebank.zip\n",
            "Resolving nlp.stanford.edu (nlp.stanford.edu)... 171.64.67.140\n",
            "Connecting to nlp.stanford.edu (nlp.stanford.edu)|171.64.67.140|:80... connected.\n",
            "HTTP request sent, awaiting response... 302 Found\n",
            "Location: https://nlp.stanford.edu/~socherr/stanfordSentimentTreebank.zip [following]\n",
            "--2021-09-05 12:37:20--  https://nlp.stanford.edu/~socherr/stanfordSentimentTreebank.zip\n",
            "Connecting to nlp.stanford.edu (nlp.stanford.edu)|171.64.67.140|:443... connected.\n",
            "HTTP request sent, awaiting response... 200 OK\n",
            "Length: 6372817 (6.1M) [application/zip]\n",
            "Saving to: ‘stanfordSentimentTreebank.zip’\n",
            "\n",
            "stanfordSentimentTr 100%[===================>]   6.08M  10.3MB/s    in 0.6s    \n",
            "\n",
            "2021-09-05 12:37:21 (10.3 MB/s) - ‘stanfordSentimentTreebank.zip’ saved [6372817/6372817]\n",
            "\n",
            "Archive:  stanfordSentimentTreebank.zip\n",
            "replace stanfordSentimentTreebank/datasetSentences.txt? [y]es, [n]o, [A]ll, [N]one, [r]ename: a\n",
            "error:  invalid response [a]\n",
            "replace stanfordSentimentTreebank/datasetSentences.txt? [y]es, [n]o, [A]ll, [N]one, [r]ename: A\n",
            "  inflating: stanfordSentimentTreebank/datasetSentences.txt  \n",
            "  inflating: __MACOSX/stanfordSentimentTreebank/._datasetSentences.txt  \n",
            "  inflating: stanfordSentimentTreebank/datasetSplit.txt  \n",
            "  inflating: __MACOSX/stanfordSentimentTreebank/._datasetSplit.txt  \n",
            "  inflating: stanfordSentimentTreebank/dictionary.txt  \n",
            "  inflating: __MACOSX/stanfordSentimentTreebank/._dictionary.txt  \n",
            "  inflating: stanfordSentimentTreebank/original_rt_snippets.txt  \n",
            "  inflating: __MACOSX/stanfordSentimentTreebank/._original_rt_snippets.txt  \n",
            "  inflating: stanfordSentimentTreebank/README.txt  \n",
            "  inflating: __MACOSX/stanfordSentimentTreebank/._README.txt  \n",
            "  inflating: stanfordSentimentTreebank/sentiment_labels.txt  \n",
            "  inflating: __MACOSX/stanfordSentimentTreebank/._sentiment_labels.txt  \n",
            "  inflating: stanfordSentimentTreebank/SOStr.txt  \n",
            "  inflating: stanfordSentimentTreebank/STree.txt  \n"
          ]
        }
      ]
    },
    {
      "cell_type": "markdown",
      "metadata": {
        "id": "f-FwpKoD9Sxx"
      },
      "source": [
        "# Задание 5.2 - Word2Vec with Negative Sampling\n",
        "\n",
        "В этом задании мы натренируем свои версию word vectors с negative sampling на том же небольшом датасете.\n",
        "\n",
        "\n",
        "Несмотря на то, что основная причина использования Negative Sampling - улучшение скорости тренировки word2vec, в нашем игрушечном примере мы **не требуем** улучшения производительности. Мы используем negative sampling просто как дополнительное упражнение для знакомства с PyTorch.\n",
        "\n",
        "Перед запуском нужно запустить скрипт `download_data.sh`, чтобы скачать данные.\n",
        "\n",
        "Датасет и модель очень небольшие, поэтому это задание можно выполнить и без GPU.\n",
        "\n"
      ]
    },
    {
      "cell_type": "code",
      "metadata": {
        "id": "r6j45c5w9Sx3"
      },
      "source": [
        "import torch\n",
        "import torch.nn as nn\n",
        "import torch.optim as optim\n",
        "from torch.utils.data import Dataset\n",
        "\n",
        "from torchvision import transforms\n",
        "\n",
        "import numpy as np\n",
        "import matplotlib.pyplot as plt\n",
        "\n",
        "# We'll use Principal Component Analysis (PCA) to visualize word vectors,\n",
        "# so make sure you install dependencies from requirements.txt!\n",
        "from sklearn.decomposition import PCA \n",
        "from tqdm import tqdm\n",
        "\n",
        "%matplotlib inline\n",
        "\n",
        "device = torch.device('cuda:0')"
      ],
      "execution_count": 34,
      "outputs": []
    },
    {
      "cell_type": "code",
      "metadata": {
        "scrolled": false,
        "colab": {
          "base_uri": "https://localhost:8080/"
        },
        "id": "TCXxcc1D9Sx7",
        "outputId": "3743aae5-2d39-47af-fd44-6a406d13f761"
      },
      "source": [
        "import os\n",
        "import numpy as np\n",
        "\n",
        "class StanfordTreeBank:\n",
        "    '''\n",
        "    Wrapper for accessing Stanford Tree Bank Dataset\n",
        "    https://nlp.stanford.edu/sentiment/treebank.html\n",
        "    \n",
        "    Parses dataset, gives each token and index and provides lookups\n",
        "    from string token to index and back\n",
        "    \n",
        "    Allows to generate random context with sampling strategy described in\n",
        "    word2vec paper:\n",
        "    https://papers.nips.cc/paper/5021-distributed-representations-of-words-and-phrases-and-their-compositionality.pdf\n",
        "    '''\n",
        "    def __init__(self):\n",
        "        self.index_by_token = {} # map of string -> token index\n",
        "        self.token_by_index = []\n",
        "\n",
        "        self.sentences = []\n",
        "\n",
        "        self.token_freq = {}\n",
        "        \n",
        "        self.token_reject_by_index = None\n",
        "\n",
        "    def load_dataset(self, folder):\n",
        "        filename = os.path.join(folder, \"datasetSentences.txt\")\n",
        "\n",
        "        with open(filename, \"r\", encoding=\"latin1\") as f:\n",
        "            l = f.readline() # skip the first line\n",
        "            \n",
        "            for l in f:\n",
        "                splitted_line = l.strip().split()\n",
        "                words = [w.lower() for w in splitted_line[1:]] # First one is a number\n",
        "                    \n",
        "                self.sentences.append(words)\n",
        "                for word in words:\n",
        "                    if word in self.token_freq:\n",
        "                        self.token_freq[word] +=1 \n",
        "                    else:\n",
        "                        index = len(self.token_by_index)\n",
        "                        self.token_freq[word] = 1\n",
        "                        self.index_by_token[word] = index\n",
        "                        self.token_by_index.append(word)\n",
        "        self.compute_token_prob()\n",
        "                        \n",
        "    def compute_token_prob(self):\n",
        "        words_count = np.array([self.token_freq[token] for token in self.token_by_index])\n",
        "        words_freq = words_count / np.sum(words_count)\n",
        "        \n",
        "        # Following sampling strategy from word2vec paper\n",
        "        self.token_reject_by_index = 1- np.sqrt(1e-5/words_freq)\n",
        "    \n",
        "    def check_reject(self, word):\n",
        "        return np.random.rand() > self.token_reject_by_index[self.index_by_token[word]]\n",
        "        \n",
        "    def get_random_context(self, context_length=5):\n",
        "        \"\"\"\n",
        "        Returns tuple of center word and list of context words\n",
        "        \"\"\"\n",
        "        sentence_sampled = []\n",
        "        while len(sentence_sampled) <= 2:\n",
        "            sentence_index = np.random.randint(len(self.sentences)) \n",
        "            sentence = self.sentences[sentence_index]\n",
        "            sentence_sampled = [word for word in sentence if self.check_reject(word)]\n",
        "    \n",
        "        center_word_index = np.random.randint(len(sentence_sampled))\n",
        "        \n",
        "        words_before = sentence_sampled[max(center_word_index - context_length//2,0):center_word_index]\n",
        "        words_after = sentence_sampled[center_word_index+1: center_word_index+1+context_length//2]\n",
        "        \n",
        "        return sentence_sampled[center_word_index], words_before+words_after\n",
        "    \n",
        "    def num_tokens(self):\n",
        "        return len(self.token_by_index)\n",
        "        \n",
        "data = StanfordTreeBank()\n",
        "data.load_dataset(\"./stanfordSentimentTreebank/\")\n",
        "\n",
        "print(\"Num tokens:\", data.num_tokens())\n",
        "for i in range(5):\n",
        "    center_word, other_words = data.get_random_context(5)\n",
        "    print(center_word, other_words)"
      ],
      "execution_count": 35,
      "outputs": [
        {
          "output_type": "stream",
          "name": "stdout",
          "text": [
            "Num tokens: 19538\n",
            "not-so-bright ['room', 'witlessness', 'capable', 'trio']\n",
            "thriller ['rhythms', 'integrated']\n",
            "hope ['victories', 'enduring']\n",
            "bedknobs ['parallels', '1971', 'broomsticks', 'dealt']\n",
            "out ['who', 'for']\n"
          ]
        }
      ]
    },
    {
      "cell_type": "markdown",
      "metadata": {
        "id": "qXI88E839SyA"
      },
      "source": [
        "# Dataset для Negative Sampling должен быть немного другим\n",
        "\n",
        "Как и прежде, Dataset должен сгенерировать много случайных контекстов и превратить их в сэмплы для тренировки.\n",
        "\n",
        "Здесь мы реализуем прямой проход модели сами, поэтому выдавать данные можно в удобном нам виде.\n",
        "Напоминаем, что в случае negative sampling каждым сэмплом является:\n",
        "- вход: слово в one-hot представлении\n",
        "- выход: набор из одного целевого слова и K других случайных слов из словаря.\n",
        "Вместо softmax + cross-entropy loss, сеть обучается через binary cross-entropy loss - то есть, предсказывает набор бинарных переменных, для каждой из которых функция ошибки считается независимо.\n",
        "\n",
        "Для целевого слова бинарное предсказание должно быть позитивным, а для K случайных слов - негативным.\n",
        "\n",
        "Из набора слово-контекст создается N сэмплов (где N - количество слов в контексте), в каждом из них K+1 целевых слов, для только одного из которых предсказание должно быть позитивным.\n",
        "Например, для K=2:\n",
        "\n",
        "Слово: `orders` и контекст: `['love', 'nicest', 'to', '50-year']` создадут 4 сэмпла:\n",
        "- input: `orders`, target: `[love: 1, any: 0, rose: 0]`\n",
        "- input: `orders`, target: `[nicest: 1, fool: 0, grass: 0]`\n",
        "- input: `orders`, target: `[to: 1, -: 0, the: 0]`\n",
        "- input: `orders`, target: `[50-year: 1, ?: 0, door: 0]`\n",
        "\n",
        "Все слова на входе и на выходе закодированы через one-hot encoding, с размером вектора равным количеству токенов."
      ]
    },
    {
      "cell_type": "code",
      "metadata": {
        "colab": {
          "base_uri": "https://localhost:8080/"
        },
        "id": "9XwcZbop9SyC",
        "outputId": "dee4ebb1-a259-438a-a1b8-7c9ab0d7f44c"
      },
      "source": [
        "num_negative_samples = 10\n",
        "\n",
        "class Word2VecNegativeSampling(Dataset):\n",
        "    '''\n",
        "    PyTorch Dataset for Word2Vec with Negative Sampling.\n",
        "    Accepts StanfordTreebank as data and is able to generate dataset based on\n",
        "    a number of random contexts\n",
        "    '''\n",
        "    def __init__(self, data, num_negative_samples, num_contexts=30000):\n",
        "        '''\n",
        "        Initializes Word2VecNegativeSampling, but doesn't generate the samples yet\n",
        "        (for that, use generate_dataset)\n",
        "        Arguments:\n",
        "        data - StanfordTreebank instace\n",
        "        num_negative_samples - number of negative samples to generate in addition to a positive one\n",
        "        num_contexts - number of random contexts to use when generating a dataset\n",
        "        '''\n",
        "        self.data = data\n",
        "        self.num_negative_samples = num_negative_samples\n",
        "        self.num_contexts = num_contexts\n",
        "        self.num_tokens = data.num_tokens()\n",
        "    \n",
        "    def generate_dataset(self):\n",
        "        '''\n",
        "        Generates dataset samples from random contexts\n",
        "        Note: there will be more samples than contexts because every context\n",
        "        can generate more than one sample\n",
        "        '''\n",
        "        self.samples = []\n",
        "        for _ in range(self.num_contexts):\n",
        "            center_word, context = data.get_random_context()\n",
        "            word_idx = self.data.index_by_token[center_word]\n",
        "            for other in context:\n",
        "                target = [self.data.index_by_token[other]]\n",
        "                while len(target) < self.num_negative_samples + 1:\n",
        "                    negative = np.random.randint(self.num_tokens)\n",
        "                    if negative not in target:\n",
        "                        target.append(negative)\n",
        "                self.samples.append((word_idx, target))\n",
        "        \n",
        "        \n",
        "    def __len__(self):\n",
        "        '''\n",
        "        Returns total number of samples\n",
        "        '''\n",
        "        return len(self.samples)\n",
        "\n",
        "    \n",
        "    def __getitem__(self, index):\n",
        "        '''\n",
        "        Returns i-th sample\n",
        "        \n",
        "        Return values:\n",
        "        input_vector - index of the input word (not torch.Tensor!)\n",
        "        output_indices - torch.Tensor of indices of the target words. Should be 1+num_negative_samples.\n",
        "        output_target - torch.Tensor with float targets for the training. Should be the same size as output_indices\n",
        "                        and have 1 for the context word and 0 everywhere else\n",
        "        '''\n",
        "        input_index, output_indices = self.samples[index]\n",
        "        output_target = torch.zeros(len(output_indices))\n",
        "        output_target.data[0] = 1\n",
        "\n",
        "        return input_index, torch.Tensor(output_indices), output_target\n",
        "\n",
        "\n",
        "dataset = Word2VecNegativeSampling(data, num_negative_samples, 10)\n",
        "dataset.generate_dataset()\n",
        "input_vector, output_indices, output_target = dataset[0]\n",
        "\n",
        "print(\"Sample - input: %s, output indices: %s, output target: %s\" % (int(input_vector), output_indices, output_target)) # target should be able to convert to int\n",
        "assert isinstance(output_indices, torch.Tensor)\n",
        "assert output_indices.shape[0] == num_negative_samples+1\n",
        "\n",
        "assert isinstance(output_target, torch.Tensor)\n",
        "assert output_target.shape[0] == num_negative_samples+1\n",
        "assert torch.sum(output_target) == 1.0"
      ],
      "execution_count": 36,
      "outputs": [
        {
          "output_type": "stream",
          "name": "stdout",
          "text": [
            "Sample - input: 16582, output indices: tensor([ 6933., 14230., 17055.,   499.,  8600.,  1260., 14269., 11215., 11966.,\n",
            "        17680., 15493.]), output target: tensor([1., 0., 0., 0., 0., 0., 0., 0., 0., 0., 0.])\n"
          ]
        }
      ]
    },
    {
      "cell_type": "markdown",
      "metadata": {
        "id": "es-OsR5P9SyE"
      },
      "source": [
        "# Создаем модель\n",
        "\n",
        "Для нашей задачи нам придется реализовать свою собственную PyTorch модель.\n",
        "Эта модель реализует свой собственный прямой проход (forward pass), который получает на вход индекс входного слова и набор индексов для выходных слов. \n",
        "\n",
        "Как всегда, на вход приходит не один сэмпл, а целый batch.  \n",
        "Напомним, что цели улучшить скорость тренировки у нас нет, достаточно чтобы она сходилась."
      ]
    },
    {
      "cell_type": "code",
      "metadata": {
        "colab": {
          "base_uri": "https://localhost:8080/"
        },
        "id": "wThHtsrp9SyF",
        "outputId": "aa1221cf-fdfa-4e7a-ed88-f870a4a5528a"
      },
      "source": [
        "# Create the usual PyTorch structures\n",
        "dataset = Word2VecNegativeSampling(data, num_negative_samples, 30000)\n",
        "dataset.generate_dataset()\n",
        "\n",
        "# As before, we'll be training very small word vectors!\n",
        "wordvec_dim = 10\n",
        "\n",
        "class Word2VecNegativeSamples(nn.Module):\n",
        "    def __init__(self, num_tokens):\n",
        "        super(Word2VecNegativeSamples, self).__init__()\n",
        "        self.input = nn.Linear(num_tokens, 10, bias=False)\n",
        "        self.output = nn.Linear(10, num_tokens, bias=False)\n",
        "        \n",
        "    def forward(self, input_index_batch, output_indices_batch):\n",
        "        '''\n",
        "        Implements forward pass with negative sampling\n",
        "        \n",
        "        Arguments:\n",
        "        input_index_batch - Tensor of ints, shape: (batch_size, ), indices of input words in the batch\n",
        "        output_indices_batch - Tensor if ints, shape: (batch_size, num_negative_samples+1),\n",
        "                                indices of the target words for every sample\n",
        "                                \n",
        "        Returns:\n",
        "        predictions - Tensor of floats, shape: (batch_size, um_negative_samples+1)\n",
        "        '''\n",
        "        results = []\n",
        "        \n",
        "        for i in range(len(input_index_batch)):\n",
        "            input_weights = self.input.weight[:, input_index_batch[i]]\n",
        "            output_weights = self.output.weight[output_indices_batch[i].type(torch.LongTensor)].T\n",
        "            result = torch.matmul(input_weights, output_weights)\n",
        "            results.append(result)\n",
        "\n",
        "        return torch.stack(results)\n",
        "    \n",
        "nn_model = Word2VecNegativeSamples(data.num_tokens())\n",
        "nn_model.type(torch.FloatTensor).to(device)"
      ],
      "execution_count": 37,
      "outputs": [
        {
          "output_type": "execute_result",
          "data": {
            "text/plain": [
              "Word2VecNegativeSamples(\n",
              "  (input): Linear(in_features=19538, out_features=10, bias=False)\n",
              "  (output): Linear(in_features=10, out_features=19538, bias=False)\n",
              ")"
            ]
          },
          "metadata": {},
          "execution_count": 37
        }
      ]
    },
    {
      "cell_type": "code",
      "metadata": {
        "colab": {
          "base_uri": "https://localhost:8080/"
        },
        "id": "Ie9hGlf_MGub",
        "outputId": "b6934af3-ccd0-4fc2-86e7-b09791e0b96d"
      },
      "source": [
        "[m for m in nn_model.modules()]"
      ],
      "execution_count": 38,
      "outputs": [
        {
          "output_type": "execute_result",
          "data": {
            "text/plain": [
              "[Word2VecNegativeSamples(\n",
              "   (input): Linear(in_features=19538, out_features=10, bias=False)\n",
              "   (output): Linear(in_features=10, out_features=19538, bias=False)\n",
              " ),\n",
              " Linear(in_features=19538, out_features=10, bias=False),\n",
              " Linear(in_features=10, out_features=19538, bias=False)]"
            ]
          },
          "metadata": {},
          "execution_count": 38
        }
      ]
    },
    {
      "cell_type": "code",
      "metadata": {
        "id": "thRXLW2-9SyH"
      },
      "source": [
        "def extract_word_vectors(nn_model):\n",
        "    '''\n",
        "    Extracts word vectors from the model\n",
        "    \n",
        "    Returns:\n",
        "    input_vectors: torch.Tensor with dimensions (num_tokens, num_dimensions)\n",
        "    output_vectors: torch.Tensor with dimensions (num_tokens, num_dimensions)\n",
        "    '''\n",
        "    input = nn_model.input.weight.T.clone().to('cpu').detach()\n",
        "    output = nn_model.output.weight.clone().to('cpu').detach()\n",
        "    return input, output\n",
        "\n",
        "untrained_input_vectors, untrained_output_vectors = extract_word_vectors(nn_model)\n",
        "assert untrained_input_vectors.shape == (data.num_tokens(), wordvec_dim)\n",
        "assert untrained_output_vectors.shape == (data.num_tokens(), wordvec_dim)"
      ],
      "execution_count": 39,
      "outputs": []
    },
    {
      "cell_type": "code",
      "metadata": {
        "id": "lXTxOO0J9SyI"
      },
      "source": [
        "def train_neg_sample(model, dataset, train_loader, optimizer, scheduler, num_epochs):    \n",
        "    '''\n",
        "    Trains word2vec with negative samples on and regenerating dataset every epoch\n",
        "    \n",
        "    Returns:\n",
        "    loss_history, train_history\n",
        "    '''\n",
        "    loss = nn.BCEWithLogitsLoss().type(torch.FloatTensor).to(device)\n",
        "    loss_history = []\n",
        "    train_history = []\n",
        "    for epoch in range(num_epochs):\n",
        "        model.train() # Enter train mode\n",
        "        \n",
        "        loss_accum = 0\n",
        "        correct_samples = 0\n",
        "        total_samples = 0\n",
        "\n",
        "        dataset.generate_dataset()\n",
        "        \n",
        "        for i_step, (x, y, target) in enumerate(tqdm(train_loader)):\n",
        "            x_gpu = x.to(device)\n",
        "            y_gpu = y.to(device)\n",
        "            target_gpu = target.to(device)\n",
        "            optimizer.zero_grad()\n",
        "\n",
        "            prediction = model(x_gpu, y_gpu)\n",
        "            loss_value = loss(prediction, target_gpu)\n",
        "           \n",
        "            loss_value.backward()\n",
        "            optimizer.step()\n",
        "\n",
        "            output = torch.sigmoid(prediction) > 0.5\n",
        "            correct_samples += int(torch.sum(output == target_gpu))\n",
        "            total_samples += y_gpu.shape[0]\n",
        "\n",
        "            loss_accum += loss_value\n",
        "        \n",
        "        scheduler.step()\n",
        "\n",
        "        ave_loss = loss_accum / len(train_loader)\n",
        "        train_accuracy = float(correct_samples) / total_samples / (num_negative_samples + 1)\n",
        "        \n",
        "        loss_history.append(float(ave_loss))\n",
        "        train_history.append(train_accuracy)\n",
        "        \n",
        "        print(\"Average loss: %f, Train accuracy: %f\" % (ave_loss, train_accuracy))\n",
        "        \n",
        "    return loss_history, train_history"
      ],
      "execution_count": 40,
      "outputs": []
    },
    {
      "cell_type": "markdown",
      "metadata": {
        "id": "gACV4RKn9SyK"
      },
      "source": [
        "# Ну и наконец тренировка!\n",
        "\n",
        "Добейтесь значения ошибки меньше **0.25**."
      ]
    },
    {
      "cell_type": "code",
      "metadata": {
        "colab": {
          "base_uri": "https://localhost:8080/"
        },
        "id": "CGVlQEsh9SyL",
        "outputId": "48f7b3a8-84b9-4566-9c11-322c07af5288"
      },
      "source": [
        "# Finally, let's train the model!\n",
        "\n",
        "# TODO: We use placeholder values for hyperparameters - you will need to find better values!\n",
        "optimizer = optim.Adam(nn_model.parameters(), lr=1e-2, weight_decay=0)\n",
        "scheduler = optim.lr_scheduler.StepLR(optimizer, step_size=10, gamma=0.5)\n",
        "train_loader = torch.utils.data.DataLoader(dataset, batch_size=128)\n",
        "\n",
        "loss_history, train_history = train_neg_sample(nn_model, dataset, train_loader, optimizer, scheduler, 20)"
      ],
      "execution_count": 41,
      "outputs": [
        {
          "output_type": "stream",
          "name": "stderr",
          "text": [
            "100%|██████████| 648/648 [00:57<00:00, 11.33it/s]\n"
          ]
        },
        {
          "output_type": "stream",
          "name": "stdout",
          "text": [
            "Average loss: 0.623085, Train accuracy: 0.632692\n"
          ]
        },
        {
          "output_type": "stream",
          "name": "stderr",
          "text": [
            "100%|██████████| 647/647 [00:56<00:00, 11.42it/s]\n"
          ]
        },
        {
          "output_type": "stream",
          "name": "stdout",
          "text": [
            "Average loss: 0.370169, Train accuracy: 0.848465\n"
          ]
        },
        {
          "output_type": "stream",
          "name": "stderr",
          "text": [
            "100%|██████████| 648/648 [00:56<00:00, 11.39it/s]\n"
          ]
        },
        {
          "output_type": "stream",
          "name": "stdout",
          "text": [
            "Average loss: 0.309257, Train accuracy: 0.883804\n"
          ]
        },
        {
          "output_type": "stream",
          "name": "stderr",
          "text": [
            "100%|██████████| 647/647 [00:56<00:00, 11.52it/s]\n"
          ]
        },
        {
          "output_type": "stream",
          "name": "stdout",
          "text": [
            "Average loss: 0.288634, Train accuracy: 0.898022\n"
          ]
        },
        {
          "output_type": "stream",
          "name": "stderr",
          "text": [
            "100%|██████████| 648/648 [00:56<00:00, 11.50it/s]\n"
          ]
        },
        {
          "output_type": "stream",
          "name": "stdout",
          "text": [
            "Average loss: 0.279735, Train accuracy: 0.902880\n"
          ]
        },
        {
          "output_type": "stream",
          "name": "stderr",
          "text": [
            "100%|██████████| 648/648 [00:56<00:00, 11.40it/s]\n"
          ]
        },
        {
          "output_type": "stream",
          "name": "stdout",
          "text": [
            "Average loss: 0.273554, Train accuracy: 0.906961\n"
          ]
        },
        {
          "output_type": "stream",
          "name": "stderr",
          "text": [
            "100%|██████████| 646/646 [00:57<00:00, 11.32it/s]\n"
          ]
        },
        {
          "output_type": "stream",
          "name": "stdout",
          "text": [
            "Average loss: 0.269240, Train accuracy: 0.908751\n"
          ]
        },
        {
          "output_type": "stream",
          "name": "stderr",
          "text": [
            "100%|██████████| 648/648 [00:55<00:00, 11.58it/s]\n"
          ]
        },
        {
          "output_type": "stream",
          "name": "stdout",
          "text": [
            "Average loss: 0.263657, Train accuracy: 0.910464\n"
          ]
        },
        {
          "output_type": "stream",
          "name": "stderr",
          "text": [
            "100%|██████████| 648/648 [00:55<00:00, 11.60it/s]\n"
          ]
        },
        {
          "output_type": "stream",
          "name": "stdout",
          "text": [
            "Average loss: 0.258995, Train accuracy: 0.911439\n"
          ]
        },
        {
          "output_type": "stream",
          "name": "stderr",
          "text": [
            "100%|██████████| 647/647 [00:56<00:00, 11.37it/s]\n"
          ]
        },
        {
          "output_type": "stream",
          "name": "stdout",
          "text": [
            "Average loss: 0.255549, Train accuracy: 0.911628\n"
          ]
        },
        {
          "output_type": "stream",
          "name": "stderr",
          "text": [
            "100%|██████████| 646/646 [00:55<00:00, 11.54it/s]\n"
          ]
        },
        {
          "output_type": "stream",
          "name": "stdout",
          "text": [
            "Average loss: 0.245325, Train accuracy: 0.913747\n"
          ]
        },
        {
          "output_type": "stream",
          "name": "stderr",
          "text": [
            "100%|██████████| 647/647 [00:56<00:00, 11.51it/s]\n"
          ]
        },
        {
          "output_type": "stream",
          "name": "stdout",
          "text": [
            "Average loss: 0.236938, Train accuracy: 0.915786\n"
          ]
        },
        {
          "output_type": "stream",
          "name": "stderr",
          "text": [
            "100%|██████████| 648/648 [00:56<00:00, 11.40it/s]\n"
          ]
        },
        {
          "output_type": "stream",
          "name": "stdout",
          "text": [
            "Average loss: 0.231380, Train accuracy: 0.916418\n"
          ]
        },
        {
          "output_type": "stream",
          "name": "stderr",
          "text": [
            "100%|██████████| 647/647 [00:57<00:00, 11.35it/s]\n"
          ]
        },
        {
          "output_type": "stream",
          "name": "stdout",
          "text": [
            "Average loss: 0.228550, Train accuracy: 0.917415\n"
          ]
        },
        {
          "output_type": "stream",
          "name": "stderr",
          "text": [
            "100%|██████████| 648/648 [00:57<00:00, 11.32it/s]\n"
          ]
        },
        {
          "output_type": "stream",
          "name": "stdout",
          "text": [
            "Average loss: 0.224851, Train accuracy: 0.917744\n"
          ]
        },
        {
          "output_type": "stream",
          "name": "stderr",
          "text": [
            "100%|██████████| 647/647 [00:57<00:00, 11.33it/s]\n"
          ]
        },
        {
          "output_type": "stream",
          "name": "stdout",
          "text": [
            "Average loss: 0.221733, Train accuracy: 0.918731\n"
          ]
        },
        {
          "output_type": "stream",
          "name": "stderr",
          "text": [
            "100%|██████████| 645/645 [00:57<00:00, 11.24it/s]\n"
          ]
        },
        {
          "output_type": "stream",
          "name": "stdout",
          "text": [
            "Average loss: 0.218682, Train accuracy: 0.919466\n"
          ]
        },
        {
          "output_type": "stream",
          "name": "stderr",
          "text": [
            "100%|██████████| 650/650 [00:58<00:00, 11.08it/s]\n"
          ]
        },
        {
          "output_type": "stream",
          "name": "stdout",
          "text": [
            "Average loss: 0.217925, Train accuracy: 0.919512\n"
          ]
        },
        {
          "output_type": "stream",
          "name": "stderr",
          "text": [
            "100%|██████████| 646/646 [00:56<00:00, 11.34it/s]\n"
          ]
        },
        {
          "output_type": "stream",
          "name": "stdout",
          "text": [
            "Average loss: 0.214748, Train accuracy: 0.919982\n"
          ]
        },
        {
          "output_type": "stream",
          "name": "stderr",
          "text": [
            "100%|██████████| 646/646 [00:56<00:00, 11.46it/s]\n"
          ]
        },
        {
          "output_type": "stream",
          "name": "stdout",
          "text": [
            "Average loss: 0.212545, Train accuracy: 0.920722\n"
          ]
        }
      ]
    },
    {
      "cell_type": "code",
      "metadata": {
        "colab": {
          "base_uri": "https://localhost:8080/",
          "height": 283
        },
        "id": "MaV5y-vd9SyM",
        "outputId": "154ce98e-b517-44d9-eeef-1ef09407045b"
      },
      "source": [
        "# Visualize training graphs\n",
        "plt.subplot(211)\n",
        "plt.plot(train_history)\n",
        "plt.subplot(212)\n",
        "plt.plot(loss_history)"
      ],
      "execution_count": 42,
      "outputs": [
        {
          "output_type": "execute_result",
          "data": {
            "text/plain": [
              "[<matplotlib.lines.Line2D at 0x7f7ebcec81d0>]"
            ]
          },
          "metadata": {},
          "execution_count": 42
        },
        {
          "output_type": "display_data",
          "data": {
            "image/png": "[encoded data removed]",
            "text/plain": [
              "<Figure size 432x288 with 2 Axes>"
            ]
          },
          "metadata": {
            "needs_background": "light"
          }
        }
      ]
    },
    {
      "cell_type": "markdown",
      "metadata": {
        "id": "J8oDcpvU9SyN"
      },
      "source": [
        "# Визуализируем вектора для разного вида слов до и после тренировки\n",
        "\n",
        "Как и ранее, в случае успешной тренировки вы должны увидеть как вектора слов разных типов (например, знаков препинания, предлогов и остальных)"
      ]
    },
    {
      "cell_type": "code",
      "metadata": {
        "colab": {
          "base_uri": "https://localhost:8080/",
          "height": 941
        },
        "id": "nTCBxqvh9SyO",
        "outputId": "67727663-c667-4df3-c6ff-4f79b043ad0f"
      },
      "source": [
        "trained_input_vectors, trained_output_vectors = extract_word_vectors(nn_model)\n",
        "assert trained_input_vectors.shape == (data.num_tokens(), wordvec_dim)\n",
        "assert trained_output_vectors.shape == (data.num_tokens(), wordvec_dim)\n",
        "\n",
        "def visualize_vectors(input_vectors, output_vectors, title=''):\n",
        "    full_vectors = torch.cat((input_vectors, output_vectors), 0)\n",
        "    wordvec_embedding = PCA(n_components=2).fit_transform(full_vectors)\n",
        "\n",
        "    # Helpful words form CS244D example\n",
        "    # http://cs224d.stanford.edu/assignment1/index.html\n",
        "    visualize_words = {'green': [\"the\", \"a\", \"an\"], \n",
        "                      'blue': [\",\", \".\", \"?\", \"!\", \"``\", \"''\", \"--\"], \n",
        "                      'brown': [\"good\", \"great\", \"cool\", \"brilliant\", \"wonderful\", \n",
        "                              \"well\", \"amazing\", \"worth\", \"sweet\", \"enjoyable\"],\n",
        "                      'orange': [\"boring\", \"bad\", \"waste\", \"dumb\", \"annoying\", \"stupid\"],\n",
        "                      'red': ['tell', 'told', 'said', 'say', 'says', 'tells', 'goes', 'go', 'went']\n",
        "                     }\n",
        "\n",
        "    plt.figure(figsize=(7,7))\n",
        "    plt.suptitle(title)\n",
        "    for color, words in visualize_words.items():\n",
        "        points = np.array([wordvec_embedding[data.index_by_token[w]] for w in words])\n",
        "        for i, word in enumerate(words):\n",
        "            plt.text(points[i, 0], points[i, 1], word, color=color,horizontalalignment='center')\n",
        "        plt.scatter(points[:, 0], points[:, 1], c=color, alpha=0.3, s=0.5)\n",
        "\n",
        "visualize_vectors(untrained_input_vectors, untrained_output_vectors, \"Untrained word vectors\")\n",
        "visualize_vectors(trained_input_vectors, trained_output_vectors, \"Trained word vectors\")"
      ],
      "execution_count": 43,
      "outputs": [
        {
          "output_type": "display_data",
          "data": {
            "image/png": "[encoded data removed]",
            "text/plain": [
              "<Figure size 504x504 with 1 Axes>"
            ]
          },
          "metadata": {
            "needs_background": "light"
          }
        },
        {
          "output_type": "display_data",
          "data": {
            "image/png": "[encoded data removed]",
            "text/plain": [
              "<Figure size 504x504 with 1 Axes>"
            ]
          },
          "metadata": {
            "needs_background": "light"
          }
        }
      ]
    },
    {
      "cell_type": "code",
      "metadata": {
        "id": "VL1L3tAM83ZQ"
      },
      "source": [
        ""
      ],
      "execution_count": 43,
      "outputs": []
    }
  ]
}