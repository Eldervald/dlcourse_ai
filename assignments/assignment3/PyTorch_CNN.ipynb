{
  "nbformat": 4,
  "nbformat_minor": 0,
  "metadata": {
    "accelerator": "GPU",
    "colab": {
      "name": "PyTorch_CNN.ipynb",
      "provenance": [],
      "collapsed_sections": []
    },
    "kernelspec": {
      "display_name": "Python 3 (ipykernel)",
      "language": "python",
      "name": "python3"
    },
    "language_info": {
      "codemirror_mode": {
        "name": "ipython",
        "version": 3
      },
      "file_extension": ".py",
      "mimetype": "text/x-python",
      "name": "python",
      "nbconvert_exporter": "python",
      "pygments_lexer": "ipython3",
      "version": "3.8.5"
    }
  },
  "cells": [
    {
      "cell_type": "markdown",
      "metadata": {
        "id": "iy2__ncdZe3m"
      },
      "source": [
        "# Задание 3.2 - сверточные нейронные сети (CNNs) в PyTorch\n",
        "\n",
        "Это упражнение мы буде выполнять в Google Colab - https://colab.research.google.com/  \n",
        "Google Colab позволяет запускать код в notebook в облаке Google, где можно воспользоваться бесплатным GPU!  \n",
        "\n",
        "Авторы курса благодарят компанию Google и надеятся, что праздник не закончится.\n",
        "\n",
        "Туториал по настройке Google Colab:  \n",
        "https://medium.com/deep-learning-turkey/google-colab-free-gpu-tutorial-e113627b9f5d  \n",
        "(Keras инсталлировать не нужно, наш notebook сам установит PyTorch)\n"
      ]
    },
    {
      "cell_type": "code",
      "metadata": {
        "colab": {
          "base_uri": "https://localhost:8080/"
        },
        "id": "FcXBeP1O7cnY",
        "outputId": "56ededea-2f1c-4778-e32b-85893f74688c"
      },
      "source": [
        "# Intstall PyTorch and download data\n",
        "!pip3 install torch torchvision\n",
        "\n",
        "!wget -c http://ufldl.stanford.edu/housenumbers/train_32x32.mat http://ufldl.stanford.edu/housenumbers/test_32x32.mat"
      ],
      "execution_count": 2,
      "outputs": [
        {
          "output_type": "stream",
          "text": [
            "Requirement already satisfied: torch in /usr/local/lib/python3.7/dist-packages (1.9.0+cu102)\n",
            "Requirement already satisfied: torchvision in /usr/local/lib/python3.7/dist-packages (0.10.0+cu102)\n",
            "Requirement already satisfied: typing-extensions in /usr/local/lib/python3.7/dist-packages (from torch) (3.7.4.3)\n",
            "Requirement already satisfied: pillow>=5.3.0 in /usr/local/lib/python3.7/dist-packages (from torchvision) (7.1.2)\n",
            "Requirement already satisfied: numpy in /usr/local/lib/python3.7/dist-packages (from torchvision) (1.19.5)\n",
            "--2021-07-15 20:09:32--  http://ufldl.stanford.edu/housenumbers/train_32x32.mat\n",
            "Resolving ufldl.stanford.edu (ufldl.stanford.edu)... 171.64.68.10\n",
            "Connecting to ufldl.stanford.edu (ufldl.stanford.edu)|171.64.68.10|:80... connected.\n",
            "HTTP request sent, awaiting response... 200 OK\n",
            "Length: 182040794 (174M) [text/plain]\n",
            "Saving to: ‘train_32x32.mat’\n",
            "\n",
            "train_32x32.mat     100%[===================>] 173.61M  40.2MB/s    in 5.0s    \n",
            "\n",
            "2021-07-15 20:09:37 (34.7 MB/s) - ‘train_32x32.mat’ saved [182040794/182040794]\n",
            "\n",
            "--2021-07-15 20:09:37--  http://ufldl.stanford.edu/housenumbers/test_32x32.mat\n",
            "Reusing existing connection to ufldl.stanford.edu:80.\n",
            "HTTP request sent, awaiting response... 200 OK\n",
            "Length: 64275384 (61M) [text/plain]\n",
            "Saving to: ‘test_32x32.mat’\n",
            "\n",
            "test_32x32.mat      100%[===================>]  61.30M  41.9MB/s    in 1.5s    \n",
            "\n",
            "2021-07-15 20:09:39 (41.9 MB/s) - ‘test_32x32.mat’ saved [64275384/64275384]\n",
            "\n",
            "FINISHED --2021-07-15 20:09:39--\n",
            "Total wall clock time: 6.7s\n",
            "Downloaded: 2 files, 235M in 6.5s (36.3 MB/s)\n"
          ],
          "name": "stdout"
        }
      ]
    },
    {
      "cell_type": "code",
      "metadata": {
        "id": "-afwWw-Q85vD"
      },
      "source": [
        "from collections import namedtuple\n",
        "\n",
        "import matplotlib.pyplot as plt\n",
        "import numpy as np\n",
        "import PIL\n",
        "import torch\n",
        "import torch.nn as nn\n",
        "import torch.optim as optim\n",
        "import torchvision.datasets as dset\n",
        "from torch.utils.data.sampler import SubsetRandomSampler\n",
        "\n",
        "from torchvision import transforms"
      ],
      "execution_count": 3,
      "outputs": []
    },
    {
      "cell_type": "code",
      "metadata": {
        "id": "NNU-OD9O9ltP"
      },
      "source": [
        "device = torch.device(\"cuda:0\") # Let's make sure GPU is available!"
      ],
      "execution_count": 4,
      "outputs": []
    },
    {
      "cell_type": "markdown",
      "metadata": {
        "id": "Yi2ktwJfZe38"
      },
      "source": [
        "# Загружаем данные"
      ]
    },
    {
      "cell_type": "code",
      "metadata": {
        "id": "YAvkoRx-9FsP"
      },
      "source": [
        "# First, lets load the dataset\n",
        "data_train = dset.SVHN('./', \n",
        "                       transform=transforms.Compose([\n",
        "                           transforms.ToTensor(),\n",
        "                           transforms.Normalize(mean=[0.43,0.44,0.47],\n",
        "                                               std=[0.20,0.20,0.20])                           \n",
        "                       ])\n",
        "                      )\n",
        "data_test = dset.SVHN('./', split='test', transform=transforms.Compose([\n",
        "                           transforms.ToTensor(),\n",
        "                           transforms.Normalize(mean=[0.43,0.44,0.47],\n",
        "                                               std=[0.20,0.20,0.20])                           \n",
        "                       ]))"
      ],
      "execution_count": 5,
      "outputs": []
    },
    {
      "cell_type": "markdown",
      "metadata": {
        "id": "39Z9NIp4Ze4A"
      },
      "source": [
        "Разделяем данные на training и validation.\n",
        "\n",
        "На всякий случай для подробностей - https://pytorch.org/tutorials/beginner/data_loading_tutorial.html"
      ]
    },
    {
      "cell_type": "code",
      "metadata": {
        "id": "YRnr8CPg7Hli"
      },
      "source": [
        "batch_size = 64\n",
        "\n",
        "data_size = data_train.data.shape[0]\n",
        "validation_split = .2\n",
        "split = int(np.floor(validation_split * data_size))\n",
        "indices = list(range(data_size))\n",
        "np.random.shuffle(indices)\n",
        "\n",
        "train_indices, val_indices = indices[split:], indices[:split]\n",
        "\n",
        "train_sampler = SubsetRandomSampler(train_indices)\n",
        "val_sampler = SubsetRandomSampler(val_indices)\n",
        "\n",
        "train_loader = torch.utils.data.DataLoader(data_train, batch_size=batch_size, \n",
        "                                           sampler=train_sampler)\n",
        "val_loader = torch.utils.data.DataLoader(data_train, batch_size=batch_size,\n",
        "                                         sampler=val_sampler)"
      ],
      "execution_count": 6,
      "outputs": []
    },
    {
      "cell_type": "code",
      "metadata": {
        "id": "LyYvt-T67PBG"
      },
      "source": [
        "# We'll use a special helper module to shape it into a flat tensor\n",
        "class Flattener(nn.Module):\n",
        "    def forward(self, x):\n",
        "        batch_size, *_ = x.shape\n",
        "        return x.view(batch_size, -1)"
      ],
      "execution_count": 7,
      "outputs": []
    },
    {
      "cell_type": "markdown",
      "metadata": {
        "id": "9O2mhA-aZe4F"
      },
      "source": [
        "Создадим простейшую сеть с новыми слоями:  \n",
        "Convolutional - `nn.Conv2d`  \n",
        "MaxPool - `nn.MaxPool2d`"
      ]
    },
    {
      "cell_type": "code",
      "metadata": {
        "id": "w9SFVGZP7SQd"
      },
      "source": [
        "nn_model = nn.Sequential(\n",
        "            nn.Conv2d(3, 64, 3, padding=1),\n",
        "            nn.ReLU(inplace=True),\n",
        "            nn.MaxPool2d(4),\n",
        "            nn.Conv2d(64, 64, 3, padding=1),\n",
        "            nn.ReLU(inplace=True),\n",
        "            nn.MaxPool2d(4),    \n",
        "            Flattener(),\n",
        "            nn.Linear(64*2*2, 10),\n",
        "          )\n",
        "\n",
        "nn_model.type(torch.cuda.FloatTensor)\n",
        "nn_model.to(device)\n",
        "\n",
        "loss = nn.CrossEntropyLoss().type(torch.cuda.FloatTensor)\n",
        "optimizer = optim.SGD(nn_model.parameters(), lr=1e-1, weight_decay=1e-4)"
      ],
      "execution_count": 8,
      "outputs": []
    },
    {
      "cell_type": "markdown",
      "metadata": {
        "id": "xg1je7ZsZe4L"
      },
      "source": [
        "Восстановите функцию `compute_accuracy` из прошлого задания.  \n",
        "Единственное отличие в новом - она должна передать данные на GPU прежде чем прогонять через модель. Сделайте это так же, как это делает функция `train_model`"
      ]
    },
    {
      "cell_type": "code",
      "metadata": {
        "colab": {
          "base_uri": "https://localhost:8080/"
        },
        "id": "2ek3KVQK7hJ6",
        "outputId": "0cd4bbdd-bbc5-431c-f3fe-43c27b163cc9"
      },
      "source": [
        "def train_model(model, train_loader, val_loader, loss, optimizer, num_epochs):    \n",
        "    loss_history = []\n",
        "    train_history = []\n",
        "    val_history = []\n",
        "    for epoch in range(num_epochs):\n",
        "        model.train() # Enter train mode\n",
        "        \n",
        "        loss_accum = 0\n",
        "        correct_samples = 0\n",
        "        total_samples = 0\n",
        "        for i_step, (x, y) in enumerate(train_loader):\n",
        "          \n",
        "            x_gpu = x.to(device)\n",
        "            y_gpu = y.to(device)\n",
        "            prediction = model(x_gpu)    \n",
        "            loss_value = loss(prediction, y_gpu)\n",
        "            optimizer.zero_grad()\n",
        "            loss_value.backward()\n",
        "            optimizer.step()\n",
        "            \n",
        "            _, indices = torch.max(prediction, 1)\n",
        "            correct_samples += torch.sum(indices == y_gpu)\n",
        "            total_samples += y.shape[0]\n",
        "            \n",
        "            loss_accum += loss_value\n",
        "\n",
        "        ave_loss = loss_accum / i_step\n",
        "        train_accuracy = float(correct_samples) / total_samples\n",
        "        val_accuracy = compute_accuracy(model, val_loader)\n",
        "        \n",
        "        loss_history.append(float(ave_loss))\n",
        "        train_history.append(train_accuracy)\n",
        "        val_history.append(val_accuracy)\n",
        "        \n",
        "        print(\"Average loss: %f, Train accuracy: %f, Val accuracy: %f\" % (ave_loss, train_accuracy, val_accuracy))\n",
        "        \n",
        "    return loss_history, train_history, val_history\n",
        "        \n",
        "def compute_accuracy(model, loader):\n",
        "    \"\"\"\n",
        "    Computes accuracy on the dataset wrapped in a loader\n",
        "    \n",
        "    Returns: accuracy as a float value between 0 and 1\n",
        "    \"\"\"\n",
        "    model.eval() # Evaluation mode\n",
        "\n",
        "    correct_samples = 0\n",
        "    total_samples = 0\n",
        "\n",
        "    for idx, (x, y) in enumerate(loader):\n",
        "      x_gpu = x.to(device)\n",
        "      y_gpu = y.to(device)\n",
        "      prediction = model(x_gpu)  \n",
        "      _, indices = torch.max(prediction, 1)\n",
        "      correct_samples += torch.sum(indices == y_gpu)\n",
        "      total_samples += y.shape[0]\n",
        "    \n",
        "    return correct_samples / total_samples\n",
        "\n",
        "loss_history, train_history, val_history = train_model(nn_model, train_loader, val_loader, loss, optimizer, 5)"
      ],
      "execution_count": 9,
      "outputs": [
        {
          "output_type": "stream",
          "text": [
            "/usr/local/lib/python3.7/dist-packages/torch/nn/functional.py:718: UserWarning: Named tensors and all their associated APIs are an experimental feature and subject to change. Please do not use them for anything important until they are released as stable. (Triggered internally at  /pytorch/c10/core/TensorImpl.h:1156.)\n",
            "  return torch.max_pool2d(input, kernel_size, stride, padding, dilation, ceil_mode)\n"
          ],
          "name": "stderr"
        },
        {
          "output_type": "stream",
          "text": [
            "Average loss: 1.385124, Train accuracy: 0.536344, Val accuracy: 0.720975\n",
            "Average loss: 0.687886, Train accuracy: 0.791438, Val accuracy: 0.802812\n",
            "Average loss: 0.598023, Train accuracy: 0.820377, Val accuracy: 0.829295\n",
            "Average loss: 0.552809, Train accuracy: 0.834880, Val accuracy: 0.829773\n",
            "Average loss: 0.517957, Train accuracy: 0.844180, Val accuracy: 0.799741\n"
          ],
          "name": "stdout"
        }
      ]
    },
    {
      "cell_type": "markdown",
      "metadata": {
        "id": "6a-3a1ZFGEw_"
      },
      "source": [
        "# Аугментация данных (Data augmentation)\n",
        "\n",
        "В работе с изображениями одним из особенно важных методов является аугментация данных - то есть, генерация дополнительных данных для тренировки на основе изначальных.   \n",
        "Таким образом, мы получаем возможность \"увеличить\" набор данных для тренировки, что ведет к лучшей работе сети.\n",
        "Важно, чтобы аугментированные данные были похожи на те, которые могут встретиться в реальной жизни, иначе польза от аугментаций уменьшается и может ухудшить работу сети.\n",
        "\n",
        "С PyTorch идут несколько таких алгоритмов, называемых `transforms`. Более подробно про них можно прочитать тут -\n",
        "https://pytorch.org/tutorials/beginner/data_loading_tutorial.html#transforms\n",
        "\n",
        "Ниже мы используем следующие алгоритмы генерации:\n",
        "- ColorJitter - случайное изменение цвета\n",
        "- RandomHorizontalFlip - горизонтальное отражение с вероятностью 50%\n",
        "- RandomVerticalFlip - вертикальное отражение с вероятностью 50%\n",
        "- RandomRotation - случайный поворот"
      ]
    },
    {
      "cell_type": "code",
      "metadata": {
        "colab": {
          "base_uri": "https://localhost:8080/"
        },
        "id": "jCWMUWmr7t5g",
        "outputId": "a9fbc1d3-9567-4949-b937-508b2d8e9031"
      },
      "source": [
        "tfs = transforms.Compose([\n",
        "    transforms.ColorJitter(hue=.50, saturation=.50),\n",
        "    transforms.RandomHorizontalFlip(),\n",
        "    transforms.RandomVerticalFlip(),\n",
        "    transforms.RandomRotation(50, resample=PIL.Image.BILINEAR),\n",
        "    transforms.ToTensor(),\n",
        "    transforms.Normalize(mean=[0.43,0.44,0.47],\n",
        "                       std=[0.20,0.20,0.20])                           \n",
        "])\n",
        "\n",
        "# Create augmented train dataset\n",
        "data_aug_train = dset.SVHN('./', \n",
        "                       transform=tfs\n",
        "                      )\n",
        "\n",
        "train_aug_loader = torch.utils.data.DataLoader(data_aug_train, batch_size=batch_size, \n",
        "                                           sampler=train_sampler)"
      ],
      "execution_count": 26,
      "outputs": [
        {
          "output_type": "stream",
          "text": [
            "/usr/local/lib/python3.7/dist-packages/torchvision/transforms/transforms.py:1231: UserWarning: Argument resample is deprecated and will be removed since v0.10.0. Please, use interpolation instead\n",
            "  \"Argument resample is deprecated and will be removed since v0.10.0. Please, use interpolation instead\"\n"
          ],
          "name": "stderr"
        }
      ]
    },
    {
      "cell_type": "markdown",
      "metadata": {
        "id": "L73uHesqZe4P"
      },
      "source": [
        "Визуализируем результаты агментации (вообще, смотреть на сгенерированные данные всегда очень полезно)."
      ]
    },
    {
      "cell_type": "code",
      "metadata": {
        "colab": {
          "base_uri": "https://localhost:8080/",
          "height": 204
        },
        "id": "YlJJEro1KZ45",
        "outputId": "2852f6db-0b71-420e-f34b-af8900d16839"
      },
      "source": [
        "# TODO: Visualize some augmented images!\n",
        "# hint: you can create new datasets and loaders to accomplish this\n",
        "\n",
        "# Based on the visualizations, should we keep all the augmentations?\n",
        "\n",
        "tfs = transforms.Compose([\n",
        "    transforms.ColorJitter(hue=.20, saturation=.20),\n",
        "    # transforms.RandomHorizontalFlip(),\n",
        "    # transforms.RandomVerticalFlip(),\n",
        "    transforms.RandomRotation(10, resample=PIL.Image.BILINEAR),\n",
        "])\n",
        "\n",
        "data_aug_vis = dset.SVHN('./', \n",
        "                       transform=tfs\n",
        "                      )\n",
        "\n",
        "plt.figure(figsize=(30, 3))\n",
        "\n",
        "for i, (x, y) in enumerate(data_aug_vis):\n",
        "    if i == 10:\n",
        "        break\n",
        "    plt.subplot(1, 10, i+1)\n",
        "    plt.grid(False)\n",
        "    plt.imshow(x)\n",
        "    plt.axis('off')"
      ],
      "execution_count": 27,
      "outputs": [
        {
          "output_type": "stream",
          "text": [
            "/usr/local/lib/python3.7/dist-packages/torchvision/transforms/transforms.py:1231: UserWarning: Argument resample is deprecated and will be removed since v0.10.0. Please, use interpolation instead\n",
            "  \"Argument resample is deprecated and will be removed since v0.10.0. Please, use interpolation instead\"\n"
          ],
          "name": "stderr"
        },
        {
          "output_type": "display_data",
          "data": {
            "image/png": "[encoded data removed]",
            "text/plain": [
              "<Figure size 2160x216 with 10 Axes>"
            ]
          },
          "metadata": {
            "tags": [],
            "needs_background": "light"
          }
        }
      ]
    },
    {
      "cell_type": "markdown",
      "metadata": {
        "id": "o2LrmsYHoguB"
      },
      "source": [
        "Все ли агментации одинаково полезны на этом наборе данных? Могут ли быть среди них те, которые собьют модель с толку?\n",
        "\n",
        "Выберите из них только корректные"
      ]
    },
    {
      "cell_type": "code",
      "metadata": {
        "colab": {
          "base_uri": "https://localhost:8080/"
        },
        "id": "evro9ksXGs9u",
        "outputId": "3034da22-8e65-4ed1-eec4-2fcce1763993"
      },
      "source": [
        "# TODO: \n",
        "tfs = transforms.Compose([\n",
        "    transforms.ColorJitter(hue=.20, saturation=.20),\n",
        "    transforms.RandomRotation(10, resample=PIL.Image.BILINEAR),\n",
        "    transforms.ToTensor(),\n",
        "    transforms.Normalize(mean=[0.43,0.44,0.47],\n",
        "                       std=[0.20,0.20,0.20])                           \n",
        "])\n",
        "\n",
        "# TODO create new instances of loaders with the augmentations you chose\n",
        "data_aug_train = dset.SVHN('./', \n",
        "                       transform=tfs\n",
        "                      )\n",
        "\n",
        "train_aug_loader = torch.utils.data.DataLoader(data_aug_train, batch_size=batch_size, \n",
        "                                           sampler=train_sampler)"
      ],
      "execution_count": 10,
      "outputs": [
        {
          "output_type": "stream",
          "text": [
            "/usr/local/lib/python3.7/dist-packages/torchvision/transforms/transforms.py:1231: UserWarning: Argument resample is deprecated and will be removed since v0.10.0. Please, use interpolation instead\n",
            "  \"Argument resample is deprecated and will be removed since v0.10.0. Please, use interpolation instead\"\n"
          ],
          "name": "stderr"
        }
      ]
    },
    {
      "cell_type": "code",
      "metadata": {
        "colab": {
          "base_uri": "https://localhost:8080/"
        },
        "id": "PeO6Zw0DHqPR",
        "outputId": "c6096353-42fc-4d5a-e9f7-909e15dd89b6"
      },
      "source": [
        "# Finally, let's train with augmentations!\n",
        "\n",
        "# Note we shouldn't use augmentations on validation\n",
        "\n",
        "loss_history, train_history, val_history = train_model(nn_model, train_aug_loader, val_loader, loss, optimizer, 5)"
      ],
      "execution_count": 35,
      "outputs": [
        {
          "output_type": "stream",
          "text": [
            "Average loss: 0.607269, Train accuracy: 0.814763, Val accuracy: 0.843901\n",
            "Average loss: 0.560370, Train accuracy: 0.829352, Val accuracy: 0.827930\n",
            "Average loss: 0.546149, Train accuracy: 0.834846, Val accuracy: 0.844038\n",
            "Average loss: 0.527191, Train accuracy: 0.841194, Val accuracy: 0.859805\n",
            "Average loss: 0.511649, Train accuracy: 0.846176, Val accuracy: 0.851136\n"
          ],
          "name": "stdout"
        }
      ]
    },
    {
      "cell_type": "markdown",
      "metadata": {
        "id": "r0bcioK6JBDK"
      },
      "source": [
        "# LeNet\n",
        "Попробуем имплементировать классическую архитектуру сверточной нейронной сети, предложенную Яном ЛеКуном в 1998 году. В свое время она достигла впечатляющих результатов на MNIST, посмотрим как она справится с SVHN?\n",
        "Она описана в статье [\"Gradient Based Learning Applied to Document Recognition\"](http://yann.lecun.com/exdb/publis/pdf/lecun-01a.pdf), попробуйте прочитать ключевые части и имплементировать предложенную архитетуру на PyTorch.\n",
        "\n",
        "Реализовывать слои и функцию ошибки LeNet, которых нет в PyTorch, **не нужно** - просто возьмите их размеры и переведите в уже известные нам Convolutional, Pooling и Fully Connected layers.\n",
        "\n",
        "Если в статье не очень понятно, можно просто погуглить LeNet и разобраться в деталях :)"
      ]
    },
    {
      "cell_type": "code",
      "metadata": {
        "id": "ieEzZUglJAUB"
      },
      "source": [
        "# TODO: Implement LeNet-like architecture for SVHN task\n",
        "lenet_model = nn.Sequential(\n",
        "    nn.Conv2d(3, 6, (5, 5)),\n",
        "    nn.MaxPool2d((2, 2), (2, 2)),\n",
        "    nn.Tanh(),\n",
        "    nn.Conv2d(6, 16, (5, 5)),\n",
        "    nn.MaxPool2d((2, 2), (2, 2)),\n",
        "    nn.Tanh(),\n",
        "    Flattener(),\n",
        "    nn.Linear(16 * 5 * 5, 120),\n",
        "    nn.Tanh(),\n",
        "    nn.Linear(120, 84),\n",
        "    nn.Tanh(),\n",
        "    nn.Linear(84, 10))\n",
        "\n",
        "lenet_model.type(torch.cuda.FloatTensor)\n",
        "lenet_model.to(device)\n",
        "\n",
        "loss = nn.CrossEntropyLoss().type(torch.cuda.FloatTensor)\n",
        "optimizer = optim.SGD(lenet_model.parameters(), lr=1e-1, weight_decay=1e-4)"
      ],
      "execution_count": 39,
      "outputs": []
    },
    {
      "cell_type": "code",
      "metadata": {
        "colab": {
          "base_uri": "https://localhost:8080/"
        },
        "id": "WMmaPfdeKk9H",
        "outputId": "1bb42703-a352-4950-fc25-1fe21c2841c4"
      },
      "source": [
        "# Let's train it!\n",
        "loss_history, train_history, val_history = train_model(lenet_model, train_aug_loader, val_loader, loss, optimizer, 10)"
      ],
      "execution_count": 40,
      "outputs": [
        {
          "output_type": "stream",
          "text": [
            "Average loss: 1.277519, Train accuracy: 0.570931, Val accuracy: 0.800901\n",
            "Average loss: 0.576050, Train accuracy: 0.823209, Val accuracy: 0.858030\n",
            "Average loss: 0.488348, Train accuracy: 0.851107, Val accuracy: 0.864856\n",
            "Average loss: 0.448557, Train accuracy: 0.863069, Val accuracy: 0.878711\n",
            "Average loss: 0.413424, Train accuracy: 0.874757, Val accuracy: 0.887107\n",
            "Average loss: 0.393104, Train accuracy: 0.879432, Val accuracy: 0.883694\n",
            "Average loss: 0.376556, Train accuracy: 0.884142, Val accuracy: 0.878507\n",
            "Average loss: 0.360614, Train accuracy: 0.889789, Val accuracy: 0.893659\n",
            "Average loss: 0.347088, Train accuracy: 0.892383, Val accuracy: 0.894478\n",
            "Average loss: 0.337608, Train accuracy: 0.895813, Val accuracy: 0.895980\n"
          ],
          "name": "stdout"
        }
      ]
    },
    {
      "cell_type": "markdown",
      "metadata": {
        "id": "u_O9qiYySvuj"
      },
      "source": [
        "# Подбор гиперпараметров"
      ]
    },
    {
      "cell_type": "code",
      "metadata": {
        "colab": {
          "base_uri": "https://localhost:8080/"
        },
        "id": "i6mhfdQ9K-N3",
        "outputId": "4bc5e32d-a06b-4e12-b59c-df9330678926"
      },
      "source": [
        "# The key hyperparameters we're going to tune are learning speed, annealing rate and regularization\n",
        "# We also encourage you to try different optimizers as well\n",
        "from copy import deepcopy\n",
        "\n",
        "Hyperparams = namedtuple(\"Hyperparams\", ['learning_rate', 'anneal_epochs', 'reg'])\n",
        "RunResult = namedtuple(\"RunResult\", ['model', 'train_history', 'val_history', 'final_val_accuracy'])\n",
        "\n",
        "learning_rates = [1e0, 1e-1, 1e-2, 1e-3, 1e-4]\n",
        "anneal_coeff = 0.2\n",
        "anneal_epochs = [1, 5, 10, 15]\n",
        "regs = [1e-3, 1e-4, 1e-5, 1e-7]\n",
        "\n",
        "batch_size = 64\n",
        "epoch_num = 10\n",
        "\n",
        "# Record all the runs here\n",
        "# Key should be Hyperparams and values should be RunResult\n",
        "run_record = {} \n",
        "\n",
        "# Use grid search or random search and record all runs in run_record dictionnary \n",
        "# Important: perform search in logarithmic space!\n",
        "\n",
        "for idx in range(10):\n",
        "  model = deepcopy(lenet_model)\n",
        "  model.type(torch.cuda.FloatTensor)\n",
        "  model.to(device)\n",
        "\n",
        "  lr = np.random.choice(learning_rates)\n",
        "  anneal_epoch = np.random.choice(anneal_epochs)\n",
        "  reg = np.random.choice(regs)\n",
        "\n",
        "  params = Hyperparams(lr, anneal_epoch, reg)\n",
        "  print(params)\n",
        "\n",
        "  loss = nn.CrossEntropyLoss().type(torch.cuda.FloatTensor)\n",
        "  optimizer = optim.SGD(model.parameters(), lr=lr, weight_decay=reg)\n",
        "\n",
        "  loss_history, train_history, val_history = train_model(model, train_aug_loader, val_loader, loss, optimizer, int(anneal_epoch))\n",
        "  result = RunResult(model, train_history, val_history, val_history[-1])\n",
        "  run_record[params] = result\n",
        "  print('-' * 50)\n"
      ],
      "execution_count": 48,
      "outputs": [
        {
          "output_type": "stream",
          "text": [
            "Hyperparams(learning_rate=0.0001, anneal_epochs=1, reg=1e-07)\n",
            "Average loss: 0.824700, Train accuracy: 0.750589, Val accuracy: 0.775920\n",
            "--------------------------------------------------\n",
            "Hyperparams(learning_rate=0.001, anneal_epochs=5, reg=0.001)\n",
            "Average loss: 0.762540, Train accuracy: 0.768368, Val accuracy: 0.798512\n",
            "Average loss: 0.705333, Train accuracy: 0.786711, Val accuracy: 0.809023\n",
            "Average loss: 0.680097, Train accuracy: 0.792769, Val accuracy: 0.813801\n",
            "Average loss: 0.665925, Train accuracy: 0.796301, Val accuracy: 0.816873\n",
            "Average loss: 0.652638, Train accuracy: 0.801914, Val accuracy: 0.820627\n",
            "--------------------------------------------------\n",
            "Hyperparams(learning_rate=1.0, anneal_epochs=15, reg=1e-05)\n",
            "Average loss: 0.831887, Train accuracy: 0.751015, Val accuracy: 0.782745\n",
            "Average loss: 0.835179, Train accuracy: 0.750725, Val accuracy: 0.746843\n",
            "Average loss: 0.840815, Train accuracy: 0.750896, Val accuracy: 0.755989\n",
            "Average loss: 0.853936, Train accuracy: 0.744463, Val accuracy: 0.786772\n",
            "Average loss: 0.854928, Train accuracy: 0.744361, Val accuracy: 0.735308\n",
            "Average loss: 0.844205, Train accuracy: 0.748012, Val accuracy: 0.774145\n",
            "Average loss: 0.863808, Train accuracy: 0.740880, Val accuracy: 0.765477\n",
            "Average loss: 0.873805, Train accuracy: 0.740385, Val accuracy: 0.769640\n",
            "Average loss: 0.885155, Train accuracy: 0.735027, Val accuracy: 0.727595\n",
            "Average loss: 0.895230, Train accuracy: 0.734583, Val accuracy: 0.767456\n",
            "Average loss: 0.828527, Train accuracy: 0.753660, Val accuracy: 0.766637\n",
            "Average loss: 0.838825, Train accuracy: 0.749940, Val accuracy: 0.756604\n",
            "Average loss: 0.875737, Train accuracy: 0.737877, Val accuracy: 0.760904\n",
            "Average loss: 0.905389, Train accuracy: 0.731615, Val accuracy: 0.738516\n",
            "Average loss: 0.858109, Train accuracy: 0.743473, Val accuracy: 0.747799\n",
            "--------------------------------------------------\n",
            "Hyperparams(learning_rate=0.1, anneal_epochs=1, reg=0.001)\n",
            "Average loss: 0.591611, Train accuracy: 0.818619, Val accuracy: 0.845608\n",
            "--------------------------------------------------\n",
            "Hyperparams(learning_rate=0.01, anneal_epochs=5, reg=1e-05)\n",
            "Average loss: 0.664802, Train accuracy: 0.798144, Val accuracy: 0.827179\n",
            "Average loss: 0.610489, Train accuracy: 0.814285, Val accuracy: 0.832366\n",
            "Average loss: 0.592633, Train accuracy: 0.818670, Val accuracy: 0.834141\n",
            "Average loss: 0.575545, Train accuracy: 0.823022, Val accuracy: 0.838578\n",
            "Average loss: 0.572568, Train accuracy: 0.826059, Val accuracy: 0.840079\n",
            "--------------------------------------------------\n",
            "Hyperparams(learning_rate=0.001, anneal_epochs=1, reg=0.0001)\n",
            "Average loss: 0.765980, Train accuracy: 0.767072, Val accuracy: 0.799263\n",
            "--------------------------------------------------\n",
            "Hyperparams(learning_rate=0.1, anneal_epochs=10, reg=1e-07)\n",
            "Average loss: 0.596641, Train accuracy: 0.817357, Val accuracy: 0.839601\n",
            "Average loss: 0.545847, Train accuracy: 0.833635, Val accuracy: 0.845267\n",
            "Average loss: 0.524204, Train accuracy: 0.839419, Val accuracy: 0.849498\n",
            "Average loss: 0.508552, Train accuracy: 0.843531, Val accuracy: 0.851000\n",
            "Average loss: 0.500183, Train accuracy: 0.847115, Val accuracy: 0.855300\n",
            "Average loss: 0.489776, Train accuracy: 0.850408, Val accuracy: 0.855027\n",
            "Average loss: 0.487723, Train accuracy: 0.851483, Val accuracy: 0.861989\n",
            "Average loss: 0.473826, Train accuracy: 0.854742, Val accuracy: 0.857825\n",
            "Average loss: 0.465510, Train accuracy: 0.857489, Val accuracy: 0.860078\n",
            "Average loss: 0.462976, Train accuracy: 0.857387, Val accuracy: 0.859259\n",
            "--------------------------------------------------\n",
            "Hyperparams(learning_rate=0.0001, anneal_epochs=15, reg=0.001)\n",
            "Average loss: 0.823380, Train accuracy: 0.751254, Val accuracy: 0.776056\n",
            "Average loss: 0.810037, Train accuracy: 0.754684, Val accuracy: 0.780425\n",
            "Average loss: 0.789899, Train accuracy: 0.760195, Val accuracy: 0.784452\n",
            "Average loss: 0.779403, Train accuracy: 0.761680, Val accuracy: 0.786840\n",
            "Average loss: 0.769519, Train accuracy: 0.765502, Val accuracy: 0.789844\n",
            "Average loss: 0.757158, Train accuracy: 0.768966, Val accuracy: 0.792779\n",
            "Average loss: 0.754037, Train accuracy: 0.771747, Val accuracy: 0.794417\n",
            "Average loss: 0.736979, Train accuracy: 0.775979, Val accuracy: 0.795918\n",
            "Average loss: 0.730398, Train accuracy: 0.777685, Val accuracy: 0.796942\n",
            "Average loss: 0.727600, Train accuracy: 0.778606, Val accuracy: 0.798171\n",
            "Average loss: 0.721233, Train accuracy: 0.780244, Val accuracy: 0.800355\n",
            "Average loss: 0.717708, Train accuracy: 0.781626, Val accuracy: 0.802198\n",
            "Average loss: 0.715046, Train accuracy: 0.783674, Val accuracy: 0.803836\n",
            "Average loss: 0.710468, Train accuracy: 0.784834, Val accuracy: 0.804791\n",
            "Average loss: 0.704126, Train accuracy: 0.784476, Val accuracy: 0.805884\n",
            "--------------------------------------------------\n",
            "Hyperparams(learning_rate=0.001, anneal_epochs=15, reg=1e-05)\n",
            "Average loss: 0.766335, Train accuracy: 0.768283, Val accuracy: 0.799331\n",
            "Average loss: 0.702498, Train accuracy: 0.786114, Val accuracy: 0.810798\n",
            "Average loss: 0.672289, Train accuracy: 0.794458, Val accuracy: 0.814825\n",
            "Average loss: 0.665351, Train accuracy: 0.797922, Val accuracy: 0.818579\n",
            "Average loss: 0.648727, Train accuracy: 0.801710, Val accuracy: 0.820012\n",
            "Average loss: 0.645262, Train accuracy: 0.803024, Val accuracy: 0.822196\n",
            "Average loss: 0.642394, Train accuracy: 0.804849, Val accuracy: 0.824517\n",
            "Average loss: 0.634039, Train accuracy: 0.807750, Val accuracy: 0.825950\n",
            "Average loss: 0.630607, Train accuracy: 0.808808, Val accuracy: 0.826906\n",
            "Average loss: 0.628299, Train accuracy: 0.809849, Val accuracy: 0.828339\n",
            "Average loss: 0.619484, Train accuracy: 0.811965, Val accuracy: 0.829568\n",
            "Average loss: 0.617502, Train accuracy: 0.811060, Val accuracy: 0.829431\n",
            "Average loss: 0.614353, Train accuracy: 0.813432, Val accuracy: 0.830046\n",
            "Average loss: 0.613955, Train accuracy: 0.813569, Val accuracy: 0.830251\n",
            "Average loss: 0.611622, Train accuracy: 0.812204, Val accuracy: 0.830251\n",
            "--------------------------------------------------\n",
            "Hyperparams(learning_rate=0.01, anneal_epochs=5, reg=0.0001)\n",
            "Average loss: 0.667267, Train accuracy: 0.797973, Val accuracy: 0.827725\n",
            "Average loss: 0.610516, Train accuracy: 0.814951, Val accuracy: 0.830728\n",
            "Average loss: 0.585711, Train accuracy: 0.821759, Val accuracy: 0.834346\n",
            "Average loss: 0.579382, Train accuracy: 0.822458, Val accuracy: 0.837349\n",
            "Average loss: 0.565133, Train accuracy: 0.828192, Val accuracy: 0.838851\n",
            "--------------------------------------------------\n"
          ],
          "name": "stdout"
        }
      ]
    },
    {
      "cell_type": "code",
      "metadata": {
        "colab": {
          "base_uri": "https://localhost:8080/"
        },
        "id": "Y6xExdw8JB1l",
        "outputId": "1515418e-e3aa-4072-e75b-cabc46eb5a1c"
      },
      "source": [
        "best_val_accuracy = None\n",
        "best_hyperparams = None\n",
        "best_run = None\n",
        "\n",
        "for hyperparams, run_result in run_record.items():\n",
        "    if best_val_accuracy is None or best_val_accuracy < run_result.final_val_accuracy:\n",
        "        best_val_accuracy = run_result.final_val_accuracy\n",
        "        best_hyperparams = hyperparams\n",
        "        best_run = run_result\n",
        "        \n",
        "print(\"Best validation accuracy: %4.2f, best hyperparams: %s\" % (best_val_accuracy, best_hyperparams))\n",
        "        "
      ],
      "execution_count": 49,
      "outputs": [
        {
          "output_type": "stream",
          "text": [
            "Best validation accuracy: 0.86, best hyperparams: Hyperparams(learning_rate=0.1, anneal_epochs=10, reg=1e-07)\n"
          ],
          "name": "stdout"
        }
      ]
    },
    {
      "cell_type": "markdown",
      "metadata": {
        "id": "LOmsR0uVgtgf"
      },
      "source": [
        "# Свободное упражнение - догоним и перегоним LeNet!\n",
        "\n",
        "Попробуйте найти архитектуру и настройки тренировки, чтобы выступить лучше наших бейзлайнов.\n",
        "\n",
        "Что можно и нужно попробовать:\n",
        "- BatchNormalization (для convolution layers он в PyTorch называется [batchnorm2d](https://pytorch.org/docs/stable/nn.html#batchnorm2d))\n",
        "- Изменить количество слоев и их толщину\n",
        "- Изменять количество эпох тренировки\n",
        "- Попробовать и другие агментации"
      ]
    },
    {
      "cell_type": "code",
      "metadata": {
        "colab": {
          "base_uri": "https://localhost:8080/"
        },
        "id": "tSVhD747icoc",
        "outputId": "9806c14f-616c-4d55-cd0f-d99c0b774cc0"
      },
      "source": [
        "best_model = nn.Sequential(\n",
        "              nn.Conv2d(3, 64, kernel_size=(3, 3)),\n",
        "              nn.MaxPool2d(kernel_size=(2, 2), stride=2),\n",
        "              nn.BatchNorm2d(64),\n",
        "              nn.ReLU(inplace=True),\n",
        "\n",
        "              nn.Conv2d(64, 128, kernel_size=(3, 3)),\n",
        "              nn.MaxPool2d(kernel_size=(2, 2), stride=2),\n",
        "              nn.BatchNorm2d(128),\n",
        "              nn.ReLU(inplace=True),\n",
        "\n",
        "              nn.Conv2d(128, 256, kernel_size=(3, 3)),\n",
        "              nn.MaxPool2d(kernel_size=(2, 2), stride=2),\n",
        "              nn.BatchNorm2d(256),\n",
        "              nn.ReLU(inplace=True),\n",
        "\n",
        "              Flattener(),\n",
        "              nn.Linear(256 * 2 * 2, 128),\n",
        "              nn.BatchNorm1d(128),\n",
        "              nn.ReLU(inplace=True),\n",
        "\n",
        "              nn.Linear(128, 10)\n",
        "            )\n",
        "\n",
        "best_model.type(torch.cuda.FloatTensor)\n",
        "best_model.to(device)\n",
        "\n",
        "optimizer = optim.Adam(best_model.parameters(), lr=1e-3, weight_decay=1e-5)\n",
        "\n",
        "loss_history, train_history, val_history = train_model(best_model, train_aug_loader, val_loader, loss, optimizer, 20)"
      ],
      "execution_count": 15,
      "outputs": [
        {
          "output_type": "stream",
          "text": [
            "Average loss: 0.613664, Train accuracy: 0.809422, Val accuracy: 0.896662\n",
            "Average loss: 0.336216, Train accuracy: 0.897724, Val accuracy: 0.912566\n",
            "Average loss: 0.279885, Train accuracy: 0.916305, Val accuracy: 0.923691\n",
            "Average loss: 0.242542, Train accuracy: 0.927499, Val accuracy: 0.925875\n",
            "Average loss: 0.214056, Train accuracy: 0.935143, Val accuracy: 0.925193\n",
            "Average loss: 0.190725, Train accuracy: 0.943760, Val accuracy: 0.929015\n",
            "Average loss: 0.170181, Train accuracy: 0.948469, Val accuracy: 0.925671\n",
            "Average loss: 0.149818, Train accuracy: 0.953708, Val accuracy: 0.927240\n",
            "Average loss: 0.138909, Train accuracy: 0.956643, Val accuracy: 0.924510\n",
            "Average loss: 0.124092, Train accuracy: 0.960806, Val accuracy: 0.926148\n",
            "Average loss: 0.113244, Train accuracy: 0.963621, Val accuracy: 0.926421\n",
            "Average loss: 0.102920, Train accuracy: 0.967051, Val accuracy: 0.928469\n",
            "Average loss: 0.093474, Train accuracy: 0.969525, Val accuracy: 0.928537\n",
            "Average loss: 0.087688, Train accuracy: 0.971249, Val accuracy: 0.928128\n",
            "Average loss: 0.083791, Train accuracy: 0.972409, Val accuracy: 0.924783\n",
            "Average loss: 0.075656, Train accuracy: 0.974815, Val accuracy: 0.924852\n",
            "Average loss: 0.069415, Train accuracy: 0.977460, Val accuracy: 0.927240\n",
            "Average loss: 0.064343, Train accuracy: 0.978876, Val accuracy: 0.927582\n",
            "Average loss: 0.067606, Train accuracy: 0.977340, Val accuracy: 0.927377\n",
            "Average loss: 0.061405, Train accuracy: 0.978978, Val accuracy: 0.919186\n"
          ],
          "name": "stdout"
        }
      ]
    },
    {
      "cell_type": "markdown",
      "metadata": {
        "id": "ubeKgBcnhx7N"
      },
      "source": [
        "# Финальный аккорд - проверим лучшую модель на test set\n",
        "\n",
        "В качестве разнообразия - напишите код для прогона модели на test set вы.\n",
        "\n",
        "В результате вы должны натренировать модель, которая покажет более **90%** точности на test set.  \n",
        "Как водится, лучший результат в группе получит дополнительные баллы!"
      ]
    },
    {
      "cell_type": "code",
      "metadata": {
        "colab": {
          "base_uri": "https://localhost:8080/"
        },
        "id": "EIqM1kdeh-hd",
        "outputId": "6404b238-3221-4a2b-ee7f-4ef39c3d4d84"
      },
      "source": [
        "# TODO Write the code to compute accuracy on test set\n",
        "test_loader = torch.utils.data.DataLoader(data_test, batch_size=batch_size)\n",
        "final_test_accuracy = compute_accuracy(best_model, test_loader)\n",
        "print(\"Final test accuracy - \", final_test_accuracy)"
      ],
      "execution_count": 17,
      "outputs": [
        {
          "output_type": "stream",
          "text": [
            "Final test accuracy -  tensor(0.9179, device='cuda:0')\n"
          ],
          "name": "stdout"
        }
      ]
    },
    {
      "cell_type": "code",
      "metadata": {
        "id": "BfH6qip6kVX_"
      },
      "source": [
        ""
      ],
      "execution_count": null,
      "outputs": []
    }
  ]
}